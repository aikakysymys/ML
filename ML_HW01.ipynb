{
 "cells": [
  {
   "cell_type": "code",
   "execution_count": 1,
   "metadata": {
    "collapsed": false
   },
   "outputs": [
    {
     "name": "stdout",
     "output_type": "stream",
     "text": [
      "--2019-03-04 23:07:13--  https://www.dropbox.com/s/nd7v1fod89xla6j/vk_texts_with_sources.csv\n",
      "Распознаётся www.dropbox.com (www.dropbox.com)… 162.125.70.1\n",
      "Подключение к www.dropbox.com (www.dropbox.com)|162.125.70.1|:443... соединение установлено.\n",
      "HTTP-запрос отправлен. Ожидание ответа… 301 Moved Permanently\n",
      "Адрес: /s/raw/nd7v1fod89xla6j/vk_texts_with_sources.csv [переход]\n",
      "--2019-03-04 23:07:14--  https://www.dropbox.com/s/raw/nd7v1fod89xla6j/vk_texts_with_sources.csv\n",
      "Повторное использование соединения с www.dropbox.com:443.\n",
      "HTTP-запрос отправлен. Ожидание ответа… 302 Found\n",
      "Адрес: https://ucd4f9bfb1c342c3e972240f70d1.dl.dropboxusercontent.com/cd/0/inline/AcfCUtOhNQXUEz6qhi7m2JXDiK5prOau2aPZv6h2MVrNXVYl9rEgwX5V-XNiK7-hIcEHeNlg8avUvAGH9Pf7Fs_-ghu88p3U48AOSzlM6djauGY0qKKzE06ZwM06wlZOyzk/file# [переход]\n",
      "--2019-03-04 23:07:14--  https://ucd4f9bfb1c342c3e972240f70d1.dl.dropboxusercontent.com/cd/0/inline/AcfCUtOhNQXUEz6qhi7m2JXDiK5prOau2aPZv6h2MVrNXVYl9rEgwX5V-XNiK7-hIcEHeNlg8avUvAGH9Pf7Fs_-ghu88p3U48AOSzlM6djauGY0qKKzE06ZwM06wlZOyzk/file\n",
      "Распознаётся ucd4f9bfb1c342c3e972240f70d1.dl.dropboxusercontent.com (ucd4f9bfb1c342c3e972240f70d1.dl.dropboxusercontent.com)… 162.125.70.6\n",
      "Подключение к ucd4f9bfb1c342c3e972240f70d1.dl.dropboxusercontent.com (ucd4f9bfb1c342c3e972240f70d1.dl.dropboxusercontent.com)|162.125.70.6|:443... соединение установлено.\n",
      "HTTP-запрос отправлен. Ожидание ответа… 200 OK\n",
      "Длина: 14406837 (14M) [text/plain]\n",
      "Сохранение в: «vk_texts_with_sources.csv.1»\n",
      "\n",
      "vk_texts_with_sourc 100%[===================>]  13,74M  3,49MB/s    за 4,1s    \n",
      "\n",
      "2019-03-04 23:07:19 (3,34 MB/s) - «vk_texts_with_sources.csv.1» сохранён [14406837/14406837]\n",
      "\n"
     ]
    }
   ],
   "source": [
    "!wget https://www.dropbox.com/s/nd7v1fod89xla6j/vk_texts_with_sources.csv"
   ]
  },
  {
   "cell_type": "code",
   "execution_count": 2,
   "metadata": {
    "collapsed": false
   },
   "outputs": [
    {
     "data": {
      "text/html": [
       "<div>\n",
       "<style scoped>\n",
       "    .dataframe tbody tr th:only-of-type {\n",
       "        vertical-align: middle;\n",
       "    }\n",
       "\n",
       "    .dataframe tbody tr th {\n",
       "        vertical-align: top;\n",
       "    }\n",
       "\n",
       "    .dataframe thead th {\n",
       "        text-align: right;\n",
       "    }\n",
       "</style>\n",
       "<table border=\"1\" class=\"dataframe\">\n",
       "  <thead>\n",
       "    <tr style=\"text-align: right;\">\n",
       "      <th></th>\n",
       "      <th>text</th>\n",
       "      <th>source</th>\n",
       "    </tr>\n",
       "  </thead>\n",
       "  <tbody>\n",
       "    <tr>\n",
       "      <th>0</th>\n",
       "      <td>Начальник Главного оперативного управления Ген...</td>\n",
       "      <td>mil</td>\n",
       "    </tr>\n",
       "    <tr>\n",
       "      <th>1</th>\n",
       "      <td>Артиллерийские подразделения общевойскового об...</td>\n",
       "      <td>mil</td>\n",
       "    </tr>\n",
       "    <tr>\n",
       "      <th>2</th>\n",
       "      <td>Подразделения морской пехоты Каспийской флотил...</td>\n",
       "      <td>mil</td>\n",
       "    </tr>\n",
       "    <tr>\n",
       "      <th>3</th>\n",
       "      <td>Команды на всеармейских этапах конкурсов АрМИ-...</td>\n",
       "      <td>mil</td>\n",
       "    </tr>\n",
       "    <tr>\n",
       "      <th>4</th>\n",
       "      <td>На большом учебно-методическом командирском сб...</td>\n",
       "      <td>mil</td>\n",
       "    </tr>\n",
       "  </tbody>\n",
       "</table>\n",
       "</div>"
      ],
      "text/plain": [
       "                                                text source\n",
       "0  Начальник Главного оперативного управления Ген...    mil\n",
       "1  Артиллерийские подразделения общевойскового об...    mil\n",
       "2  Подразделения морской пехоты Каспийской флотил...    mil\n",
       "3  Команды на всеармейских этапах конкурсов АрМИ-...    mil\n",
       "4  На большом учебно-методическом командирском сб...    mil"
      ]
     },
     "execution_count": 2,
     "metadata": {},
     "output_type": "execute_result"
    }
   ],
   "source": [
    "import pandas as pd\n",
    "df = pd.read_csv('vk_texts_with_sources.csv', usecols = ['text', 'source'])\n",
    "df.head()"
   ]
  },
  {
   "cell_type": "markdown",
   "metadata": {},
   "source": [
    "## Задание 1\n",
    "Посчитайте:\n",
    "* количество текстов и количество классов\n",
    "* количество слов (без лемматизации и с лемматизацией) в коллекции\n",
    "* среднюю длину текста в словах и символах\n",
    "* найдите 5 самых частых существительных в текстах каждого паблика \n",
    "\n",
    "*Рекомендуем использовать pandas для расчета описательных статистик.*"
   ]
  },
  {
   "cell_type": "code",
   "execution_count": 13,
   "metadata": {
    "collapsed": false
   },
   "outputs": [
    {
     "data": {
      "text/plain": [
       "text      11625\n",
       "source    11625\n",
       "dtype: int64"
      ]
     },
     "execution_count": 13,
     "metadata": {},
     "output_type": "execute_result"
    }
   ],
   "source": [
    "df.count()"
   ]
  },
  {
   "cell_type": "code",
   "execution_count": 2,
   "metadata": {
    "collapsed": false,
    "scrolled": false
   },
   "outputs": [
    {
     "name": "stdout",
     "output_type": "stream",
     "text": [
      "11625 4\n"
     ]
    }
   ],
   "source": [
    "n_texts = len(df) #кол-во текстов\n",
    "n_categories = len(df.source.value_counts()) #кол-во классов\n",
    "print(n_texts, n_categories)"
   ]
  },
  {
   "cell_type": "code",
   "execution_count": 6,
   "metadata": {
    "collapsed": false,
    "scrolled": false
   },
   "outputs": [
    {
     "data": {
      "text/plain": [
       "mchsgov        3030\n",
       "mil            3030\n",
       "mospolice      2910\n",
       "russianpost    2655\n",
       "Name: source, dtype: int64"
      ]
     },
     "execution_count": 6,
     "metadata": {},
     "output_type": "execute_result"
    }
   ],
   "source": [
    "df.source.value_counts()"
   ]
  },
  {
   "cell_type": "code",
   "execution_count": 3,
   "metadata": {
    "collapsed": false
   },
   "outputs": [],
   "source": [
    "#избавляемся от <br> в тексте\n",
    "import re\n",
    "\n",
    "for i in df.index:\n",
    "    df.loc[i, \"text\"] = re.sub('<.*?>', ' ', str(df.text[i]))        "
   ]
  },
  {
   "cell_type": "code",
   "execution_count": 32,
   "metadata": {
    "collapsed": false
   },
   "outputs": [
    {
     "data": {
      "text/plain": [
       "84725"
      ]
     },
     "execution_count": 32,
     "metadata": {},
     "output_type": "execute_result"
    }
   ],
   "source": [
    "from string import punctuation\n",
    "punct = punctuation+'«»—…“”*№–'\n",
    "\n",
    "words = []\n",
    "for text in df.text:\n",
    "    text = text.split()\n",
    "    for word in text:\n",
    "        words.append(word.strip(punct))\n",
    "words = [w.lower() for w in words if w]\n",
    "\n",
    "wordcount = len(set(words)) #число уникальных слов без лемматизации\n",
    "wordcount"
   ]
  },
  {
   "cell_type": "code",
   "execution_count": 34,
   "metadata": {
    "collapsed": false
   },
   "outputs": [],
   "source": [
    "import pymorphy2\n",
    "morph = pymorphy2.MorphAnalyzer()"
   ]
  },
  {
   "cell_type": "code",
   "execution_count": null,
   "metadata": {
    "collapsed": true
   },
   "outputs": [],
   "source": [
    "words_lemmatized = [morph.parse(w)[0].normal_form for w in words]"
   ]
  },
  {
   "cell_type": "code",
   "execution_count": 12,
   "metadata": {
    "collapsed": false
   },
   "outputs": [
    {
     "data": {
      "text/plain": [
       "39129"
      ]
     },
     "execution_count": 12,
     "metadata": {},
     "output_type": "execute_result"
    }
   ],
   "source": [
    "lemma_wordcount = len(set(words_lemmatized)) #число уникальных слов с лемматизацией\n",
    "lemma_wordcount "
   ]
  },
  {
   "cell_type": "code",
   "execution_count": 6,
   "metadata": {
    "collapsed": false
   },
   "outputs": [
    {
     "data": {
      "text/plain": [
       "83.911913978494624"
      ]
     },
     "execution_count": 6,
     "metadata": {},
     "output_type": "execute_result"
    }
   ],
   "source": [
    "import numpy as np\n",
    "\n",
    "word_lists = [[w.strip(punct) for w in text.split() if w.strip(punct)] for text in df.text]\n",
    "mean_words = np.mean([len(text) for text in word_lists]) #среднее число слов в тексте\n",
    "mean_words"
   ]
  },
  {
   "cell_type": "code",
   "execution_count": 7,
   "metadata": {
    "collapsed": false
   },
   "outputs": [
    {
     "data": {
      "text/plain": [
       "True"
      ]
     },
     "execution_count": 7,
     "metadata": {},
     "output_type": "execute_result"
    }
   ],
   "source": [
    "len(word_lists) == len(df.index)"
   ]
  },
  {
   "cell_type": "code",
   "execution_count": 13,
   "metadata": {
    "collapsed": false
   },
   "outputs": [
    {
     "data": {
      "text/plain": [
       "667.45255913978497"
      ]
     },
     "execution_count": 13,
     "metadata": {},
     "output_type": "execute_result"
    }
   ],
   "source": [
    "symbol_lists = [[s for s in text] for text in df.text]\n",
    "mean_symbols = np.mean([len(text) for text in symbol_lists]) #среднее число символов в тексте\n",
    "mean_symbols"
   ]
  },
  {
   "cell_type": "code",
   "execution_count": 14,
   "metadata": {
    "collapsed": false
   },
   "outputs": [
    {
     "data": {
      "text/plain": [
       "mchsgov        3030\n",
       "mil            3030\n",
       "mospolice      2910\n",
       "russianpost    2655\n",
       "Name: source, dtype: int64"
      ]
     },
     "execution_count": 14,
     "metadata": {},
     "output_type": "execute_result"
    }
   ],
   "source": [
    "df.source.value_counts()"
   ]
  },
  {
   "cell_type": "markdown",
   "metadata": {},
   "source": [
    "Для нахождения 5 самых частотных сущствительных в каждом классе создадим словарь вида \"класс-тексты этого класса\" и напишем программу, которая посчитает 5 самых частотных существительных в каждом классе и запишет в словарь. "
   ]
  },
  {
   "cell_type": "code",
   "execution_count": 47,
   "metadata": {
    "collapsed": false
   },
   "outputs": [],
   "source": [
    "classes = ['mchsgov', 'mil', 'mospolice', 'russianpost']\n",
    "dictionary = {}\n",
    "for i in classes:\n",
    "    text = ' '.join(df.loc[df[\"source\"]==i].text)\n",
    "    dictionary[i] = text"
   ]
  },
  {
   "cell_type": "code",
   "execution_count": 48,
   "metadata": {
    "collapsed": false
   },
   "outputs": [],
   "source": [
    "from collections import Counter\n",
    "\n",
    "\n",
    "def get_five_nouns(dictionary):\n",
    "    most_common = {}\n",
    "    for class_, text in dictionary.items():\n",
    "        words = []\n",
    "        text = text.split()\n",
    "        for word in text:\n",
    "            words.append(word.strip(punct))\n",
    "        words = [w.lower() for w in words if w]\n",
    "        nouns = [morph.parse(w)[0].normal_form for w in text if w and morph.parse(w)[0].tag.POS == 'NOUN'] \n",
    "        five_nouns = [n[0] for n in Counter(nouns).most_common(5)]\n",
    "        most_common[class_] = five_nouns\n",
    "    return most_common"
   ]
  },
  {
   "cell_type": "code",
   "execution_count": null,
   "metadata": {
    "collapsed": false
   },
   "outputs": [],
   "source": [
    "nouns = get_five_nouns(dictionary) "
   ]
  },
  {
   "cell_type": "code",
   "execution_count": 18,
   "metadata": {
    "collapsed": false
   },
   "outputs": [
    {
     "data": {
      "text/plain": [
       "{'mchsgov': ['#мчс', '#мчсроссия', 'мчс', 'россия', 'спасатель'],\n",
       " 'mil': ['#минобороны', 'военный', 'россия', 'год', 'оборона'],\n",
       " 'mospolice': ['россия', 'мвд', 'москва', 'полиция', 'сотрудник'],\n",
       " 'russianpost': ['почта', 'россия', 'год', 'отделение', '#почтароссия']}"
      ]
     },
     "execution_count": 18,
     "metadata": {},
     "output_type": "execute_result"
    }
   ],
   "source": [
    "nouns #5 самых частых существительных в текстах каждого паблика"
   ]
  },
  {
   "cell_type": "code",
   "execution_count": 35,
   "metadata": {
    "collapsed": false
   },
   "outputs": [],
   "source": [
    "#для последующих заданий лемматизируем word_lists и добавим их в датафрейм\n",
    "word_lists = [[w.strip(punct) for w in text.split() if w.strip(punct)] for text in df.text]\n",
    "lemmas_list = []\n",
    "for list_ in word_lists:\n",
    "    lemmas = [morph.parse(w)[0].normal_form for w in list_]\n",
    "    lemmas_list.append(lemmas)"
   ]
  },
  {
   "cell_type": "code",
   "execution_count": 36,
   "metadata": {
    "collapsed": false
   },
   "outputs": [
    {
     "data": {
      "text/html": [
       "<div>\n",
       "<style scoped>\n",
       "    .dataframe tbody tr th:only-of-type {\n",
       "        vertical-align: middle;\n",
       "    }\n",
       "\n",
       "    .dataframe tbody tr th {\n",
       "        vertical-align: top;\n",
       "    }\n",
       "\n",
       "    .dataframe thead th {\n",
       "        text-align: right;\n",
       "    }\n",
       "</style>\n",
       "<table border=\"1\" class=\"dataframe\">\n",
       "  <thead>\n",
       "    <tr style=\"text-align: right;\">\n",
       "      <th></th>\n",
       "      <th>text</th>\n",
       "      <th>source</th>\n",
       "      <th>lemmas</th>\n",
       "    </tr>\n",
       "  </thead>\n",
       "  <tbody>\n",
       "    <tr>\n",
       "      <th>0</th>\n",
       "      <td>Начальник Главного оперативного управления Ген...</td>\n",
       "      <td>mil</td>\n",
       "      <td>[начальник, главный, оперативный, управление, ...</td>\n",
       "    </tr>\n",
       "    <tr>\n",
       "      <th>1</th>\n",
       "      <td>Артиллерийские подразделения общевойскового об...</td>\n",
       "      <td>mil</td>\n",
       "      <td>[артиллерийский, подразделение, общевойсковой,...</td>\n",
       "    </tr>\n",
       "    <tr>\n",
       "      <th>2</th>\n",
       "      <td>Подразделения морской пехоты Каспийской флотил...</td>\n",
       "      <td>mil</td>\n",
       "      <td>[подразделение, морской, пехота, каспийский, ф...</td>\n",
       "    </tr>\n",
       "    <tr>\n",
       "      <th>3</th>\n",
       "      <td>Команды на всеармейских этапах конкурсов АрМИ-...</td>\n",
       "      <td>mil</td>\n",
       "      <td>[команда, на, всеармейский, этап, конкурс, арм...</td>\n",
       "    </tr>\n",
       "    <tr>\n",
       "      <th>4</th>\n",
       "      <td>На большом учебно-методическом командирском сб...</td>\n",
       "      <td>mil</td>\n",
       "      <td>[на, большой, учебно-методический, командирски...</td>\n",
       "    </tr>\n",
       "  </tbody>\n",
       "</table>\n",
       "</div>"
      ],
      "text/plain": [
       "                                                text source  \\\n",
       "0  Начальник Главного оперативного управления Ген...    mil   \n",
       "1  Артиллерийские подразделения общевойскового об...    mil   \n",
       "2  Подразделения морской пехоты Каспийской флотил...    mil   \n",
       "3  Команды на всеармейских этапах конкурсов АрМИ-...    mil   \n",
       "4  На большом учебно-методическом командирском сб...    mil   \n",
       "\n",
       "                                              lemmas  \n",
       "0  [начальник, главный, оперативный, управление, ...  \n",
       "1  [артиллерийский, подразделение, общевойсковой,...  \n",
       "2  [подразделение, морской, пехота, каспийский, ф...  \n",
       "3  [команда, на, всеармейский, этап, конкурс, арм...  \n",
       "4  [на, большой, учебно-методический, командирски...  "
      ]
     },
     "execution_count": 36,
     "metadata": {},
     "output_type": "execute_result"
    }
   ],
   "source": [
    "df.insert(loc = 2, column = 'lemmas', value = lemmas_list)\n",
    "df.head()"
   ]
  },
  {
   "cell_type": "markdown",
   "metadata": {},
   "source": [
    "Разделим коллекцию текстов на обучающую и тестовую части. "
   ]
  },
  {
   "cell_type": "code",
   "execution_count": 37,
   "metadata": {
    "collapsed": false
   },
   "outputs": [],
   "source": [
    "from sklearn.utils import shuffle\n",
    "from sklearn.model_selection import train_test_split\n",
    "\n",
    "data = shuffle(df)\n",
    "\n",
    "train, test = train_test_split(data, test_size=0.1)"
   ]
  },
  {
   "cell_type": "markdown",
   "metadata": {},
   "source": [
    "## Задание 2. Классификация по правилам\n",
    "\n",
    "### 1. Потестируем первый правиловый классификатор"
   ]
  },
  {
   "cell_type": "code",
   "execution_count": 38,
   "metadata": {
    "collapsed": false
   },
   "outputs": [],
   "source": [
    "import random\n",
    "\n",
    "def rule_classifier1(text):\n",
    "    if 'мчс' in text:\n",
    "        return 'mchsgov'\n",
    "    elif 'оборона' in text:\n",
    "        return 'mil'\n",
    "    elif 'мвд' in text:\n",
    "        return 'mospolice'\n",
    "    elif 'почта' in text:\n",
    "        return'russianpost'\n",
    "    elif '#мчс' in text:\n",
    "        return 'mchsgov'\n",
    "    elif '#мчсроссия' in text:\n",
    "        return 'mchsgov'\n",
    "    elif 'полиция' in text:\n",
    "        return 'mospolice'\n",
    "    elif 'отделение' in text:\n",
    "        return 'russianpost'\n",
    "    else:\n",
    "        return random.choice(['mchsgov', 'mospolice', 'russianpost', 'mil']) \n",
    "    #использем random.choice для определения класса текстов, в которых нет слов из правил"
   ]
  },
  {
   "cell_type": "code",
   "execution_count": 39,
   "metadata": {
    "collapsed": false
   },
   "outputs": [
    {
     "name": "stdout",
     "output_type": "stream",
     "text": [
      "['mil', 'russianpost', 'mchsgov', 'mospolice', 'russianpost', 'mil', 'russianpost', 'russianpost', 'mil', 'mil', 'mchsgov', 'mchsgov', 'mchsgov', 'mospolice', 'russianpost', 'mospolice', 'mospolice', 'mospolice', 'mospolice', 'russianpost']\n"
     ]
    }
   ],
   "source": [
    "predictions = []\n",
    "for text in test.lemmas:\n",
    "    class_ = rule_classifier1(text)\n",
    "    if class_ == None:\n",
    "        predictions.append('')\n",
    "    else:\n",
    "        predictions.append(class_)\n",
    "print(predictions[:20])"
   ]
  },
  {
   "cell_type": "code",
   "execution_count": 40,
   "metadata": {
    "collapsed": true
   },
   "outputs": [],
   "source": [
    "predictions_array = np.asarray(predictions)"
   ]
  },
  {
   "cell_type": "code",
   "execution_count": 41,
   "metadata": {
    "collapsed": false
   },
   "outputs": [],
   "source": [
    "from sklearn.metrics import *\n",
    "def evaluate(right_classes, predicted_classes):\n",
    "    # макро-усреднение\n",
    "    print(\"Precision: {0:6.2f}\".format(precision_score(right_classes, predicted_classes, average='macro')))\n",
    "    print(\"Recall: {0:6.2f}\".format(recall_score(right_classes, predicted_classes, average='macro')))\n",
    "    print(\"F1-measure: {0:6.2f}\".format(f1_score(right_classes, predicted_classes, average='macro')))\n",
    "\n",
    "    print(\"...\")\n",
    "    # микро-усреднение\n",
    "    print(\"Precision: {0:6.2f}\".format(precision_score(right_classes, predicted_classes, average='micro')))\n",
    "    print(\"Recall: {0:6.2f}\".format(recall_score(right_classes, predicted_classes, average='micro')))\n",
    "    print(\"F1-measure: {0:6.2f}\".format(f1_score(right_classes, predicted_classes, average='micro')))\n",
    "\n",
    "    print(\"...\")\n",
    "    # accuracy\n",
    "    print(\"Accuracy: {0:6.2f}\".format(accuracy_score(right_classes, predicted_classes)))"
   ]
  },
  {
   "cell_type": "code",
   "execution_count": 42,
   "metadata": {
    "collapsed": false
   },
   "outputs": [
    {
     "name": "stdout",
     "output_type": "stream",
     "text": [
      "Precision:   0.72\n",
      "Recall:   0.73\n",
      "F1-measure:   0.71\n",
      "...\n",
      "Precision:   0.72\n",
      "Recall:   0.72\n",
      "F1-measure:   0.72\n",
      "...\n",
      "Accuracy:   0.72\n"
     ]
    }
   ],
   "source": [
    "evaluate(test.source, predictions_array)"
   ]
  },
  {
   "cell_type": "code",
   "execution_count": 28,
   "metadata": {
    "collapsed": false,
    "scrolled": true
   },
   "outputs": [
    {
     "name": "stdout",
     "output_type": "stream",
     "text": [
      "             precision    recall  f1-score   support\n",
      "\n",
      "    mchsgov       0.75      0.84      0.79       329\n",
      "        mil       0.70      0.34      0.46       283\n",
      "  mospolice       0.71      0.96      0.82       279\n",
      "russianpost       0.66      0.68      0.67       272\n",
      "\n",
      "avg / total       0.71      0.71      0.69      1163\n",
      "\n"
     ]
    }
   ],
   "source": [
    "print(classification_report(test.source, predictions_array)) "
   ]
  },
  {
   "cell_type": "markdown",
   "metadata": {},
   "source": [
    "### 2. Потестируем второй классификатор, в котором класс определяется максимальным пересечением множеств слов текста и 5 самых частотных существительных класса"
   ]
  },
  {
   "cell_type": "code",
   "execution_count": 43,
   "metadata": {
    "collapsed": false
   },
   "outputs": [],
   "source": [
    "def rule_classifier2(text, nouns):\n",
    "    text = set(text)\n",
    "    overlaps = []\n",
    "    for class_, words in nouns.items():\n",
    "        overlap = text & set(words)\n",
    "        overlaps.append(tuple([class_, overlap]))\n",
    "    \n",
    "    max_overlap = 0\n",
    "    for overlap in overlaps:\n",
    "        if len(overlap[1]) > max_overlap:\n",
    "            max_overlap = len(overlap[1])\n",
    "    \n",
    "    for overlap in overlaps:\n",
    "        if max_overlap == len(overlap[1]):\n",
    "            return(overlap[0])"
   ]
  },
  {
   "cell_type": "code",
   "execution_count": 44,
   "metadata": {
    "collapsed": false,
    "scrolled": true
   },
   "outputs": [
    {
     "ename": "NameError",
     "evalue": "name 'nouns' is not defined",
     "output_type": "error",
     "traceback": [
      "\u001b[0;31m---------------------------------------------------------------------------\u001b[0m",
      "\u001b[0;31mNameError\u001b[0m                                 Traceback (most recent call last)",
      "\u001b[0;32m<ipython-input-44-7fee356115e3>\u001b[0m in \u001b[0;36m<module>\u001b[0;34m()\u001b[0m\n\u001b[1;32m      1\u001b[0m \u001b[0mpredictions2\u001b[0m \u001b[0;34m=\u001b[0m \u001b[0;34m[\u001b[0m\u001b[0;34m]\u001b[0m\u001b[0;34m\u001b[0m\u001b[0;34m\u001b[0m\u001b[0m\n\u001b[1;32m      2\u001b[0m \u001b[0;32mfor\u001b[0m \u001b[0mtext\u001b[0m \u001b[0;32min\u001b[0m \u001b[0mtest\u001b[0m\u001b[0;34m.\u001b[0m\u001b[0mlemmas\u001b[0m\u001b[0;34m:\u001b[0m\u001b[0;34m\u001b[0m\u001b[0;34m\u001b[0m\u001b[0m\n\u001b[0;32m----> 3\u001b[0;31m     \u001b[0mclass_\u001b[0m \u001b[0;34m=\u001b[0m \u001b[0mrule_classifier2\u001b[0m\u001b[0;34m(\u001b[0m\u001b[0mtext\u001b[0m\u001b[0;34m,\u001b[0m \u001b[0mnouns\u001b[0m\u001b[0;34m)\u001b[0m\u001b[0;34m\u001b[0m\u001b[0;34m\u001b[0m\u001b[0m\n\u001b[0m\u001b[1;32m      4\u001b[0m     \u001b[0mpredictions2\u001b[0m\u001b[0;34m.\u001b[0m\u001b[0mappend\u001b[0m\u001b[0;34m(\u001b[0m\u001b[0mclass_\u001b[0m\u001b[0;34m)\u001b[0m\u001b[0;34m\u001b[0m\u001b[0;34m\u001b[0m\u001b[0m\n\u001b[1;32m      5\u001b[0m \u001b[0mpredictions2\u001b[0m\u001b[0;34m[\u001b[0m\u001b[0;34m:\u001b[0m\u001b[0;36m20\u001b[0m\u001b[0;34m]\u001b[0m\u001b[0;34m\u001b[0m\u001b[0;34m\u001b[0m\u001b[0m\n",
      "\u001b[0;31mNameError\u001b[0m: name 'nouns' is not defined"
     ]
    }
   ],
   "source": [
    "predictions2 = []\n",
    "for text in test.lemmas:\n",
    "    class_ = rule_classifier2(text, nouns)\n",
    "    predictions2.append(class_)\n",
    "predictions2[:20]"
   ]
  },
  {
   "cell_type": "code",
   "execution_count": 16,
   "metadata": {
    "collapsed": false
   },
   "outputs": [
    {
     "ename": "NameError",
     "evalue": "name 'predictions2' is not defined",
     "output_type": "error",
     "traceback": [
      "\u001b[0;31m---------------------------------------------------------------------------\u001b[0m",
      "\u001b[0;31mNameError\u001b[0m                                 Traceback (most recent call last)",
      "\u001b[0;32m<ipython-input-16-c06452190425>\u001b[0m in \u001b[0;36m<module>\u001b[0;34m()\u001b[0m\n\u001b[0;32m----> 1\u001b[0;31m \u001b[0mpredictions_array2\u001b[0m \u001b[0;34m=\u001b[0m \u001b[0mnp\u001b[0m\u001b[0;34m.\u001b[0m\u001b[0masarray\u001b[0m\u001b[0;34m(\u001b[0m\u001b[0mpredictions2\u001b[0m\u001b[0;34m)\u001b[0m\u001b[0;34m\u001b[0m\u001b[0;34m\u001b[0m\u001b[0m\n\u001b[0m\u001b[1;32m      2\u001b[0m \u001b[0mevaluate\u001b[0m\u001b[0;34m(\u001b[0m\u001b[0mtest\u001b[0m\u001b[0;34m.\u001b[0m\u001b[0msource\u001b[0m\u001b[0;34m,\u001b[0m \u001b[0mpredictions_array2\u001b[0m\u001b[0;34m)\u001b[0m\u001b[0;34m\u001b[0m\u001b[0;34m\u001b[0m\u001b[0m\n",
      "\u001b[0;31mNameError\u001b[0m: name 'predictions2' is not defined"
     ]
    }
   ],
   "source": [
    "predictions_array2 = np.asarray(predictions2)\n",
    "evaluate(test.source, predictions_array2)"
   ]
  },
  {
   "cell_type": "code",
   "execution_count": 32,
   "metadata": {
    "collapsed": false
   },
   "outputs": [
    {
     "name": "stdout",
     "output_type": "stream",
     "text": [
      "             precision    recall  f1-score   support\n",
      "\n",
      "    mchsgov       0.57      0.93      0.71       329\n",
      "        mil       0.66      0.44      0.53       283\n",
      "  mospolice       0.88      0.95      0.91       279\n",
      "russianpost       0.95      0.50      0.65       272\n",
      "\n",
      "avg / total       0.76      0.71      0.70      1163\n",
      "\n"
     ]
    }
   ],
   "source": [
    "print(classification_report(test.source, predictions_array2)) "
   ]
  },
  {
   "cell_type": "markdown",
   "metadata": {},
   "source": [
    "Как видно из результатов, мы не смогли придумать правило, которое никогда не ошибается.  "
   ]
  },
  {
   "cell_type": "markdown",
   "metadata": {},
   "source": [
    "## Задание 3 [4 балла]. Baseline\n",
    "Используйте стандартный ```sklearn.pipeline``` для классификации текстов: \n",
    "* векторизация \n",
    "* $tf-idf$ взвешивание \n",
    "* ваш любимый метод классификации.\n",
    "\n",
    "\n",
    "### 1. Попробуем мультиномиальный Байес "
   ]
  },
  {
   "cell_type": "code",
   "execution_count": 33,
   "metadata": {
    "collapsed": false
   },
   "outputs": [
    {
     "data": {
      "text/plain": [
       "239      Воспитанник Аксайского казачьего кадетского ко...\n",
       "321      Этап конкурса «Рембат» по эвакуации неисправно...\n",
       "349      Экипажи двух противолодочных самолетов Ил-38 С...\n",
       "10178    Полицейские задержали подозреваемых в разбойно...\n",
       "4284     #БудниМЧС #МЧС #МЧСРОССИИ   Собачий нос надежн...\n",
       "Name: text, dtype: object"
      ]
     },
     "execution_count": 33,
     "metadata": {},
     "output_type": "execute_result"
    }
   ],
   "source": [
    "test.text.head()"
   ]
  },
  {
   "cell_type": "code",
   "execution_count": 17,
   "metadata": {
    "collapsed": false
   },
   "outputs": [
    {
     "name": "stdout",
     "output_type": "stream",
     "text": [
      "CPU times: user 5.43 s, sys: 307 ms, total: 5.73 s\n",
      "Wall time: 5.87 s\n"
     ]
    },
    {
     "data": {
      "text/plain": [
       "Pipeline(memory=None,\n",
       "     steps=[('vect', CountVectorizer(analyzer='word', binary=False, decode_error='strict',\n",
       "        dtype=<class 'numpy.int64'>, encoding='utf-8', input='content',\n",
       "        lowercase=True, max_df=1.0, max_features=None, min_df=1,\n",
       "        ngram_range=(1, 2), preprocessor=None, stop_words=None,\n",
       "        strip...inear_tf=False, use_idf=True)), ('clf', MultinomialNB(alpha=1.0, class_prior=None, fit_prior=True))])"
      ]
     },
     "execution_count": 17,
     "metadata": {},
     "output_type": "execute_result"
    }
   ],
   "source": [
    "from sklearn.feature_extraction.text import *\n",
    "from sklearn.pipeline import Pipeline\n",
    "from sklearn.naive_bayes import MultinomialNB \n",
    "from sklearn.linear_model import LogisticRegression \n",
    "from sklearn.ensemble import RandomForestClassifier\n",
    "\n",
    "vectorizer = CountVectorizer(ngram_range=(1,2)) \n",
    "tfidf = TfidfTransformer()\n",
    "classifier = MultinomialNB()\n",
    "\n",
    "clf = Pipeline([\n",
    "    ('vect', vectorizer),\n",
    "    ('tfidf', tfidf),\n",
    "    ('clf', classifier)\n",
    "])\n",
    "%time clf.fit(train.text, train.source)"
   ]
  },
  {
   "cell_type": "code",
   "execution_count": 18,
   "metadata": {
    "collapsed": false
   },
   "outputs": [
    {
     "name": "stdout",
     "output_type": "stream",
     "text": [
      "Precision:   0.96\n",
      "Recall:   0.96\n",
      "F1-measure:   0.96\n",
      "...\n",
      "Precision:   0.96\n",
      "Recall:   0.96\n",
      "F1-measure:   0.96\n",
      "...\n",
      "Accuracy:   0.96\n"
     ]
    }
   ],
   "source": [
    "predictions3 = clf.predict(test.text)\n",
    "evaluate(test.source, predictions3)"
   ]
  },
  {
   "cell_type": "code",
   "execution_count": 23,
   "metadata": {
    "collapsed": false
   },
   "outputs": [
    {
     "ename": "NameError",
     "evalue": "name 'predictions3' is not defined",
     "output_type": "error",
     "traceback": [
      "\u001b[0;31m---------------------------------------------------------------------------\u001b[0m",
      "\u001b[0;31mNameError\u001b[0m                                 Traceback (most recent call last)",
      "\u001b[0;32m<ipython-input-23-20dfb70d4bc6>\u001b[0m in \u001b[0;36m<module>\u001b[0;34m()\u001b[0m\n\u001b[1;32m      3\u001b[0m \u001b[0;32mimport\u001b[0m \u001b[0mnumpy\u001b[0m \u001b[0;32mas\u001b[0m \u001b[0mnp\u001b[0m\u001b[0;34m\u001b[0m\u001b[0;34m\u001b[0m\u001b[0m\n\u001b[1;32m      4\u001b[0m \u001b[0;34m\u001b[0m\u001b[0m\n\u001b[0;32m----> 5\u001b[0;31m \u001b[0mm\u001b[0m \u001b[0;34m=\u001b[0m \u001b[0mconfusion_matrix\u001b[0m\u001b[0;34m(\u001b[0m\u001b[0mtest\u001b[0m\u001b[0;34m.\u001b[0m\u001b[0msource\u001b[0m\u001b[0;34m,\u001b[0m \u001b[0mpredictions3\u001b[0m\u001b[0;34m)\u001b[0m\u001b[0;34m\u001b[0m\u001b[0;34m\u001b[0m\u001b[0m\n\u001b[0m\u001b[1;32m      6\u001b[0m \u001b[0;34m\u001b[0m\u001b[0m\n\u001b[1;32m      7\u001b[0m \u001b[0mlabels\u001b[0m \u001b[0;34m=\u001b[0m \u001b[0mclf\u001b[0m\u001b[0;34m.\u001b[0m\u001b[0mclasses_\u001b[0m\u001b[0;34m\u001b[0m\u001b[0;34m\u001b[0m\u001b[0m\n",
      "\u001b[0;31mNameError\u001b[0m: name 'predictions3' is not defined"
     ]
    }
   ],
   "source": [
    "import matplotlib.pyplot as plt\n",
    "import seaborn as sns\n",
    "import numpy as np\n",
    "\n",
    "m = confusion_matrix(test.source, predictions3)\n",
    "\n",
    "labels = clf.classes_\n",
    "plt.figure(figsize = (15,15))\n",
    "sns.heatmap(data=m, annot=True, fmt=\"d\", cbar=False, xticklabels=labels, yticklabels=labels, cmap=\"PuRd\")\n",
    "plt.title(\"Confusion matrix\")\n",
    "plt.show()"
   ]
  },
  {
   "cell_type": "markdown",
   "metadata": {},
   "source": [
    "Мультиномиальный байес сработал неплохо. Попробуем другие:"
   ]
  },
  {
   "cell_type": "code",
   "execution_count": 37,
   "metadata": {
    "collapsed": false,
    "scrolled": false
   },
   "outputs": [
    {
     "name": "stdout",
     "output_type": "stream",
     "text": [
      "CPU times: user 11.5 s, sys: 479 ms, total: 11.9 s\n",
      "Wall time: 9.15 s\n"
     ]
    },
    {
     "data": {
      "text/plain": [
       "Pipeline(memory=None,\n",
       "     steps=[('vect', CountVectorizer(analyzer='word', binary=False, decode_error='strict',\n",
       "        dtype=<class 'numpy.int64'>, encoding='utf-8', input='content',\n",
       "        lowercase=True, max_df=1.0, max_features=None, min_df=1,\n",
       "        ngram_range=(1, 2), preprocessor=None, stop_words=None,\n",
       "        strip...ty='l2', random_state=None, solver='liblinear', tol=0.0001,\n",
       "          verbose=0, warm_start=False))])"
      ]
     },
     "execution_count": 37,
     "metadata": {},
     "output_type": "execute_result"
    }
   ],
   "source": [
    "vectorizer = CountVectorizer(ngram_range=(1,2)) \n",
    "tfidf = TfidfTransformer()\n",
    "classifier = LogisticRegression() #пробуем логистическую регрессию\n",
    "\n",
    "clf = Pipeline([\n",
    "    ('vect', vectorizer),\n",
    "    ('tfidf', tfidf),\n",
    "    ('clf', classifier)\n",
    "])\n",
    "\n",
    "%time clf.fit(train.text, train.source)"
   ]
  },
  {
   "cell_type": "code",
   "execution_count": 38,
   "metadata": {
    "collapsed": false
   },
   "outputs": [
    {
     "name": "stdout",
     "output_type": "stream",
     "text": [
      "Precision:   0.96\n",
      "Recall:   0.96\n",
      "F1-measure:   0.96\n",
      "...\n",
      "Precision:   0.96\n",
      "Recall:   0.96\n",
      "F1-measure:   0.96\n",
      "...\n",
      "Accuracy:   0.96\n"
     ]
    },
    {
     "data": {
      "image/png": "[encoded data removed]",
      "text/plain": [
       "<Figure size 1080x1080 with 1 Axes>"
      ]
     },
     "metadata": {},
     "output_type": "display_data"
    }
   ],
   "source": [
    "predictions4 = clf.predict(test.text)\n",
    "evaluate(test.source, predictions4)\n",
    "\n",
    "m = confusion_matrix(test.source, predictions4)\n",
    "\n",
    "labels = clf.classes_\n",
    "plt.figure(figsize = (15,15))\n",
    "sns.heatmap(data=m, annot=True, fmt=\"d\", cbar=False, xticklabels=labels, yticklabels=labels, cmap=\"GnBu\")\n",
    "plt.title(\"Confusion matrix\")\n",
    "plt.show()"
   ]
  },
  {
   "cell_type": "code",
   "execution_count": 39,
   "metadata": {
    "collapsed": false
   },
   "outputs": [
    {
     "name": "stdout",
     "output_type": "stream",
     "text": [
      "CPU times: user 18.3 s, sys: 355 ms, total: 18.6 s\n",
      "Wall time: 18.7 s\n"
     ]
    },
    {
     "data": {
      "text/plain": [
       "Pipeline(memory=None,\n",
       "     steps=[('vect', CountVectorizer(analyzer='word', binary=False, decode_error='strict',\n",
       "        dtype=<class 'numpy.int64'>, encoding='utf-8', input='content',\n",
       "        lowercase=True, max_df=1.0, max_features=None, min_df=1,\n",
       "        ngram_range=(1, 2), preprocessor=None, stop_words=None,\n",
       "        strip...n_jobs=1,\n",
       "            oob_score=False, random_state=None, verbose=0,\n",
       "            warm_start=False))])"
      ]
     },
     "execution_count": 39,
     "metadata": {},
     "output_type": "execute_result"
    }
   ],
   "source": [
    "vectorizer = CountVectorizer(ngram_range=(1,2)) \n",
    "tfidf = TfidfTransformer()\n",
    "classifier = RandomForestClassifier() #пробуем случайный лес\n",
    "\n",
    "clf = Pipeline([\n",
    "    ('vect', vectorizer),\n",
    "    ('tfidf', tfidf),\n",
    "    ('clf', classifier)\n",
    "])\n",
    "\n",
    "%time clf.fit(train.text, train.source)"
   ]
  },
  {
   "cell_type": "code",
   "execution_count": 40,
   "metadata": {
    "collapsed": false
   },
   "outputs": [
    {
     "name": "stdout",
     "output_type": "stream",
     "text": [
      "Precision:   0.94\n",
      "Recall:   0.94\n",
      "F1-measure:   0.94\n",
      "...\n",
      "Precision:   0.94\n",
      "Recall:   0.94\n",
      "F1-measure:   0.94\n",
      "...\n",
      "Accuracy:   0.94\n"
     ]
    },
    {
     "data": {
      "image/png": "[encoded data removed]",
      "text/plain": [
       "<Figure size 1080x1080 with 1 Axes>"
      ]
     },
     "metadata": {},
     "output_type": "display_data"
    }
   ],
   "source": [
    "predictions5 = clf.predict(test.text)\n",
    "evaluate(test.source, predictions5)\n",
    "\n",
    "m = confusion_matrix(test.source, predictions5)\n",
    "\n",
    "labels = clf.classes_\n",
    "plt.figure(figsize = (15,15))\n",
    "sns.heatmap(data=m, annot=True, fmt=\"d\", cbar=False, xticklabels=labels, yticklabels=labels, cmap=\"PuBu\")\n",
    "plt.title(\"Confusion matrix\")\n",
    "plt.show()"
   ]
  },
  {
   "cell_type": "markdown",
   "metadata": {},
   "source": [
    "### Как мы видим, F-меру 0.96 показали мультиномиальный Байес и логистическая регрессия - возьмем эту цифру за baseline"
   ]
  },
  {
   "cell_type": "markdown",
   "metadata": {},
   "source": [
    "## Задание 4 [2 балла]. Снижение размерности\n",
    "Добавьте в ваш ```sklearn.pipeline```  методы снижения размерности:  PCA / LSI / LSA / LDA / другое. Какие методы классификации разумно использовать после снижения размерности? Как изменились результаты классификации после добавления нового шага?"
   ]
  },
  {
   "cell_type": "code",
   "execution_count": 20,
   "metadata": {
    "collapsed": false
   },
   "outputs": [
    {
     "name": "stdout",
     "output_type": "stream",
     "text": [
      "CPU times: user 38 s, sys: 12.8 s, total: 50.8 s\n",
      "Wall time: 45.8 s\n"
     ]
    },
    {
     "data": {
      "text/plain": [
       "Pipeline(memory=None,\n",
       "     steps=[('vect', CountVectorizer(analyzer='word', binary=False, decode_error='strict',\n",
       "        dtype=<class 'numpy.int64'>, encoding='utf-8', input='content',\n",
       "        lowercase=True, max_df=1.0, max_features=None, min_df=1,\n",
       "        ngram_range=(1, 2), preprocessor=None, stop_words=None,\n",
       "        strip...ty='l2', random_state=None, solver='liblinear', tol=0.0001,\n",
       "          verbose=0, warm_start=False))])"
      ]
     },
     "execution_count": 20,
     "metadata": {},
     "output_type": "execute_result"
    }
   ],
   "source": [
    "from sklearn.decomposition import TruncatedSVD\n",
    "\n",
    "vectorizer = CountVectorizer(ngram_range=(1,2)) \n",
    "tfidf = TfidfTransformer()\n",
    "svd = TruncatedSVD(n_components=100, algorithm='randomized', n_iter=5, random_state=None, tol=0.0)\n",
    "classifier = LogisticRegression() \n",
    "\n",
    "clf = Pipeline([\n",
    "    ('vect', vectorizer),\n",
    "    ('tfidf', tfidf),\n",
    "    ('svd', svd),\n",
    "    ('clf', classifier)\n",
    "])\n",
    "\n",
    "%time clf.fit(train.text, train.source)"
   ]
  },
  {
   "cell_type": "code",
   "execution_count": 21,
   "metadata": {
    "collapsed": false
   },
   "outputs": [
    {
     "name": "stdout",
     "output_type": "stream",
     "text": [
      "Precision:   0.96\n",
      "Recall:   0.96\n",
      "F1-measure:   0.96\n",
      "...\n",
      "Precision:   0.96\n",
      "Recall:   0.96\n",
      "F1-measure:   0.96\n",
      "...\n",
      "Accuracy:   0.96\n"
     ]
    },
    {
     "data": {
      "image/png": "[encoded data removed]",
      "text/plain": [
       "<Figure size 1080x1080 with 1 Axes>"
      ]
     },
     "metadata": {},
     "output_type": "display_data"
    }
   ],
   "source": [
    "predictions6 = clf.predict(test.text)\n",
    "evaluate(test.source, predictions6)\n",
    "\n",
    "m = confusion_matrix(test.source, predictions6)\n",
    "\n",
    "labels = clf.classes_\n",
    "plt.figure(figsize = (15,15))\n",
    "sns.heatmap(data=m, annot=True, fmt=\"d\", cbar=False, xticklabels=labels, yticklabels=labels, cmap=\"PuBu\")\n",
    "plt.title(\"Confusion matrix\")\n",
    "plt.show()"
   ]
  },
  {
   "cell_type": "markdown",
   "metadata": {},
   "source": [
    "После снижения размерности F-мера не улучшилась. \n",
    "\n",
    "## после снижения размерности методом LSA мы можем использовать те классификаторы, которые принимают на вход в качестве X и положительные, и отрицательные значения. Если мы будем использовать вероятностные методы снижения размерности, то область определения классификатора должна быть от 0 до 1. "
   ]
  },
  {
   "cell_type": "code",
   "execution_count": 25,
   "metadata": {
    "collapsed": false
   },
   "outputs": [
    {
     "name": "stdout",
     "output_type": "stream",
     "text": [
      "CPU times: user 36.9 s, sys: 13.7 s, total: 50.6 s\n",
      "Wall time: 48.3 s\n",
      "Precision:   0.97\n",
      "Recall:   0.96\n",
      "F1-measure:   0.96\n",
      "...\n",
      "Precision:   0.97\n",
      "Recall:   0.97\n",
      "F1-measure:   0.97\n",
      "...\n",
      "Accuracy:   0.97\n"
     ]
    },
    {
     "data": {
      "image/png": "[encoded data removed]",
      "text/plain": [
       "<Figure size 1080x1080 with 1 Axes>"
      ]
     },
     "metadata": {},
     "output_type": "display_data"
    }
   ],
   "source": [
    "vectorizer = CountVectorizer(ngram_range=(1,2)) \n",
    "tfidf = TfidfTransformer()\n",
    "svd = TruncatedSVD(n_components=100, algorithm='randomized', n_iter=5, random_state=None, tol=0.0)\n",
    "classifier = RandomForestClassifier() \n",
    "\n",
    "clf = Pipeline([\n",
    "    ('vect', vectorizer),\n",
    "    ('tfidf', tfidf),\n",
    "    ('svd', svd),\n",
    "    ('clf', classifier)\n",
    "])\n",
    "\n",
    "%time clf.fit(train.text, train.source)\n",
    "predictions7 = clf.predict(test.text)\n",
    "evaluate(test.source, predictions7)\n",
    "\n",
    "m = confusion_matrix(test.source, predictions7)\n",
    "\n",
    "labels = clf.classes_\n",
    "plt.figure(figsize = (15,15))\n",
    "sns.heatmap(data=m, annot=True, fmt=\"d\", cbar=False, xticklabels=labels, yticklabels=labels, cmap=\"PuBu\")\n",
    "plt.title(\"Confusion matrix\")\n",
    "plt.show()"
   ]
  },
  {
   "cell_type": "markdown",
   "metadata": {},
   "source": [
    "Ура! С LSA и случайным лесом мы улучшили F-меру до 0.97. Теперь попробуем вероятностную LDA + мультиномиальный Байес."
   ]
  },
  {
   "cell_type": "code",
   "execution_count": 30,
   "metadata": {
    "collapsed": false
   },
   "outputs": [],
   "source": [
    "from sklearn.decomposition import LatentDirichletAllocation"
   ]
  },
  {
   "cell_type": "code",
   "execution_count": 35,
   "metadata": {
    "collapsed": false,
    "scrolled": true
   },
   "outputs": [
    {
     "name": "stderr",
     "output_type": "stream",
     "text": [
      "/Users/anyway/anaconda/lib/python3.6/site-packages/sklearn/decomposition/online_lda.py:536: DeprecationWarning: The default value for 'learning_method' will be changed from 'online' to 'batch' in the release 0.20. This warning was introduced in 0.18.\n",
      "  DeprecationWarning)\n"
     ]
    },
    {
     "name": "stdout",
     "output_type": "stream",
     "text": [
      "CPU times: user 2min, sys: 8.51 s, total: 2min 9s\n",
      "Wall time: 2min 12s\n"
     ]
    },
    {
     "data": {
      "text/plain": [
       "Pipeline(memory=None,\n",
       "     steps=[('vect', CountVectorizer(analyzer='word', binary=False, decode_error='strict',\n",
       "        dtype=<class 'numpy.int64'>, encoding='utf-8', input='content',\n",
       "        lowercase=True, max_df=1.0, max_features=None, min_df=1,\n",
       "        ngram_range=(1, 2), preprocessor=None, stop_words=None,\n",
       "        strip...samples=1000000.0, verbose=0)), ('clf', MultinomialNB(alpha=1.0, class_prior=None, fit_prior=True))])"
      ]
     },
     "execution_count": 35,
     "metadata": {},
     "output_type": "execute_result"
    }
   ],
   "source": [
    "vectorizer = CountVectorizer(ngram_range=(1,2)) \n",
    "tfidf = TfidfTransformer()\n",
    "lda = LatentDirichletAllocation(n_components=10, max_iter = 5) #возьмем 10 тем\n",
    "classifier = MultinomialNB() \n",
    "\n",
    "clf = Pipeline([\n",
    "    ('vect', vectorizer),\n",
    "    ('tfidf', tfidf),\n",
    "    ('lda', lda),\n",
    "    ('clf', classifier)\n",
    "])\n",
    "\n",
    "%time clf.fit(train.text, train.source)"
   ]
  },
  {
   "cell_type": "code",
   "execution_count": 36,
   "metadata": {
    "collapsed": false,
    "scrolled": false
   },
   "outputs": [
    {
     "name": "stdout",
     "output_type": "stream",
     "text": [
      "Precision:   0.79\n",
      "Recall:   0.71\n",
      "F1-measure:   0.72\n",
      "...\n",
      "Precision:   0.71\n",
      "Recall:   0.71\n",
      "F1-measure:   0.71\n",
      "...\n",
      "Accuracy:   0.71\n"
     ]
    },
    {
     "name": "stderr",
     "output_type": "stream",
     "text": [
      "/Users/anyway/anaconda/lib/python3.6/site-packages/seaborn/matrix.py:143: FutureWarning: elementwise comparison failed; returning scalar instead, but in the future will perform elementwise comparison\n",
      "  if xticklabels == []:\n",
      "/Users/anyway/anaconda/lib/python3.6/site-packages/seaborn/matrix.py:151: FutureWarning: elementwise comparison failed; returning scalar instead, but in the future will perform elementwise comparison\n",
      "  if yticklabels == []:\n"
     ]
    },
    {
     "data": {
      "image/png": "[encoded data removed]",
      "text/plain": [
       "<Figure size 1080x1080 with 1 Axes>"
      ]
     },
     "metadata": {},
     "output_type": "display_data"
    }
   ],
   "source": [
    "predictions8 = clf.predict(test.text)\n",
    "evaluate(test.source, predictions8)\n",
    "\n",
    "m = confusion_matrix(test.source, predictions8)\n",
    "\n",
    "labels = clf.classes_\n",
    "plt.figure(figsize = (15,15))\n",
    "sns.heatmap(data=m, annot=True, fmt=\"d\", cbar=False, xticklabels=labels, yticklabels=labels, cmap=\"PuBu\")\n",
    "plt.title(\"Confusion matrix\")\n",
    "plt.show()"
   ]
  },
  {
   "cell_type": "markdown",
   "metadata": {},
   "source": [
    "## Задание 5 [2 балла]. Лемматизация\n",
    "Посмотрите, как влияет лемматизация на качество классификации. Как изменится качество классификации, если вы используете ```CountVectorizer``` на словах или $n$-граммах на лемматизированных текстах?\n",
    "\n",
    "Проверим, как изменятся результаты в случае лучшего варианта: TruncatedSVD + Random Forest Classifier "
   ]
  },
  {
   "cell_type": "code",
   "execution_count": 44,
   "metadata": {
    "collapsed": true
   },
   "outputs": [],
   "source": [
    "train_set = [' '.join(text) for text in train.lemmas]\n",
    "test_set = [' '.join(text) for text in test.lemmas]"
   ]
  },
  {
   "cell_type": "code",
   "execution_count": 49,
   "metadata": {
    "collapsed": false
   },
   "outputs": [
    {
     "name": "stdout",
     "output_type": "stream",
     "text": [
      "CPU times: user 30.3 s, sys: 9.55 s, total: 39.8 s\n",
      "Wall time: 36.4 s\n",
      "Precision:   0.96\n",
      "Recall:   0.96\n",
      "F1-measure:   0.96\n",
      "...\n",
      "Precision:   0.97\n",
      "Recall:   0.97\n",
      "F1-measure:   0.97\n",
      "...\n",
      "Accuracy:   0.97\n"
     ]
    },
    {
     "data": {
      "image/png": "[encoded data removed]",
      "text/plain": [
       "<Figure size 1080x1080 with 1 Axes>"
      ]
     },
     "metadata": {},
     "output_type": "display_data"
    }
   ],
   "source": [
    "vectorizer = CountVectorizer(ngram_range=(1,2)) #используем на униграммах и биграммах\n",
    "tfidf = TfidfTransformer()\n",
    "svd = TruncatedSVD(n_components=100, algorithm='randomized', n_iter=5, random_state=None, tol=0.0)\n",
    "classifier = RandomForestClassifier() \n",
    "\n",
    "clf = Pipeline([\n",
    "    ('vect', vectorizer),\n",
    "    ('tfidf', tfidf),\n",
    "    ('svd', svd),\n",
    "    ('clf', classifier)\n",
    "])\n",
    "\n",
    "\n",
    "%time clf.fit(train_set, train.source) #используем на лемматизированных текстах\n",
    "predictions10 = clf.predict(test_set)\n",
    "evaluate(test.source, predictions10)\n",
    "\n",
    "m = confusion_matrix(test.source, predictions10)\n",
    "\n",
    "labels = clf.classes_\n",
    "plt.figure(figsize = (15,15))\n",
    "sns.heatmap(data=m, annot=True, fmt=\"d\", cbar=False, xticklabels=labels, yticklabels=labels, cmap=\"PuBu\")\n",
    "plt.title(\"Confusion matrix\")\n",
    "plt.show()"
   ]
  },
  {
   "cell_type": "markdown",
   "metadata": {},
   "source": [
    "Качество классификации еще немного улучшилось - теперь твердые 0.97.\n",
    "\n",
    "Попробуем просто на словах: "
   ]
  },
  {
   "cell_type": "code",
   "execution_count": 48,
   "metadata": {
    "collapsed": false
   },
   "outputs": [
    {
     "name": "stdout",
     "output_type": "stream",
     "text": [
      "CPU times: user 6.46 s, sys: 4.9 s, total: 11.4 s\n",
      "Wall time: 21.2 s\n",
      "Precision:   0.96\n",
      "Recall:   0.96\n",
      "F1-measure:   0.96\n",
      "...\n",
      "Precision:   0.96\n",
      "Recall:   0.96\n",
      "F1-measure:   0.96\n",
      "...\n",
      "Accuracy:   0.96\n"
     ]
    },
    {
     "data": {
      "image/png": "[encoded data removed]",
      "text/plain": [
       "<Figure size 1080x1080 with 1 Axes>"
      ]
     },
     "metadata": {},
     "output_type": "display_data"
    }
   ],
   "source": [
    "vectorizer = CountVectorizer(ngram_range=(1,1)) #возьмем просто слова\n",
    "tfidf = TfidfTransformer()\n",
    "svd = TruncatedSVD(n_components=100, algorithm='randomized', n_iter=5, random_state=None, tol=0.0)\n",
    "classifier = RandomForestClassifier() \n",
    "\n",
    "clf = Pipeline([\n",
    "    ('vect', vectorizer),\n",
    "    ('tfidf', tfidf),\n",
    "    ('svd', svd),\n",
    "    ('clf', classifier)\n",
    "])\n",
    "\n",
    "\n",
    "%time clf.fit(train_set, train.source) #используем на лемматизированных текстах\n",
    "predictions11 = clf.predict(test_set)\n",
    "evaluate(test.source, predictions11)\n",
    "\n",
    "m = confusion_matrix(test.source, predictions11)\n",
    "\n",
    "labels = clf.classes_\n",
    "plt.figure(figsize = (15,15))\n",
    "sns.heatmap(data=m, annot=True, fmt=\"d\", cbar=False, xticklabels=labels, yticklabels=labels, cmap=\"PuBu\")\n",
    "plt.title(\"Confusion matrix\")\n",
    "plt.show()"
   ]
  },
  {
   "cell_type": "markdown",
   "metadata": {},
   "source": [
    "Просто со словами вышло хуже, но это не удивительно. Те же результаты получаются, если взять униграммы, биграммы и триграммы (ngram_range=(1,3)). "
   ]
  },
  {
   "cell_type": "markdown",
   "metadata": {},
   "source": [
    "## Задание 6 [4 балла]. Модель скрытых тем\n",
    "Построим скрытую модель LDA по данной коллекции текстов. \n",
    "\n",
    "Здесь не нужно разделять корпус на тестовую и обучающую части, поскольку темы выявляются во всем датасете. \n",
    "\n",
    "Модель скрытых тем позволяет увидеть, почему тот или иной класс распознается классификаторами плохо. Темы - это наборы слов, наиболее характерные для того или иного класса (ключевые слова в своем роде). Мы можем видеть, у каких слов больший вес в том или ином классе и предполагать, почему некоторым текстам присваивается иной класс: например, потому что там нет слов, характерных для того или иного класса. Также через модель скрытых тем можно посмотреть, что еще сделать с текстами, чтобы они лучше определялись: например, какие еще стоп-слова можно выбросить.  \n",
    "\n",
    "Сначала предобработаем текст: уберем стоп-слова и т.д.  "
   ]
  },
  {
   "cell_type": "code",
   "execution_count": 2,
   "metadata": {
    "collapsed": true
   },
   "outputs": [],
   "source": [
    "import warnings\n",
    "warnings.filterwarnings('ignore')"
   ]
  },
  {
   "cell_type": "code",
   "execution_count": 10,
   "metadata": {
    "collapsed": false,
    "scrolled": true
   },
   "outputs": [
    {
     "name": "stdout",
     "output_type": "stream",
     "text": [
      "CPU times: user 5 µs, sys: 1 µs, total: 6 µs\n",
      "Wall time: 12.2 µs\n"
     ]
    }
   ],
   "source": [
    "%time\n",
    "import re\n",
    "from nltk.corpus import stopwords\n",
    "regex = re.compile(\"[А-Яа-я]+\")\n",
    "\n",
    "mystopwords = stopwords.words('russian') + ['это', 'наш' , 'тыс', 'млн', 'млрд', 'также',  'т', 'д', 'г']\n",
    "mystoplemmas = ['который','прошлый','сей', 'свой', 'наш', 'мочь', 'такой', 'год', 'время', 'день', 'весь']\n",
    "\n",
    "from pymystem3 import Mystem\n",
    "\n",
    "m = Mystem()\n",
    "\n",
    "def words_only(text, regex=regex):\n",
    "    return \" \".join(regex.findall(text))\n",
    "\n",
    "def remove_stopwords(text, mystopwords = mystopwords):\n",
    "    try:\n",
    "        return \" \".join([token for token in text.split() if not token in mystopwords])\n",
    "    except:\n",
    "        return \"\"\n",
    "\n",
    "def lemmatize(text, mystem=m):\n",
    "    try:\n",
    "        return \"\".join(m.lemmatize(text)).strip()  \n",
    "    except:\n",
    "        return \" \"\n",
    "    \n",
    "def  remove_stoplemmas(text, mystoplemmas = mystoplemmas):\n",
    "    try:\n",
    "        return \" \".join([token for token in text.split() if not token in mystoplemmas])\n",
    "    except:\n",
    "        return \"\"\n",
    "\n",
    "\n",
    "\n",
    "df.text = df.text.apply(lemmatize)\n",
    "df.text = df.text.str.lower()\n",
    "df.text = df.text.apply(words_only)\n",
    "df.text = df.text.apply(remove_stopwords)  \n",
    "df.text = df.text.apply(remove_stoplemmas)"
   ]
  },
  {
   "cell_type": "markdown",
   "metadata": {},
   "source": [
    "Представляем данных в Gensim словарем и корпусом:"
   ]
  },
  {
   "cell_type": "code",
   "execution_count": 11,
   "metadata": {
    "collapsed": false
   },
   "outputs": [],
   "source": [
    "from gensim.corpora import *\n",
    "texts = [df.text.iloc[i].split() for i in range(len(df))]\n",
    "dictionary = Dictionary(texts)\n",
    "corpus = [dictionary.doc2bow(text) for text in texts]"
   ]
  },
  {
   "cell_type": "code",
   "execution_count": 12,
   "metadata": {
    "collapsed": false,
    "scrolled": true
   },
   "outputs": [
    {
     "name": "stdout",
     "output_type": "stream",
     "text": [
      "Dictionary(17151 unique tokens: ['начальник', 'главный', 'оперативный', 'управление', 'генеральный']...)\n"
     ]
    }
   ],
   "source": [
    "print(dictionary)"
   ]
  },
  {
   "cell_type": "markdown",
   "metadata": {},
   "source": [
    "Вычисление сходства по косинусной мере на векторах $tf-idf$:"
   ]
  },
  {
   "cell_type": "code",
   "execution_count": 13,
   "metadata": {
    "collapsed": false
   },
   "outputs": [
    {
     "name": "stdout",
     "output_type": "stream",
     "text": [
      "CPU times: user 2min 45s, sys: 5.15 s, total: 2min 50s\n",
      "Wall time: 51.9 s\n"
     ]
    }
   ],
   "source": [
    "%%time\n",
    "from gensim.models import  *\n",
    "from gensim import similarities\n",
    "\n",
    "tfidf = TfidfModel(corpus)\n",
    "corpus_tfidf = tfidf[corpus]\n",
    "\n",
    "index = similarities.MatrixSimilarity(corpus_tfidf)\n",
    "sims = index[corpus_tfidf]"
   ]
  },
  {
   "cell_type": "code",
   "execution_count": 14,
   "metadata": {
    "collapsed": false
   },
   "outputs": [
    {
     "name": "stdout",
     "output_type": "stream",
     "text": [
      "CPU times: user 17.8 s, sys: 253 ms, total: 18.1 s\n",
      "Wall time: 18.2 s\n"
     ]
    }
   ],
   "source": [
    "%%time\n",
    "lda = ldamodel.LdaModel(corpus=corpus, id2word=dictionary, num_topics=4,\n",
    "                        alpha='auto', eta='auto', iterations = 10, passes = 5)"
   ]
  },
  {
   "cell_type": "code",
   "execution_count": 15,
   "metadata": {
    "collapsed": false,
    "scrolled": false
   },
   "outputs": [
    {
     "data": {
      "text/plain": [
       "[(0,\n",
       "  '0.018*\"россия\" + 0.011*\"почта\" + 0.010*\"почтовый\" + 0.008*\"мчс\" + 0.007*\"пожарный\" + 0.007*\"отделение\" + 0.006*\"почтароссия\" + 0.004*\"открытка\" + 0.004*\"москва\" + 0.004*\"первый\"'),\n",
       " (1,\n",
       "  '0.010*\"военный\" + 0.010*\"минобороны\" + 0.008*\"боевой\" + 0.007*\"учение\" + 0.006*\"корабль\" + 0.006*\"экипаж\" + 0.006*\"комплекс\" + 0.005*\"флот\" + 0.005*\"морской\" + 0.005*\"выполнять\"'),\n",
       " (2,\n",
       "  '0.048*\"мчс\" + 0.025*\"мчсроссия\" + 0.019*\"россия\" + 0.010*\"спасатель\" + 0.008*\"спасательный\" + 0.007*\"помощь\" + 0.007*\"человек\" + 0.007*\"пожарный\" + 0.006*\"пожар\" + 0.006*\"безопасность\"'),\n",
       " (3,\n",
       "  '0.016*\"россия\" + 0.014*\"военный\" + 0.012*\"российский\" + 0.009*\"оборона\" + 0.008*\"министр\" + 0.006*\"сергей\" + 0.006*\"шойгу\" + 0.006*\"глава\" + 0.006*\"сила\" + 0.005*\"страна\"')]"
      ]
     },
     "execution_count": 15,
     "metadata": {},
     "output_type": "execute_result"
    }
   ],
   "source": [
    "lda.show_topics(4)"
   ]
  },
  {
   "cell_type": "markdown",
   "metadata": {},
   "source": [
    "Мы видим, что класс МВД куда-то потерялся, зато есть 2 класса Минобороны. "
   ]
  },
  {
   "cell_type": "code",
   "execution_count": 16,
   "metadata": {
    "collapsed": false,
    "scrolled": false
   },
   "outputs": [
    {
     "data": {
      "text/html": [
       "\n",
       "<link rel=\"stylesheet\" type=\"text/css\" href=\"https://cdn.rawgit.com/bmabey/pyLDAvis/files/ldavis.v1.0.0.css\">\n",
       "\n",
       "\n",
       "<div id=\"ldavis_el822112620233616134049212\"></div>\n",
       "<script type=\"text/javascript\">\n",
       "\n",
       "var ldavis_el822112620233616134049212_data = {\"mdsDat\": {\"x\": [0.17530418793512131, 0.0109498263513848, -0.08542175180510943, -0.1008322624813964], \"y\": [-0.014507901234273693, 0.05332940211703469, -0.12686871032951447, 0.08804720944675343], \"topics\": [1, 2, 3, 4], \"cluster\": [1, 1, 1, 1], \"Freq\": [39.01879354093934, 23.904554994361423, 19.564558618958387, 17.512092845740852]}, \"tinfo\": {\"Category\": [\"Default\", \"Default\", \"Default\", \"Default\", \"Default\", \"Default\", \"Default\", \"Default\", \"Default\", \"Default\", \"Default\", \"Default\", \"Default\", \"Default\", \"Default\", \"Default\", \"Default\", \"Default\", \"Default\", \"Default\", \"Default\", \"Default\", \"Default\", \"Default\", \"Default\", \"Default\", \"Default\", \"Default\", \"Default\", \"Default\", \"Topic1\", \"Topic1\", \"Topic1\", \"Topic1\", \"Topic1\", \"Topic1\", \"Topic1\", \"Topic1\", \"Topic1\", \"Topic1\", \"Topic1\", \"Topic1\", \"Topic1\", \"Topic1\", \"Topic1\", \"Topic1\", \"Topic1\", \"Topic1\", \"Topic1\", \"Topic1\", \"Topic1\", \"Topic1\", \"Topic1\", \"Topic1\", \"Topic1\", \"Topic1\", \"Topic1\", \"Topic1\", \"Topic1\", \"Topic1\", \"Topic1\", \"Topic1\", \"Topic1\", \"Topic1\", \"Topic1\", \"Topic1\", \"Topic1\", \"Topic1\", \"Topic1\", \"Topic1\", \"Topic1\", \"Topic1\", \"Topic1\", \"Topic1\", \"Topic1\", \"Topic1\", \"Topic1\", \"Topic1\", \"Topic1\", \"Topic1\", \"Topic1\", \"Topic1\", \"Topic1\", \"Topic1\", \"Topic1\", \"Topic1\", \"Topic1\", \"Topic1\", \"Topic1\", \"Topic1\", \"Topic1\", \"Topic1\", \"Topic1\", \"Topic1\", \"Topic1\", \"Topic1\", \"Topic1\", \"Topic2\", \"Topic2\", \"Topic2\", \"Topic2\", \"Topic2\", \"Topic2\", \"Topic2\", \"Topic2\", \"Topic2\", \"Topic2\", \"Topic2\", \"Topic2\", \"Topic2\", \"Topic2\", \"Topic2\", \"Topic2\", \"Topic2\", \"Topic2\", \"Topic2\", \"Topic2\", \"Topic2\", \"Topic2\", \"Topic2\", \"Topic2\", \"Topic2\", \"Topic2\", \"Topic2\", \"Topic2\", \"Topic2\", \"Topic2\", \"Topic2\", \"Topic2\", \"Topic2\", \"Topic2\", \"Topic2\", \"Topic2\", \"Topic2\", \"Topic2\", \"Topic2\", \"Topic2\", \"Topic2\", \"Topic2\", \"Topic2\", \"Topic2\", \"Topic2\", \"Topic2\", \"Topic2\", \"Topic2\", \"Topic2\", \"Topic2\", \"Topic2\", \"Topic2\", \"Topic2\", \"Topic2\", \"Topic2\", \"Topic2\", \"Topic2\", \"Topic2\", \"Topic2\", \"Topic2\", \"Topic2\", \"Topic2\", \"Topic2\", \"Topic2\", \"Topic2\", \"Topic2\", \"Topic2\", \"Topic2\", \"Topic2\", \"Topic3\", \"Topic3\", \"Topic3\", \"Topic3\", \"Topic3\", \"Topic3\", \"Topic3\", \"Topic3\", \"Topic3\", \"Topic3\", \"Topic3\", \"Topic3\", \"Topic3\", \"Topic3\", \"Topic3\", \"Topic3\", \"Topic3\", \"Topic3\", \"Topic3\", \"Topic3\", \"Topic3\", \"Topic3\", \"Topic3\", \"Topic3\", \"Topic3\", \"Topic3\", \"Topic3\", \"Topic3\", \"Topic3\", \"Topic3\", \"Topic3\", \"Topic3\", \"Topic3\", \"Topic3\", \"Topic3\", \"Topic3\", \"Topic3\", \"Topic3\", \"Topic3\", \"Topic3\", \"Topic3\", \"Topic3\", \"Topic3\", \"Topic3\", \"Topic3\", \"Topic3\", \"Topic3\", \"Topic3\", \"Topic3\", \"Topic3\", \"Topic3\", \"Topic3\", \"Topic3\", \"Topic3\", \"Topic3\", \"Topic3\", \"Topic3\", \"Topic3\", \"Topic3\", \"Topic3\", \"Topic3\", \"Topic3\", \"Topic3\", \"Topic3\", \"Topic3\", \"Topic3\", \"Topic3\", \"Topic4\", \"Topic4\", \"Topic4\", \"Topic4\", \"Topic4\", \"Topic4\", \"Topic4\", \"Topic4\", \"Topic4\", \"Topic4\", \"Topic4\", \"Topic4\", \"Topic4\", \"Topic4\", \"Topic4\", \"Topic4\", \"Topic4\", \"Topic4\", \"Topic4\", \"Topic4\", \"Topic4\", \"Topic4\", \"Topic4\", \"Topic4\", \"Topic4\", \"Topic4\", \"Topic4\", \"Topic4\", \"Topic4\", \"Topic4\", \"Topic4\", \"Topic4\", \"Topic4\", \"Topic4\", \"Topic4\", \"Topic4\", \"Topic4\", \"Topic4\", \"Topic4\", \"Topic4\", \"Topic4\", \"Topic4\", \"Topic4\", \"Topic4\", \"Topic4\", \"Topic4\", \"Topic4\", \"Topic4\", \"Topic4\", \"Topic4\", \"Topic4\", \"Topic4\", \"Topic4\", \"Topic4\", \"Topic4\", \"Topic4\", \"Topic4\", \"Topic4\", \"Topic4\", \"Topic4\", \"Topic4\", \"Topic4\", \"Topic4\", \"Topic4\", \"Topic4\", \"Topic4\", \"Topic4\", \"Topic4\"], \"Freq\": [3279.0, 1572.0, 3518.0, 578.0, 521.0, 660.0, 574.0, 767.0, 428.0, 886.0, 1339.0, 2273.0, 310.0, 401.0, 485.0, 638.0, 644.0, 531.0, 714.0, 400.0, 580.0, 502.0, 225.0, 497.0, 710.0, 432.0, 277.0, 446.0, 281.0, 681.0, 525.8526633457057, 259.0344475543455, 250.1994519892806, 440.7699355582416, 261.07713938533095, 140.34031534394, 292.23459665101444, 392.1376501862292, 135.22084770745306, 493.72627097702446, 113.77648882923425, 209.55488893190244, 626.7776640820836, 156.73287652103858, 211.2533902926959, 102.4254468236806, 144.92846407495202, 66.62127783251323, 61.429183152884896, 317.1947653301998, 112.83339900327024, 109.1326977465078, 74.235006155757, 100.30044816777787, 56.16690268083405, 128.8590618117008, 69.78922746254061, 461.35881165962513, 181.48819119088668, 223.4555180483728, 560.124620337238, 230.4883535020712, 143.30219479367162, 680.8301756011409, 307.99884639956986, 314.5589810120812, 217.17494211767035, 312.43185478096325, 460.9344198085411, 284.67371011342203, 243.73378000887232, 609.4385739035395, 571.2442060240794, 271.9479765555157, 391.2819434787259, 606.6926531998399, 288.58847955713594, 868.4331806215363, 821.3852455657383, 626.5521366812452, 1076.6777259654389, 477.84867406230376, 489.92885048147366, 502.23581496757987, 1153.5258577157422, 375.45528792544985, 405.0784700451445, 519.9914910557441, 391.6920330754643, 429.3342392395531, 409.65939606362303, 366.11115918758753, 399.36095550963955, 420.53595344731406, 464.6189013209577, 486.6112669416376, 392.53550973064574, 421.1881210248663, 167.12024669544954, 120.67243259473209, 61.06702502694729, 551.845736064866, 125.81129444073933, 36.43959859905562, 30.166848572533503, 81.04464118690525, 165.8238178083678, 98.8525891523858, 42.290678229526996, 53.14832278622547, 91.24684789990951, 36.19537015581996, 86.01025684126154, 101.22851894065519, 56.8680095200768, 26.984137845038088, 29.01672276593031, 51.730346777182895, 98.65792884463312, 26.754482619841134, 21.56073272972545, 21.622614472391927, 45.60206016814576, 37.1366369981316, 27.440991284114364, 178.90236981364893, 47.85590704153699, 94.79872399799568, 29.8795722467996, 440.8438240355169, 248.45751650083096, 61.613449089066904, 101.75525435822604, 58.85334006082682, 51.704578327189296, 357.49584483425696, 142.64895322910274, 395.717247956959, 320.60731950972195, 261.53844817709336, 633.0725589520534, 206.87559381645812, 161.33990294887784, 282.13348809097215, 293.1445556030241, 835.4747395285816, 177.06856339132258, 268.5983869572539, 267.59673464219316, 146.4980872009759, 365.11214129350253, 952.4722929615634, 138.0055488079677, 353.6637175738357, 1080.4199219295372, 210.410269630652, 206.9164706053968, 390.9204009379414, 206.1443465392813, 263.3421769313217, 291.81085390676037, 337.42313162736275, 287.9547486880105, 233.0153055134567, 230.4684638733711, 293.9022279295846, 174.96958266162028, 82.0941654182767, 89.49133605823444, 57.90163000834883, 62.09160703197552, 39.54141893198784, 46.87657218808171, 49.64633118245694, 40.98850051058443, 43.11727507796292, 36.90235795299822, 79.52739844942089, 33.20564502891857, 88.81599271650362, 23.38917344109452, 29.279586041379424, 38.12093012773375, 18.805236025061877, 33.65705339149196, 19.66667894667024, 21.13517644493552, 18.814834622820356, 15.688955118149051, 16.650009101460235, 16.814385737804713, 255.80591819580798, 42.55259612681189, 66.36274933341993, 15.055810908860181, 46.87131378428665, 257.84883845602565, 73.71122748161744, 1385.84965766279, 579.3798383469364, 2687.8833829936707, 58.280047778323436, 334.2663227196904, 138.10137305609393, 81.67160207331366, 104.01675944374573, 99.00869823754593, 447.9596274856417, 278.71100312868737, 238.95056981303162, 153.31427300658552, 105.15012504440223, 172.2367551108778, 412.19601457509043, 188.08452640288797, 136.86259577239673, 159.14450527363314, 217.464948437366, 209.84600340903094, 384.19528487377744, 166.38894595636592, 368.43751841332835, 1041.9513334928506, 312.29561277695274, 304.6809881189148, 154.81708066770443, 245.41250500550566, 159.2220213280253, 174.55720051960864, 185.02368216723093, 157.7234142400472, 149.99474118897916, 162.8858169537943, 222.9034120154868, 306.23437682047427, 569.7310835257118, 513.1232556355093, 185.95596558116696, 87.28161636423053, 119.17563860355797, 64.3167357633156, 133.8173750982628, 62.03775922623187, 79.14660010909007, 52.89048448885782, 160.0645204106743, 75.64754140623445, 57.277697112617055, 31.906547243821425, 47.93691011829181, 39.16066376400316, 33.82086183097552, 26.543115800380228, 26.549201775029477, 25.41125494962215, 24.262853081094644, 28.826087534546097, 25.06067957165232, 26.563627549368807, 57.00167440517437, 28.50184211339083, 20.219010934745405, 19.67147934156405, 94.23618353109282, 25.81776428162785, 105.71823846990381, 148.2017307756668, 109.68261508833693, 345.71041262657775, 60.73883493627563, 42.459675428914885, 91.63163909468487, 52.17450169615598, 40.84664785509733, 167.10566206181875, 107.65688662381456, 52.77421372146451, 77.5855237267154, 355.2534135620526, 133.34912042177444, 909.5153346180282, 204.7592798976551, 103.45665707577041, 166.43874197620696, 118.75153838862305, 166.57709191165344, 123.38709592954382, 199.41288387769765, 385.73653682717054, 157.5534922550432, 151.57326821173567, 157.14683685392768, 136.32916195105614, 181.6517721738779, 157.52253074126682, 142.8737362619917, 153.31771438003844, 143.48102257726964, 146.50021390160177, 137.84935572977264, 124.45585811396008], \"Term\": [\"\\u043c\\u0447\\u0441\", \"\\u043c\\u0447\\u0441\\u0440\\u043e\\u0441\\u0441\\u0438\\u044f\", \"\\u0440\\u043e\\u0441\\u0441\\u0438\\u044f\", \"\\u043f\\u043e\\u0447\\u0442\\u0430\", \"\\u043f\\u043e\\u0447\\u0442\\u043e\\u0432\\u044b\\u0439\", \"\\u0441\\u043f\\u0430\\u0441\\u0430\\u0442\\u0435\\u043b\\u044c\", \"\\u043c\\u0438\\u043d\\u0438\\u0441\\u0442\\u0440\", \"\\u043f\\u043e\\u0436\\u0430\\u0440\\u043d\\u044b\\u0439\", \"\\u0448\\u043e\\u0439\\u0433\\u0443\", \"\\u043e\\u0431\\u043e\\u0440\\u043e\\u043d\\u0430\", \"\\u0440\\u043e\\u0441\\u0441\\u0438\\u0439\\u0441\\u043a\\u0438\\u0439\", \"\\u0432\\u043e\\u0435\\u043d\\u043d\\u044b\\u0439\", \"\\u043f\\u043e\\u0447\\u0442\\u0430\\u0440\\u043e\\u0441\\u0441\\u0438\\u044f\", \"\\u043e\\u0442\\u0434\\u0435\\u043b\\u0435\\u043d\\u0438\\u0435\", \"\\u0441\\u0435\\u0440\\u0433\\u0435\\u0439\", \"\\u044d\\u043a\\u0438\\u043f\\u0430\\u0436\", \"\\u0441\\u043f\\u0430\\u0441\\u0430\\u0442\\u0435\\u043b\\u044c\\u043d\\u044b\\u0439\", \"\\u0443\\u0441\\u043b\\u043e\\u0432\\u043d\\u044b\\u0439\", \"\\u043a\\u043e\\u0440\\u0430\\u0431\\u043b\\u044c\", \"\\u043f\\u043e\\u0436\\u0430\\u0440\", \"\\u0440\\u0430\\u043a\\u0435\\u0442\\u043d\\u044b\\u0439\", \"\\u043f\\u0440\\u043e\\u0442\\u0438\\u0432\\u043d\\u0438\\u043a\", \"\\u043e\\u0442\\u043a\\u0440\\u044b\\u0442\\u043a\\u0430\", \"\\u0433\\u043b\\u0430\\u0432\\u0430\", \"\\u043f\\u043e\\u043c\\u043e\\u0449\\u044c\", \"\\u0441\\u0438\\u0440\\u0438\\u044f\", \"\\u0431\\u0443\\u0434\\u043d\\u0438\\u043c\\u0447\\u0441\", \"\\u0441\\u0443\", \"\\u0441\\u043f\\u0430\\u0441\\u0430\\u0442\\u044c\", \"\\u0431\\u0435\\u0437\\u043e\\u043f\\u0430\\u0441\\u043d\\u043e\\u0441\\u0442\\u044c\", \"\\u0443\\u0441\\u043b\\u043e\\u0432\\u043d\\u044b\\u0439\", \"\\u0431\\u043e\\u0435\\u0432\\u0430\\u044f\\u043f\\u043e\\u0434\\u0433\\u043e\\u0442\\u043e\\u0432\\u043a\\u0430\", \"\\u0437\\u0432\\u043e\", \"\\u0441\\u0443\", \"\\u044e\\u0432\\u043e\", \"\\u0442\\u043e\\u0444\", \"\\u0438\\u0441\\u0442\\u0440\\u0435\\u0431\\u0438\\u0442\\u0435\\u043b\\u044c\", \"\\u0441\\u0442\\u0440\\u0435\\u043b\\u044c\\u0431\\u0430\", \"\\u043c\\u0438\\u0448\\u0435\\u043d\\u044c\", \"\\u043f\\u0440\\u043e\\u0442\\u0438\\u0432\\u043d\\u0438\\u043a\", \"\\u043f\\u0440\\u043e\\u0442\\u0438\\u0432\\u043e\\u043b\\u043e\\u0434\\u043e\\u0447\\u043d\\u044b\\u0439\", \"\\u0432\\u0432\\u043e\", \"\\u044d\\u043a\\u0438\\u043f\\u0430\\u0436\", \"\\u0441\\u043c\", \"\\u043c\\u0438\\u0433\", \"\\u0431\\u0442\\u0440\", \"\\u0431\\u043e\\u043c\\u0431\\u0430\\u0440\\u0434\\u0438\\u0440\\u043e\\u0432\\u0449\\u0438\\u043a\", \"\\u043a\\u043e\\u0440\\u0430\\u0431\\u0435\\u043b\\u044c\\u043d\\u044b\\u0439\", \"\\u0434\\u043e\\u0437\\u0430\\u043f\\u0440\\u0430\\u0432\\u043a\\u0430\", \"\\u0442\\u0430\\u043a\\u0442\\u0438\\u0447\\u0435\\u0441\\u043a\\u0438\\u0439\", \"\\u0441\\u043d\\u0430\\u0439\\u043f\\u0435\\u0440\", \"\\u043b\\u0435\\u0442\\u043d\\u044b\\u0439\", \"\\u0441\\u0430\\u043c\\u043e\\u0445\\u043e\\u0434\\u043d\\u044b\\u0439\", \"\\u0441\\u0444\", \"\\u043f\\u0435\\u0440\\u0435\\u0445\\u0432\\u0430\\u0442\\u0447\\u0438\\u043a\", \"\\u043f\\u0443\\u0441\\u043a\", \"\\u0431\\u0440\\u043e\\u043d\\u0435\\u0442\\u0440\\u0430\\u043d\\u0441\\u043f\\u043e\\u0440\\u0442\\u0435\\u0440\", \"\\u043f\\u043e\\u043b\\u0438\\u0433\\u043e\\u043d\", \"\\u0437\\u0435\\u043d\\u0438\\u0442\\u043d\\u044b\\u0439\", \"\\u0430\\u0440\\u0442\\u0438\\u043b\\u043b\\u0435\\u0440\\u0438\\u0439\\u0441\\u043a\\u0438\\u0439\", \"\\u0440\\u0430\\u043a\\u0435\\u0442\\u043d\\u044b\\u0439\", \"\\u0432\\u0434\\u0432\", \"\\u043c\\u043c\", \"\\u043a\\u043e\\u0440\\u0430\\u0431\\u043b\\u044c\", \"\\u043c\\u0438\", \"\\u0440\\u0430\\u043a\\u0435\\u0442\\u0430\", \"\\u0442\\u0430\\u043d\\u043a\", \"\\u0432\\u043c\\u0444\", \"\\u0432\\u0435\\u0440\\u0442\\u043e\\u043b\\u0435\\u0442\", \"\\u043e\\u0442\\u0440\\u0430\\u0431\\u0430\\u0442\\u044b\\u0432\\u0430\\u0442\\u044c\", \"\\u043f\\u043e\\u0434\\u0432\\u043e\\u0434\\u043d\\u044b\\u0439\", \"\\u0444\\u043b\\u043e\\u0442\", \"\\u0432\\u044b\\u043f\\u043e\\u043b\\u043d\\u044f\\u0442\\u044c\", \"\\u043b\\u0435\\u0442\\u0447\\u0438\\u043a\", \"\\u0432\\u043e\\u0437\\u0434\\u0443\\u0448\\u043d\\u044b\\u0439\", \"\\u043c\\u043e\\u0440\\u0441\\u043a\\u043e\\u0439\", \"\\u0441\\u043e\\u0435\\u0434\\u0438\\u043d\\u0435\\u043d\\u0438\\u0435\", \"\\u0431\\u043e\\u0435\\u0432\\u043e\\u0439\", \"\\u0443\\u0447\\u0435\\u043d\\u0438\\u0435\", \"\\u043a\\u043e\\u043c\\u043f\\u043b\\u0435\\u043a\\u0441\", \"\\u043c\\u0438\\u043d\\u043e\\u0431\\u043e\\u0440\\u043e\\u043d\\u044b\", \"\\u0446\\u0435\\u043b\\u044c\", \"\\u0441\\u0430\\u043c\\u043e\\u043b\\u0435\\u0442\", \"\\u043f\\u043e\\u0434\\u0440\\u0430\\u0437\\u0434\\u0435\\u043b\\u0435\\u043d\\u0438\\u0435\", \"\\u0432\\u043e\\u0435\\u043d\\u043d\\u044b\\u0439\", \"\\u043c\", \"\\u0443\\u0447\\u0435\\u0431\\u043d\\u044b\\u0439\", \"\\u0445\\u043e\\u0434\", \"\\u0430\\u0432\\u0438\\u0430\\u0446\\u0438\\u044f\", \"\\u0437\\u0430\\u0434\\u0430\\u0447\\u0430\", \"\\u0441\\u043e\\u0441\\u0442\\u0430\\u0432\", \"\\u043e\\u043a\\u0440\\u0443\\u0433\", \"\\u043f\\u043e\\u0434\\u0433\\u043e\\u0442\\u043e\\u0432\\u043a\\u0430\", \"\\u0442\\u0435\\u0445\\u043d\\u0438\\u043a\\u0430\", \"\\u043f\\u0440\\u043e\\u0445\\u043e\\u0434\\u0438\\u0442\\u044c\", \"\\u0440\\u043e\\u0441\\u0441\\u0438\\u044f\", \"\\u043d\\u043e\\u0432\\u044b\\u0439\", \"\\u0448\\u043e\\u0439\\u0433\\u0443\", \"\\u0441\\u043e\\u0442\\u0440\\u0443\\u0434\\u043d\\u0438\\u0447\\u0435\\u0441\\u0442\\u0432\\u043e\", \"\\u0437\\u0430\\u0441\\u0435\\u0434\\u0430\\u043d\\u0438\\u0435\", \"\\u043f\\u0435\\u0440\\u0435\\u0433\\u043e\\u0432\\u043e\\u0440\\u044b\", \"\\u043c\\u0438\\u043d\\u0438\\u0441\\u0442\\u0440\", \"\\u0433\\u0443\\u0442\\u0430\", \"\\u0434\\u0438\\u0430\\u043b\\u043e\\u0433\", \"\\u0430\\u0441\\u0435\\u0430\\u043d\", \"\\u0432\\u0440\\u0430\\u0436\\u0434\\u043e\\u0432\\u0430\\u0442\\u044c\", \"\\u043f\\u043e\\u0434\\u0447\\u0435\\u0440\\u043a\\u0438\\u0432\\u0430\\u0442\\u044c\", \"\\u043f\\u0440\\u0438\\u043c\\u0438\\u0440\\u0435\\u043d\\u0438\\u0435\", \"\\u0433\\u0435\\u0440\\u0430\\u0441\\u0438\\u043c\\u043e\\u0432\", \"\\u0441\\u0444\\u0435\\u0440\\u0430\", \"\\u043f\\u0443\\u0442\\u0438\\u043d\", \"\\u0434\\u043e\\u0433\\u043e\\u0432\\u043e\\u0440\\u0435\\u043d\\u043d\\u043e\\u0441\\u0442\\u044c\", \"\\u043e\\u043e\\u043d\", \"\\u0441\\u043e\\u0432\\u0435\\u0449\\u0430\\u043d\\u0438\\u0435\", \"\\u0440\\u0435\\u0430\\u043b\\u0438\\u0437\\u0430\\u0446\\u0438\\u044f\", \"\\u043c\\u0443\\u0445\\u0430\\u0439\\u044f\\u043c\", \"\\u0444\\u043e\\u043c\\u0438\\u043d\", \"\\u0430\\u043b\\u044c\", \"\\u043a\\u043e\\u043d\\u0444\\u0435\\u0440\\u0435\\u043d\\u0446\\u0438\\u044f\", \"\\u0435\\u0436\\u0435\\u043d\\u0435\\u0434\\u0435\\u043b\\u044c\\u043d\\u044b\\u0439\", \"\\u0433\\u043b\\u043e\\u0431\\u0430\\u043b\\u044c\\u043d\\u044b\\u0439\", \"\\u0448\\u043e\\u0441\", \"\\u0441\\u043e\\u0433\\u043b\\u0430\\u0448\\u0435\\u043d\\u0438\\u0435\", \"\\u0440\\u0430\\u0441\\u0441\\u043c\\u0430\\u0442\\u0440\\u0438\\u0432\\u0430\\u0442\\u044c\", \"\\u0441\\u0435\\u043a\\u0440\\u0435\\u0442\\u0430\\u0440\\u044c\", \"\\u043f\\u0440\\u0435\\u0437\\u0438\\u0434\\u0435\\u043d\\u0442\", \"\\u043f\\u043e\\u043b\\u0438\\u0442\\u0438\\u0447\\u0435\\u0441\\u043a\\u0438\\u0439\", \"\\u043e\\u0431\\u0441\\u0443\\u0436\\u0434\\u0430\\u0442\\u044c\", \"\\u0432\\u044c\\u0435\\u0442\\u043d\\u0430\\u043c\", \"\\u0441\\u0435\\u0440\\u0433\\u0435\\u0439\", \"\\u0433\\u0443\\u043c\\u0430\\u043d\\u0438\\u0442\\u0430\\u0440\\u043d\\u044b\\u0439\", \"\\u043e\\u0431\\u043e\\u0440\\u043e\\u043d\\u043d\\u044b\\u0439\", \"\\u0437\\u0430\\u044f\\u0432\\u043b\\u044f\\u0442\\u044c\", \"\\u0434\\u0435\\u043b\\u0435\\u0433\\u0430\\u0446\\u0438\\u044f\", \"\\u0432\\u044b\\u0440\\u0430\\u0436\\u0430\\u0442\\u044c\", \"\\u0441\\u0438\\u0440\\u0438\\u044f\", \"\\u043c\\u0438\\u0440\\u043d\\u044b\\u0439\", \"\\u0433\\u043b\\u0430\\u0432\\u0430\", \"\\u0432\\u0435\\u0434\\u043e\\u043c\\u0441\\u0442\\u0432\\u043e\", \"\\u0433\\u0435\\u043d\\u0435\\u0440\\u0430\\u043b\", \"\\u043e\\u0431\\u043e\\u0440\\u043e\\u043d\\u0430\", \"\\u0441\\u0438\\u0440\\u0438\\u0439\\u0441\\u043a\\u0438\\u0439\", \"\\u0440\\u0430\\u0437\\u0432\\u0438\\u0442\\u0438\\u0435\", \"\\u0432\\u043e\\u043e\\u0440\\u0443\\u0436\\u0435\\u043d\\u043d\\u044b\\u0439\", \"\\u0444\\u0435\\u0434\\u0435\\u0440\\u0430\\u0446\\u0438\\u044f\", \"\\u0440\\u043e\\u0441\\u0441\\u0438\\u0439\\u0441\\u043a\\u0438\\u0439\", \"\\u0441\\u0442\\u043e\\u0440\\u043e\\u043d\\u0430\", \"\\u0432\\u043e\\u043f\\u0440\\u043e\\u0441\", \"\\u043e\\u0442\\u043c\\u0435\\u0447\\u0430\\u0442\\u044c\", \"\\u0432\\u0441\\u0442\\u0440\\u0435\\u0447\\u0430\", \"\\u0441\\u0442\\u0440\\u0430\\u043d\\u0430\", \"\\u0432\\u043e\\u0435\\u043d\\u043d\\u044b\\u0439\", \"\\u0433\\u043e\\u0441\\u0443\\u0434\\u0430\\u0440\\u0441\\u0442\\u0432\\u043e\", \"\\u043c\\u0435\\u0436\\u0434\\u0443\\u043d\\u0430\\u0440\\u043e\\u0434\\u043d\\u044b\\u0439\", \"\\u0440\\u043e\\u0441\\u0441\\u0438\\u044f\", \"\\u043e\\u0440\\u0433\\u0430\\u043d\\u0438\\u0437\\u0430\\u0446\\u0438\\u044f\", \"\\u0432\\u043e\\u0441\\u0442\\u043e\\u0447\\u043d\\u044b\\u0439\", \"\\u0441\\u0438\\u043b\\u0430\", \"\\u0440\\u0444\", \"\\u0430\\u0440\\u043c\\u0438\\u044f\", \"\\u0431\\u0435\\u0437\\u043e\\u043f\\u0430\\u0441\\u043d\\u043e\\u0441\\u0442\\u044c\", \"\\u0440\\u0430\\u0431\\u043e\\u0442\\u0430\", \"\\u0446\\u0435\\u043d\\u0442\\u0440\", \"\\u0432\\u043b\\u0430\\u0434\\u0438\\u043c\\u0438\\u0440\", \"\\u0440\\u0435\\u0441\\u043f\\u0443\\u0431\\u043b\\u0438\\u043a\\u0430\", \"\\u043c\\u0438\\u043d\\u043e\\u0431\\u043e\\u0440\\u043e\\u043d\\u044b\", \"\\u043f\\u0430\\u043c\\u044f\\u0442\\u043a\\u0430\\u043c\\u0447\\u0441\", \"\\u0431\\u0435\\u0437\\u043e\\u043f\\u0430\\u0441\\u043d\\u043e\\u0441\\u0442\\u044c\\u044d\\u0442\\u043e\", \"\\u0431\\u0435\\u0440\\u0435\\u0447\\u044c\", \"\\u0432\\u044b\\u0442\\u0430\\u0441\\u043a\\u0438\\u0432\\u0430\\u0442\\u044c\", \"\\u043c\\u0430\\u043b\\u0435\\u043d\\u044c\\u043a\\u0430\\u044f\\u0441\\u043f\\u0430\\u0441\\u0435\\u043d\\u043d\\u0430\\u044f\\u0436\\u0438\\u0437\\u043d\\u044c\", \"\\u043f\\u0440\\u043e\\u0432\\u0430\\u043b\\u0438\\u0432\\u0430\\u0442\\u044c\\u0441\\u044f\", \"\\u0434\\u0435\\u0442\\u0438\\u0433\\u0435\\u0440\\u043e\\u0439\", \"\\u0442\\u043e\\u043d\\u0443\\u0442\\u044c\", \"\\u0431\\u0440\\u043e\\u0441\\u0430\\u0442\\u044c\\u0441\\u044f\", \"\\u0440\\u044b\\u0431\\u0430\\u043a\", \"\\u0433\\u0435\\u0440\\u043e\\u0438\\u043c\\u0447\\u0441\", \"\\u043f\\u0430\\u0432\\u043e\\u0434\\u043e\\u043a\", \"\\u0448\\u0430\\u0445\\u0442\\u0430\", \"\\u0436\\u0438\\u0432\\u043e\\u0442\\u043d\\u043e\\u0435\", \"\\u043a\\u0440\\u0438\\u043a\", \"\\u0443\\u043f\\u0430\\u0441\\u0442\\u044c\", \"\\u0431\\u0440\\u0430\\u0442\", \"\\u0449\\u0435\\u043d\\u043e\\u043a\", \"\\u0430\\u044d\\u0440\\u043e\\u043c\\u043e\\u0431\\u0438\\u043b\\u044c\\u043d\\u044b\\u0439\", \"\\u0434\\u043e\\u0441\\u0442\\u0430\\u0432\\u0430\\u0442\\u044c\", \"\\u043a\\u043e\\u043b\\u043e\\u0434\\u0435\\u0446\", \"\\u0441\\u0445\\u0432\\u0430\\u0442\\u044b\\u0432\\u0430\\u0442\\u044c\", \"\\u0440\\u044b\\u0431\\u0430\\u043b\\u043a\\u0430\", \"\\u0441\\u043e\\u0437\\u043d\\u0430\\u043d\\u0438\\u0435\", \"\\u0437\\u0430\\u0441\\u0442\\u0440\\u0435\\u0432\\u0430\\u0442\\u044c\", \"\\u0431\\u0443\\u0434\\u043d\\u0438\\u043c\\u0447\\u0441\", \"\\u044d\\u0432\\u0430\\u043a\\u0443\\u0438\\u0440\\u043e\\u0432\\u0430\\u0442\\u044c\", \"\\u0434\\u044b\\u043c\", \"\\u043b\\u044c\\u0434\\u0438\\u043d\\u0430\", \"\\u0432\\u044b\\u0431\\u0438\\u0440\\u0430\\u0442\\u044c\\u0441\\u044f\", \"\\u0441\\u043f\\u0430\\u0441\\u0430\\u0442\\u044c\", \"\\u0434\\u0435\\u0432\\u043e\\u0447\\u043a\\u0430\", \"\\u043c\\u0447\\u0441\\u0440\\u043e\\u0441\\u0441\\u0438\\u044f\", \"\\u0441\\u043f\\u0430\\u0441\\u0430\\u0442\\u0435\\u043b\\u044c\", \"\\u043c\\u0447\\u0441\", \"\\u0433\\u043e\\u0440\\u0435\\u0442\\u044c\", \"\\u043f\\u043e\\u0436\\u0430\\u0440\", \"\\u043f\\u043e\\u0441\\u043b\\u0435\\u0434\\u0441\\u0442\\u0432\\u0438\\u0435\", \"\\u043c\\u0443\\u0436\\u0447\\u0438\\u043d\\u0430\", \"\\u043b\\u0435\\u0434\", \"\\u043f\\u043e\\u0441\\u0442\\u0440\\u0430\\u0434\\u0430\\u0432\\u0448\\u0438\\u0439\", \"\\u0441\\u043f\\u0430\\u0441\\u0430\\u0442\\u0435\\u043b\\u044c\\u043d\\u044b\\u0439\", \"\\u0432\\u043e\\u0434\\u0430\", \"\\u0440\\u0435\\u0431\\u0435\\u043d\\u043e\\u043a\", \"\\u043b\\u0438\\u043a\\u0432\\u0438\\u0434\\u0430\\u0446\\u0438\\u044f\", \"\\u0440\\u0435\\u043a\\u0430\", \"\\u043f\\u0440\\u0430\\u0432\\u0438\\u043b\\u043e\", \"\\u043f\\u043e\\u043c\\u043e\\u0449\\u044c\", \"\\u043f\\u043e\\u0438\\u0441\\u043a\\u043e\\u0432\\u044b\\u0439\", \"\\u0431\\u0435\\u0440\\u0435\\u0433\", \"\\u0444\\u043e\\u0442\\u043e\", \"\\u0434\\u043e\\u043c\", \"\\u0441\\u043e\\u0442\\u0440\\u0443\\u0434\\u043d\\u0438\\u043a\", \"\\u0447\\u0435\\u043b\\u043e\\u0432\\u0435\\u043a\", \"\\u0447\\u0440\\u0435\\u0437\\u0432\\u044b\\u0447\\u0430\\u0439\\u043d\\u044b\\u0439\", \"\\u043f\\u043e\\u0436\\u0430\\u0440\\u043d\\u044b\\u0439\", \"\\u0440\\u043e\\u0441\\u0441\\u0438\\u044f\", \"\\u0431\\u0435\\u0437\\u043e\\u043f\\u0430\\u0441\\u043d\\u043e\\u0441\\u0442\\u044c\", \"\\u0440\\u0430\\u0431\\u043e\\u0442\\u0430\", \"\\u043f\\u0443\\u0447\\u043e\\u043a\", \"\\u043e\\u0431\\u043b\\u0430\\u0441\\u0442\\u044c\", \"\\u0441\\u0438\\u0442\\u0443\\u0430\\u0446\\u0438\\u044f\", \"\\u043c\\u0435\\u0441\\u0442\\u043e\", \"\\u0440\\u0430\\u0439\\u043e\\u043d\", \"\\u0432\\u043b\\u0430\\u0434\\u0438\\u043c\\u0438\\u0440\", \"\\u043e\\u043f\\u0435\\u0440\\u0430\\u0446\\u0438\\u044f\", \"\\u043d\\u043e\\u0432\\u044b\\u0439\", \"\\u043e\\u0442\\u043a\\u0440\\u044b\\u0442\\u043a\\u0430\", \"\\u043f\\u043e\\u0447\\u0442\\u0430\\u0440\\u043e\\u0441\\u0441\\u0438\\u044f\", \"\\u043f\\u043e\\u0447\\u0442\\u0430\", \"\\u043f\\u043e\\u0447\\u0442\\u043e\\u0432\\u044b\\u0439\", \"\\u043f\\u0438\\u0441\\u044c\\u043c\\u043e\", \"\\u043a\\u043e\\u043d\\u0432\\u0435\\u0440\\u0442\", \"\\u043f\\u043e\\u0441\\u044b\\u043b\\u043a\\u0430\", \"\\u043f\\u043e\\u0434\\u043f\\u0438\\u0441\\u043a\\u0430\", \"\\u043e\\u0442\\u043f\\u0440\\u0430\\u0432\\u043b\\u0435\\u043d\\u0438\\u0435\", \"\\u0443\\u0441\\u043b\\u0443\\u0433\\u0438\\u043f\\u043e\\u0447\\u0442\\u0430\", \"\\u043f\\u043e\\u0447\\u0442\\u0430\\u043b\\u044c\\u043e\\u043d\", \"\\u0448\\u0442\\u0435\\u043c\\u043f\\u0435\\u043b\\u044c\", \"\\u043c\\u0430\\u0440\\u043a\\u0430\", \"\\u043a\\u043b\\u0438\\u0435\\u043d\\u0442\", \"\\u043d\\u0430\\u043f\\u0438\\u0441\\u0430\\u0442\\u044c\", \"\\u0432\\u0444\\u043c\\u0441\", \"\\u043a\\u0430\\u0440\\u0442\\u043e\\u0447\\u043a\\u0430\", \"\\u0444\\u0438\\u043b\\u0430\\u0442\\u0435\\u043b\\u0438\\u044f\", \"\\u0442\\u0438\\u0440\\u0430\\u0436\", \"\\u043f\\u043e\\u0441\\u0442\\u043a\\u0440\\u043e\\u0441\\u0441\\u0438\\u043d\\u0433\", \"\\u043f\\u043e\\u0447\\u0442\\u0430\\u0440\\u043e\\u0441\\u0441\\u0438\\u0438\\u0444\\u0435\\u0441\\u0442\", \"\\u0441\\u0442\\u043e\\u0438\\u043c\\u043e\\u0441\\u0442\\u044c\", \"\\u0430\\u0434\\u0440\\u0435\\u0441\\u0430\\u0442\", \"\\u0433\\u0430\\u0448\\u0435\\u043d\\u0438\\u0435\", \"\\u043e\\u043f\\u043b\\u0430\\u0442\\u0430\", \"\\u043f\\u043e\\u0447\\u0442\\u0430\\u043c\\u0442\", \"\\u043f\\u043e\\u0434\\u0430\\u0440\\u043e\\u043a\", \"\\u043e\\u043f\\u043b\\u0430\\u0447\\u0438\\u0432\\u0430\\u0442\\u044c\", \"\\u0431\\u0430\\u043d\\u043a\", \"\\u0438\\u043d\\u0434\\u0435\\u043a\\u0441\", \"\\u0443\\u0441\\u043b\\u0443\\u0433\\u0430\", \"\\u043f\\u043e\\u043b\\u0443\\u0447\\u0430\\u0442\\u0435\\u043b\\u044c\", \"\\u043d\\u043e\\u0432\\u043e\\u0441\\u0442\\u044c\", \"\\u043e\\u0442\\u043f\\u0440\\u0430\\u0432\\u043b\\u044f\\u0442\\u044c\", \"\\u0444\\u0435\\u0441\\u0442\\u0438\\u0432\\u0430\\u043b\\u044c\", \"\\u043e\\u0442\\u0434\\u0435\\u043b\\u0435\\u043d\\u0438\\u0435\", \"\\u0430\\u0440\\u0442\\u0435\\u043a\", \"\\u0444\\u043e\\u0442\\u043e\\u0433\\u0440\\u0430\\u0444\\u0438\\u044f\", \"\\u0430\\u0434\\u0440\\u0435\\u0441\", \"\\u043f\\u0438\\u0441\\u0430\\u0442\\u044c\", \"\\u0436\\u0443\\u0440\\u043d\\u0430\\u043b\", \"\\u0434\\u0440\\u0443\\u0433\", \"\\u043f\\u043e\\u0431\\u0435\\u0434\\u0438\\u0442\\u0435\\u043b\\u044c\", \"\\u0441\\u0442\\u0435\\u043d\\u0434\", \"\\u0442\\u0435\\u043a\\u0441\\u0442\", \"\\u043f\\u043e\\u0436\\u0430\\u0440\\u043d\\u044b\\u0439\", \"\\u0441\\u0430\\u0439\\u0442\", \"\\u0440\\u043e\\u0441\\u0441\\u0438\\u044f\", \"\\u043c\\u043e\\u0441\\u043a\\u0432\\u0430\", \"\\u0432\\u0430\\u0448\", \"\\u043f\\u043e\\u043b\\u0443\\u0447\\u0430\\u0442\\u044c\", \"\\u043a\\u0430\\u0436\\u0434\\u044b\\u0439\", \"\\u0441\\u0442\\u0430\\u043d\\u043e\\u0432\\u0438\\u0442\\u044c\\u0441\\u044f\", \"\\u0445\\u043e\\u0440\\u043e\\u0448\\u0438\\u0439\", \"\\u043f\\u0435\\u0440\\u0432\\u044b\\u0439\", \"\\u043c\\u0447\\u0441\", \"\\u0433\\u043e\\u0440\\u043e\\u0434\", \"\\u0441\\u0435\\u0433\\u043e\\u0434\\u043d\\u044f\", \"\\u043a\\u043e\\u043d\\u043a\\u0443\\u0440\\u0441\", \"\\u0441\\u0430\\u043c\\u044b\\u0439\", \"\\u043d\\u043e\\u0432\\u044b\\u0439\", \"\\u0440\\u0430\\u0431\\u043e\\u0442\\u0430\", \"\\u0441\\u0442\\u0440\\u0430\\u043d\\u0430\", \"\\u043f\\u0440\\u043e\\u0445\\u043e\\u0434\\u0438\\u0442\\u044c\", \"\\u0443\\u0447\\u0430\\u0441\\u0442\\u0438\\u0435\", \"\\u0447\\u0435\\u043b\\u043e\\u0432\\u0435\\u043a\", \"\\u043f\\u0440\\u0438\\u043d\\u0438\\u043c\\u0430\\u0442\\u044c\", \"\\u043c\\u0447\\u0441\\u0440\\u043e\\u0441\\u0441\\u0438\\u044f\"], \"Total\": [3279.0, 1572.0, 3518.0, 578.0, 521.0, 660.0, 574.0, 767.0, 428.0, 886.0, 1339.0, 2273.0, 310.0, 401.0, 485.0, 638.0, 644.0, 531.0, 714.0, 400.0, 580.0, 502.0, 225.0, 497.0, 710.0, 432.0, 277.0, 446.0, 281.0, 681.0, 531.0778874686445, 262.0140378795485, 253.29749132930587, 446.6637819806942, 264.5689442279274, 142.39635322973882, 296.70191848879114, 398.4522258300991, 137.44437485977784, 502.25561290590844, 115.76999224463216, 213.23692694782736, 638.763173000013, 159.82508837738206, 215.56621394241319, 104.63084437553027, 148.24991488517543, 68.1865602718296, 62.89295764715723, 324.7952137979609, 115.53823815763477, 111.779809810738, 76.05579477796977, 102.78061610660932, 57.60039259453185, 132.1988425640914, 71.60371983080832, 473.4050739858021, 186.53390221052842, 229.68106635629178, 580.8512731246816, 237.61909963625553, 147.30175217200681, 714.5038272080244, 320.3179853942689, 328.4477719391275, 225.07148373978242, 327.53714460818446, 489.61022420302146, 298.1357116057974, 255.88955174390162, 666.3583444038379, 630.0409724035508, 288.803172662014, 426.27955829927237, 689.9667877633333, 308.5983037714057, 1023.9197187938639, 971.1327706327584, 732.5777374952236, 1473.598798628756, 581.7741925024725, 614.9785132835726, 649.6614506569615, 2273.056833605491, 455.9412130884911, 515.7402456675461, 761.034306004705, 494.14897827034724, 586.798431838283, 545.135405982068, 463.2627234955038, 574.446370818154, 650.6475598337797, 915.9399937473511, 3518.4978569820537, 925.7560082781462, 428.86689278121383, 171.88153800379072, 124.87799243804903, 63.45063497534478, 574.1382767236346, 130.97357909852437, 37.95786267142487, 31.426921036088736, 84.53503210342872, 173.02215406660704, 103.14573149089506, 44.1487854298746, 55.73270224946874, 95.90932948495272, 38.049727046706465, 90.70753018504121, 106.79498135841433, 60.20240776348422, 28.586263810858807, 30.77421292480131, 54.871038665200636, 104.65008247269452, 28.417712784778637, 22.919067184994873, 22.98708279555162, 48.48087886736228, 39.48472096011737, 29.193912639207234, 190.35281966115087, 50.98813008879807, 101.03424225638527, 31.864158766471974, 485.4204632725938, 271.07212999812026, 66.91728682162855, 112.73909736030508, 63.89039512636452, 55.90997235277955, 432.696089830798, 165.81853695234534, 497.6710696635471, 397.29860136799323, 323.31940647515756, 886.8175525027128, 257.02983884979676, 198.3594481189574, 379.9952823253128, 400.0383368675604, 1339.151642106917, 225.09993684120678, 367.77893767436, 371.55260401427023, 181.78193026601485, 618.4423841482114, 2273.056833605491, 170.10544796737062, 630.1495687724106, 3518.4978569820537, 328.51304247268246, 321.75626367901833, 890.4054361504126, 320.8730907016135, 505.0311964112941, 681.7821233940086, 950.7300588096709, 716.2363203780787, 473.70654529552985, 465.9281579855124, 1473.598798628756, 178.4743898775191, 83.98566728780882, 91.78313575472576, 59.85190617244437, 64.57263757813645, 41.121879017203, 48.75163414855345, 51.92781813512362, 42.88489553535821, 45.22469885087044, 38.79371815448713, 84.14110643813217, 35.153151713832735, 94.44545575612622, 24.880979580567615, 31.15781850076251, 40.60947062862499, 20.13480960429855, 36.094990125120354, 21.094213098765316, 22.674477395719503, 20.256338540176845, 16.893371873179227, 17.977635985071906, 18.195121211955172, 277.0571778854321, 46.13231445366313, 71.96247065569523, 16.33328005461851, 50.86805924364434, 281.9949503900237, 80.37914395855222, 1572.5017461381776, 660.1936368900878, 3279.071547032967, 64.71600177962188, 400.87343972572825, 159.65058536401287, 95.17950025702639, 124.14690190765575, 118.98200951867614, 644.7544424996368, 382.6544315417782, 321.5062113488467, 197.00814882511006, 130.74293386340923, 237.74487058423193, 710.1177495375905, 282.2551538886552, 190.40955629181752, 233.32709292192607, 352.80221450224883, 336.9410122928026, 775.4881666909467, 253.71487643465196, 767.7272413582166, 3518.4978569820537, 681.7821233940086, 950.7300588096709, 296.18948400354583, 853.2805680535398, 346.6034578799222, 463.55666695581124, 608.036711422481, 473.70654529552985, 342.95607095744873, 925.7560082781462, 225.6598549167851, 310.507876517013, 578.6971784929033, 521.3691023481861, 189.40724955375345, 89.2127549254049, 122.15980174528688, 66.18753274108273, 137.98319668305447, 64.00219003032856, 81.67947734966242, 54.73762646527174, 166.07212530113333, 78.56033068898122, 59.484008390471054, 33.24712382997526, 50.03110416692516, 40.87481771082792, 35.414565344371475, 27.881509540201975, 27.928896213082815, 26.82241865878036, 25.66870939213954, 30.51719057468256, 26.544548506269887, 28.137780661797915, 60.424450460623135, 30.218714973815683, 21.45297423495541, 20.914841155344828, 101.12210777336131, 27.455306809041044, 114.1806070536138, 162.12636573392302, 121.07164988091978, 401.81003310397944, 66.13906494137497, 45.9328488975868, 104.19384098566567, 57.40554548194948, 44.36079032378956, 237.44431541695224, 144.86524171722405, 61.05670974263343, 99.33404850109122, 767.7272413582166, 212.83791175607945, 3518.4978569820537, 450.4582169113485, 164.42398791137578, 381.27638159784175, 236.1994252869305, 461.81362170326435, 261.3807742269091, 713.8816448930818, 3279.071547032967, 486.6194325316211, 445.1581212355271, 492.8569461401063, 359.9898637190381, 925.7560082781462, 950.7300588096709, 618.4423841482114, 915.9399937473511, 648.4972043445919, 775.4881666909467, 652.817305242259, 1572.5017461381776], \"loglift\": [30.0, 29.0, 28.0, 27.0, 26.0, 25.0, 24.0, 23.0, 22.0, 21.0, 20.0, 19.0, 18.0, 17.0, 16.0, 15.0, 14.0, 13.0, 12.0, 11.0, 10.0, 9.0, 8.0, 7.0, 6.0, 5.0, 4.0, 3.0, 2.0, 1.0, 0.9312, 0.9297, 0.9288, 0.9278, 0.9278, 0.9266, 0.926, 0.9252, 0.9248, 0.924, 0.9238, 0.9237, 0.9222, 0.9216, 0.9209, 0.9198, 0.9185, 0.9179, 0.9176, 0.9174, 0.9174, 0.9172, 0.9169, 0.9167, 0.9159, 0.9155, 0.9155, 0.9154, 0.9137, 0.9136, 0.9048, 0.9107, 0.9136, 0.8929, 0.9019, 0.8979, 0.9054, 0.8939, 0.8808, 0.8949, 0.8925, 0.8518, 0.8432, 0.881, 0.8555, 0.8125, 0.8741, 0.7764, 0.7737, 0.7848, 0.6273, 0.7443, 0.7138, 0.6837, 0.2628, 0.7469, 0.6996, 0.5603, 0.7088, 0.6287, 0.6554, 0.7058, 0.5776, 0.5047, 0.2624, -1.0372, 0.0831, 1.413, 1.403, 1.3968, 1.3928, 1.3915, 1.3909, 1.3903, 1.3902, 1.3889, 1.3886, 1.3886, 1.3881, 1.3836, 1.3813, 1.3811, 1.3779, 1.3776, 1.3741, 1.3734, 1.3723, 1.3722, 1.3721, 1.3708, 1.37, 1.3699, 1.3699, 1.3698, 1.3692, 1.3691, 1.3677, 1.3674, 1.3668, 1.3348, 1.344, 1.3485, 1.3286, 1.349, 1.3529, 1.2402, 1.2806, 1.2019, 1.2166, 1.219, 1.094, 1.214, 1.2245, 1.1333, 1.1202, 0.9593, 1.1911, 1.1168, 1.1029, 1.2153, 0.9041, 0.5613, 1.222, 0.8535, 0.2504, 0.9856, 0.9896, 0.6079, 0.9886, 0.7799, 0.5825, 0.3952, 0.5199, 0.7216, 0.7272, -0.1811, 1.6116, 1.6087, 1.6062, 1.5983, 1.5923, 1.5923, 1.5922, 1.5865, 1.5862, 1.5837, 1.5815, 1.5751, 1.5745, 1.57, 1.5696, 1.5693, 1.5682, 1.5631, 1.5615, 1.5614, 1.5611, 1.5576, 1.5575, 1.5547, 1.5525, 1.5516, 1.5507, 1.5504, 1.55, 1.5496, 1.5419, 1.5449, 1.5051, 1.5009, 1.4326, 1.5267, 1.4497, 1.4865, 1.4784, 1.4545, 1.4477, 1.2673, 1.3145, 1.3347, 1.3807, 1.4136, 1.3091, 1.0875, 1.2255, 1.3013, 1.2488, 1.1476, 1.1579, 0.9291, 1.2096, 0.8973, 0.4145, 0.8507, 0.4935, 0.9827, 0.3853, 0.8536, 0.6548, 0.4417, 0.5317, 0.8044, -0.1061, 1.73, 1.7284, 1.7267, 1.7263, 1.7239, 1.7204, 1.7175, 1.7136, 1.7116, 1.7111, 1.7108, 1.708, 1.7054, 1.7045, 1.7045, 1.7011, 1.6995, 1.6994, 1.6962, 1.6931, 1.6916, 1.6882, 1.686, 1.6853, 1.6848, 1.6847, 1.684, 1.6838, 1.683, 1.681, 1.6718, 1.6808, 1.6653, 1.6525, 1.6435, 1.5919, 1.6571, 1.6637, 1.6138, 1.6467, 1.6597, 1.391, 1.4454, 1.5965, 1.4952, 0.9717, 1.2747, 0.3894, 0.9538, 1.279, 0.9134, 1.0546, 0.7226, 0.9916, 0.4669, -0.3979, 0.6146, 0.6649, 0.5992, 0.7713, 0.1138, -0.0554, 0.277, -0.0452, 0.2338, 0.0758, 0.1871, -0.7942], \"logprob\": [30.0, 29.0, 28.0, 27.0, 26.0, 25.0, 24.0, 23.0, 22.0, 21.0, 20.0, 19.0, 18.0, 17.0, 16.0, 15.0, 14.0, 13.0, 12.0, 11.0, 10.0, 9.0, 8.0, 7.0, 6.0, 5.0, 4.0, 3.0, 2.0, 1.0, -5.3633, -6.0714, -6.1061, -5.5398, -6.0635, -6.6843, -5.9508, -5.6567, -6.7214, -5.4264, -6.8941, -6.2834, -5.1878, -6.5738, -6.2753, -6.9992, -6.6521, -7.4293, -7.5105, -5.8688, -6.9024, -6.9358, -7.3211, -7.0202, -7.6, -6.7696, -7.3829, -5.4942, -6.4272, -6.2191, -5.3002, -6.1882, -6.6634, -5.105, -5.8983, -5.8772, -6.2477, -5.884, -5.4951, -5.977, -6.1323, -5.2158, -5.2805, -6.0227, -5.6589, -5.2203, -5.9634, -4.8617, -4.9174, -5.1881, -4.6467, -5.4591, -5.4341, -5.4093, -4.5778, -5.7002, -5.6243, -5.3745, -5.6579, -5.5661, -5.613, -5.7254, -5.6385, -5.5868, -5.4871, -5.4409, -5.6557, -5.0953, -6.0197, -6.3453, -7.0264, -4.8251, -6.3036, -7.5427, -7.7316, -6.7434, -6.0275, -6.5448, -7.3938, -7.1653, -6.6248, -7.5495, -6.6839, -6.521, -7.0977, -7.8431, -7.7705, -7.1923, -6.5467, -7.8517, -8.0675, -8.0646, -7.3184, -7.5238, -7.8263, -5.9515, -7.2702, -6.5866, -7.7412, -5.0497, -5.6231, -7.0175, -6.5158, -7.0633, -7.1928, -5.2593, -6.178, -5.1577, -5.3682, -5.5718, -4.6878, -5.8063, -6.0549, -5.496, -5.4577, -4.4104, -5.9618, -5.5452, -5.5489, -6.1514, -5.2382, -4.2793, -6.2111, -5.27, -4.1533, -5.7893, -5.8061, -5.1699, -5.8098, -5.5649, -5.4623, -5.317, -5.4756, -5.6873, -5.6983, -5.4551, -5.7734, -6.5302, -6.4439, -6.8793, -6.8094, -7.2607, -7.0905, -7.0331, -7.2247, -7.1741, -7.3298, -6.5619, -7.4353, -6.4515, -7.7858, -7.5611, -7.2973, -8.0039, -7.4218, -7.9591, -7.8871, -8.0034, -8.1851, -8.1256, -8.1158, -5.3936, -7.1873, -6.7429, -8.2263, -7.0906, -5.3857, -6.6379, -3.704, -4.5761, -3.0415, -6.8728, -5.1261, -6.01, -6.5353, -6.2935, -6.3428, -4.8333, -5.3079, -5.4618, -5.9055, -6.2826, -5.7892, -4.9165, -5.7011, -6.0191, -5.8682, -5.556, -5.5917, -4.9869, -5.8237, -5.0288, -3.9892, -5.1941, -5.2188, -5.8958, -5.4351, -5.8677, -5.7758, -5.7176, -5.8772, -5.9274, -5.845, -5.4205, -5.1029, -4.482, -4.5867, -5.6017, -6.3581, -6.0466, -6.6634, -5.9307, -6.6995, -6.4559, -6.859, -5.7516, -6.5011, -6.7793, -7.3644, -6.9573, -7.1595, -7.3061, -7.5484, -7.5482, -7.592, -7.6383, -7.4659, -7.6059, -7.5477, -6.7841, -7.4772, -7.8206, -7.848, -6.2814, -7.5761, -6.1664, -5.8286, -6.1296, -4.9816, -6.7206, -7.0787, -6.3094, -6.8726, -7.1174, -5.7086, -6.1483, -6.8612, -6.4758, -4.9544, -5.9342, -4.0143, -5.5054, -6.1881, -5.7126, -6.0502, -5.7117, -6.0119, -5.5318, -4.8721, -5.7674, -5.8061, -5.77, -5.9121, -5.6251, -5.7676, -5.8652, -5.7947, -5.861, -5.8402, -5.901, -6.0033]}, \"token.table\": {\"Topic\": [1, 2, 3, 4, 1, 2, 3, 4, 1, 4, 1, 2, 3, 4, 1, 2, 3, 4, 1, 2, 3, 4, 1, 2, 3, 4, 1, 2, 1, 2, 3, 4, 1, 4, 1, 2, 3, 4, 1, 2, 3, 1, 2, 3, 4, 1, 2, 3, 1, 2, 3, 4, 1, 2, 3, 4, 1, 2, 3, 4, 1, 2, 3, 4, 1, 2, 3, 1, 2, 3, 1, 2, 3, 4, 1, 2, 3, 4, 1, 2, 3, 4, 1, 2, 3, 4, 1, 2, 3, 4, 1, 2, 3, 4, 1, 2, 3, 4, 1, 2, 3, 4, 1, 2, 3, 4, 1, 2, 3, 4, 1, 2, 3, 4, 1, 2, 3, 4, 1, 2, 3, 4, 1, 2, 3, 4, 1, 2, 3, 4, 1, 2, 3, 4, 1, 2, 3, 4, 1, 4, 1, 2, 3, 4, 1, 2, 3, 4, 1, 2, 3, 4, 1, 2, 3, 1, 2, 3, 1, 2, 4, 1, 2, 3, 4, 1, 2, 3, 1, 2, 3, 1, 2, 3, 4, 1, 2, 1, 2, 3, 4, 1, 2, 3, 4, 1, 2, 3, 4, 1, 2, 3, 4, 1, 2, 3, 4, 1, 2, 3, 4, 1, 2, 3, 4, 1, 2, 3, 1, 2, 1, 2, 3, 1, 2, 1, 2, 3, 4, 1, 2, 3, 1, 2, 3, 4, 1, 2, 3, 4, 1, 2, 1, 2, 3, 4, 1, 2, 3, 4, 1, 2, 3, 4, 1, 2, 3, 4, 1, 3, 1, 2, 3, 4, 1, 2, 3, 4, 1, 2, 3, 4, 1, 4, 1, 2, 3, 4, 1, 2, 3, 4, 1, 2, 4, 1, 2, 3, 4, 1, 2, 3, 1, 2, 3, 4, 1, 2, 4, 1, 2, 3, 4, 1, 2, 3, 4, 1, 2, 1, 2, 3, 4, 1, 2, 3, 1, 2, 3, 4, 1, 2, 3, 4, 1, 2, 3, 4, 1, 2, 3, 4, 1, 3, 1, 2, 3, 4, 1, 2, 3, 4, 1, 2, 3, 4, 1, 2, 3, 4, 1, 2, 3, 4, 1, 2, 3, 4, 1, 2, 3, 4, 1, 2, 3, 4, 1, 2, 3, 4, 1, 2, 3, 4, 1, 2, 3, 4, 1, 2, 3, 4, 1, 2, 3, 4, 1, 2, 3, 4, 1, 2, 3, 4, 1, 2, 1, 2, 3, 4, 1, 2, 3, 4, 1, 2, 3, 4, 1, 2, 3, 4, 1, 2, 3, 4, 1, 2, 3, 4, 1, 2, 3, 4, 1, 2, 3, 4, 1, 2, 3, 4, 1, 2, 3, 4, 1, 2, 3, 4, 1, 2, 3, 4, 1, 2, 4, 1, 2, 4, 1, 2, 3, 4, 1, 2, 3, 4, 1, 2, 3, 4, 1, 2, 3, 4, 1, 2, 3, 4, 1, 2, 3, 4, 1, 2, 3, 4, 1, 2, 3, 4, 1, 2, 3, 4, 1, 2, 3, 4, 1, 2, 3, 4, 1, 2, 1, 2, 3, 4, 1, 2, 3, 4, 1, 2, 3, 4, 1, 2, 3, 4, 1, 2, 3, 4, 1, 2, 3, 4, 1, 2, 4, 1, 2, 3, 4, 1, 2, 3, 4, 1, 2, 3, 4, 1, 2, 3, 4, 1, 2, 3, 4, 1, 2, 3, 4, 1, 2, 3, 4, 1, 2, 4, 1, 2, 3, 4, 1, 2, 3, 4, 1, 2, 3, 4, 1, 4, 1, 2, 3, 4, 1, 2, 3, 4, 1, 2, 3, 4, 1, 2, 3, 4, 1, 2, 4, 1, 4, 1, 2, 3, 4, 1, 2, 3, 4, 1, 2, 3, 4, 1, 2, 3, 4, 1, 2, 3, 4, 1, 2, 3, 4, 1, 2, 3, 1, 2, 3, 4, 1, 2, 3, 4, 1, 2, 3, 4, 1, 2, 3, 4, 1, 2, 3, 4, 1, 2, 3, 4, 1, 2, 3, 4, 1, 2, 3, 4, 1, 2, 3, 4, 1, 2, 3, 4, 1, 2, 3, 4, 1, 2, 3, 4, 1, 2, 3, 4, 1, 2, 3, 4, 1, 2, 3, 4, 1, 2, 3, 4, 1, 2, 3, 4, 1, 2, 3, 4, 1, 2, 3, 4, 1, 2, 3, 4, 1, 3, 1, 2, 3, 4, 1, 2, 3, 4, 1, 2, 3, 1, 2, 3, 4, 1, 2, 3, 4, 1, 2, 1, 2, 3, 4, 1, 2, 3, 4, 1, 2, 3, 4, 1, 2, 3, 4, 1, 2, 3, 4, 1, 2, 3, 4, 1, 2, 3, 4, 1, 2, 3, 4, 1, 2, 3, 4, 1, 2, 3, 4, 1, 3, 1, 2, 3, 4, 1, 2, 3, 4, 1, 2, 3, 4, 1, 2, 3, 4, 1, 2, 3, 4, 1, 2, 3, 4, 1, 2, 3, 4, 1, 2, 3, 4, 1, 4, 1, 2, 3, 4, 1, 2, 3, 4, 1, 2, 3, 4, 1, 2, 3, 4, 1, 2, 3, 4, 1, 2, 3, 4, 1, 2, 3, 1, 2, 3, 4, 1, 2, 3, 4, 1, 2, 3, 4, 1, 2, 3, 4, 1, 2, 4, 1, 2, 3, 4, 1, 2, 3, 4, 1, 2, 3, 1, 2, 3, 4, 1, 2, 3, 4, 1, 2, 4, 1, 2, 3, 4, 1, 2, 3, 4, 1, 2, 3, 4, 1, 2, 3, 4, 1, 2, 3, 4, 1, 2, 4, 1, 2, 3, 4, 1, 2, 3, 1, 2, 3, 4, 1, 2, 3, 4, 1, 2, 3, 4, 1, 2, 3, 4, 1, 2, 3, 4, 1, 2, 3, 4, 1, 2, 3, 4, 1, 2, 3, 4, 1, 2, 3, 1, 2, 3, 4, 1, 2, 1, 2, 4, 1, 3, 1, 2, 3, 4, 1, 2, 3, 4, 1, 2, 3, 4], \"Freq\": [0.7932830325221033, 0.08297092942195468, 0.10320774147608998, 0.02023681205413529, 0.028792488803754925, 0.06718247387542817, 0.028792488803754925, 0.8829696566484844, 0.038957938427018356, 0.9349905222484406, 0.018224550224054767, 0.9476766116508478, 0.018224550224054767, 0.018224550224054767, 0.3623538531884395, 0.5207599092271016, 0.04554174111111534, 0.07128272521739792, 0.030239314719262826, 0.015119657359631413, 0.030239314719262826, 0.9222990989375162, 0.9709115493833184, 0.013061590350448229, 0.008707726900298819, 0.004353863450149409, 0.03181985275782065, 0.9545955827346195, 0.027704675816050402, 0.027704675816050402, 0.9419589777457137, 0.027704675816050402, 0.04661358322850186, 0.9322716645700372, 0.05866976945783544, 0.4282893170421987, 0.4576242017711164, 0.05573628098494367, 0.011906793531485792, 0.011906793531485792, 0.976357069581835, 0.21007348989720281, 0.04726653522687063, 0.7195017028979197, 0.026259186237150352, 0.010895247713831914, 0.010895247713831914, 0.9696770465310403, 0.9884966549733718, 0.00381658940144159, 0.00381658940144159, 0.00381658940144159, 0.847722711134491, 0.09864054588085668, 0.022462698566927758, 0.0312524501800734, 0.9780781332138194, 0.006745366435957375, 0.006745366435957375, 0.006745366435957375, 0.024624797726250473, 0.024624797726250473, 0.9357423135975179, 0.024624797726250473, 0.9776028419389701, 0.01396575488484243, 0.01396575488484243, 0.023318233320062748, 0.023318233320062748, 0.9560475661225727, 0.9748559385979155, 0.009557411162724662, 0.009557411162724662, 0.009557411162724662, 0.014437453057628662, 0.014437453057628662, 0.9239969956882343, 0.04692172243729315, 0.04257286353967395, 0.20070064240132005, 0.12771859061902185, 0.6264292777980596, 0.9848200450355424, 0.009379238524148023, 0.004689619262074012, 0.004689619262074012, 0.9679356598526012, 0.016833663649610458, 0.008416831824805229, 0.008416831824805229, 0.0578909664438927, 0.807956531673459, 0.08557795039531965, 0.047822972279737454, 0.9415653048308118, 0.012254646049858722, 0.03472149714126638, 0.012254646049858722, 0.0675523703816173, 0.4918656968411509, 0.3335398287592354, 0.10766159029570256, 0.9525637172334431, 0.02747779953558009, 0.009159266511860031, 0.009159266511860031, 0.1750927063095699, 0.06010645141970311, 0.7291173889607464, 0.03397321167200611, 0.5076863820292347, 0.4188192683638054, 0.026396172375870088, 0.047073174070301656, 0.9172384469008384, 0.028150540569846703, 0.0398799324739495, 0.014075270284923351, 0.21052892949210944, 0.7421144764596858, 0.021052892949210943, 0.02631611618651368, 0.10876098629502522, 0.7314176328340446, 0.08157073972126891, 0.08157073972126891, 0.2952545473823978, 0.6433441190332246, 0.04040325385232812, 0.02175559822817668, 0.023658830549126632, 0.9581826372396286, 0.011829415274563316, 0.011829415274563316, 0.0660131619377103, 0.8031601369088087, 0.022004387312570102, 0.1100219365628505, 0.03007778973946644, 0.9624892716629261, 0.039317403292713354, 0.019658701646356677, 0.9239589773787639, 0.019658701646356677, 0.906290265253203, 0.036505562348202576, 0.02222077708151461, 0.03333116562227192, 0.03577179375765816, 0.9300666376991122, 0.03577179375765816, 0.01788589687882908, 0.01670790562824876, 0.01670790562824876, 0.969058526438428, 0.03138322299135095, 0.9414966897405284, 0.03138322299135095, 0.03276841613426933, 0.03276841613426933, 0.9502840678938107, 0.10825208539620787, 0.810344182108756, 0.04330083415848315, 0.04020791743287721, 0.02265067974720138, 0.951328549382458, 0.02265067974720138, 0.025777369315767264, 0.025777369315767264, 0.9537626646833888, 0.026121671104548456, 0.7957062890308607, 0.13261771483847679, 0.04621526426189342, 0.0436317932107944, 0.9598994506374768, 0.0463563866355022, 0.030904257757001466, 0.8962234749530424, 0.030904257757001466, 0.20138940915318224, 0.2198843548917398, 0.25481925239790404, 0.3246890474102326, 0.1410889556259459, 0.8112614948491889, 0.023514825937657646, 0.023514825937657646, 0.022134330076801354, 0.914885643174456, 0.05164677017920316, 0.011067165038400677, 0.022905383060069402, 0.9620260885229149, 0.015270255373379601, 0.007635127686689801, 0.024882076388264434, 0.012441038194132217, 0.920636826365784, 0.03732311458239665, 0.031303609815596455, 0.9234564895600953, 0.015651804907798227, 0.031303609815596455, 0.02051213292569541, 0.02051213292569541, 0.9640702475076843, 0.026345002843187266, 0.9484201023547416, 0.026281397466333695, 0.9461303087880131, 0.026281397466333695, 0.9699019140143301, 0.015900031377284102, 0.051020087913550394, 0.09637127717003964, 0.6150755042911353, 0.2380937435965685, 0.04740636663325127, 0.04740636663325127, 0.9481273326650255, 0.058961192544938375, 0.1052878438302471, 0.13055692634950639, 0.7033227967860506, 0.04168839636362006, 0.013896132121206686, 0.9171447199996413, 0.02779226424241337, 0.03518932039230228, 0.9501116505921615, 0.021176243832888377, 0.010588121916444189, 0.9423428505635328, 0.031764365749332564, 0.022542429760628622, 0.022542429760628622, 0.022542429760628622, 0.9242396201857735, 0.7310857983312214, 0.1806412462077144, 0.04601239290196499, 0.040899904801746656, 0.01601563222592791, 0.9689457496686386, 0.01601563222592791, 0.008007816112963955, 0.05495978775579392, 0.9343163918484966, 0.05322022386629975, 0.9047438057270958, 0.035480149244199836, 0.008870037311049959, 0.9869817450145257, 0.003947926980058102, 0.003947926980058102, 0.003947926980058102, 0.9703329949947508, 0.016082867320354983, 0.005360955773451662, 0.005360955773451662, 0.04781293783550673, 0.9562587567101346, 0.9841527196293853, 0.006740772052256064, 0.003370386026128032, 0.003370386026128032, 0.22015294887712536, 0.101609053327904, 0.17358213276850268, 0.5038115560841907, 0.019987566068171758, 0.019987566068171758, 0.9594031712722444, 0.012729070654742786, 0.012729070654742786, 0.012729070654742786, 0.9674093697604517, 0.04410244975210676, 0.04410244975210676, 0.926151444794242, 0.8558818646930123, 0.0709822280128176, 0.04095128539201016, 0.034126071160008466, 0.011209159506800888, 0.011209159506800888, 0.9751968770916772, 0.5701451551016977, 0.08521742531769148, 0.026376822122142603, 0.3185508517827991, 0.028666962596830874, 0.9460097656954188, 0.019111308397887248, 0.009555654198943624, 0.9825983263109429, 0.014665646661357357, 0.9531089604670936, 0.025192307325121416, 0.011196581033387297, 0.011196581033387297, 0.04019134362302253, 0.04019134362302253, 0.9244009033295182, 0.12887957535904754, 0.016109946919880942, 0.837717239833809, 0.016109946919880942, 0.9751313782386579, 0.008946159433382183, 0.008946159433382183, 0.008946159433382183, 0.9418179083452151, 0.027700526716035737, 0.0103876975185134, 0.0207753950370268, 0.09136677902587233, 0.09644271119397635, 0.7766176217199148, 0.035531525176728126, 0.06122468950853709, 0.9183703426280564, 0.8224744533616406, 0.052638365015144996, 0.07457101710478875, 0.05044509980618062, 0.015486435702582922, 0.015486435702582922, 0.9601590135601412, 0.015486435702582922, 0.012042960228114522, 0.01806444034217178, 0.006021480114057261, 0.9634368182491617, 0.23962564997729335, 0.5617713913374957, 0.09204164038862923, 0.10632396389720963, 0.30416993228886274, 0.1402201815516034, 0.37751587340816295, 0.18120761923591822, 0.9615445090318389, 0.009365693269790639, 0.021853284296178156, 0.006243795513193759, 0.9788175806453927, 0.00927789175967197, 0.004638945879835985, 0.004638945879835985, 0.015675666237337824, 0.9614408625567199, 0.010450444158225217, 0.012192184851262753, 0.7308637880284597, 0.1995115633058191, 0.02035832278630807, 0.04953858544668297, 0.06030688838410089, 0.8623885038926428, 0.0542761995456908, 0.024122755353640356, 0.9822155336493646, 0.007275670619624923, 0.007275670619624923, 0.007275670619624923, 0.9707963272087654, 0.006788785504956402, 0.006788785504956402, 0.013577571009912803, 0.8797524906491704, 0.062321840359002185, 0.028986902492559155, 0.028986902492559155, 0.11321804794613605, 0.21755624899453593, 0.21533628727010187, 0.4550921535089782, 0.031519392221000156, 0.031519392221000156, 0.861530054040671, 0.07354524851566703, 0.034981836262916566, 0.9445095790987472, 0.027446793614929063, 0.03537586732590857, 0.8197442359658813, 0.11771624817069576, 0.01780602156325975, 0.021621597612529696, 0.8813980673813576, 0.0788552383515789, 0.01681124098826187, 0.01681124098826187, 0.01681124098826187, 0.9582407363309267, 0.017516109360505457, 0.04379027340126364, 0.017516109360505457, 0.9283537961067891, 0.42451790373033366, 0.20415746515275587, 0.1760723112163979, 0.19659607755450564, 0.4406522474286647, 0.15938485545292128, 0.2871271293085714, 0.11250695679029737, 0.2311636699357875, 0.7137883076553828, 0.02593543613913713, 0.02819069145558384, 0.04483146496953251, 0.9265169427036719, 0.014943821656510838, 0.014943821656510838, 0.02969290344541979, 0.9402752757716267, 0.019795268963613194, 0.009897634481806597, 0.7900484572520375, 0.07770968431987255, 0.08850269603096594, 0.04533064918659232, 0.022048886083879116, 0.948102101606802, 0.022048886083879116, 0.011024443041939558, 0.23618185201932126, 0.27700340668932744, 0.43737380003578014, 0.04956903067072175, 0.0376725187005459, 0.0376725187005459, 0.9418129675136474, 0.03309207558516282, 0.03309207558516282, 0.9596701919697217, 0.21916938048505993, 0.6392440264147582, 0.057836364294668596, 0.08523253685530109, 0.06719593284275459, 0.03733107380153033, 0.034842335548094974, 0.8611034356886329, 0.00443144838663821, 0.00443144838663821, 0.00443144838663821, 0.9882129902203209, 0.08343367712963029, 0.7212975958303522, 0.06997663243130282, 0.1264962201642782, 0.007247259260828595, 0.01449451852165719, 0.007247259260828595, 0.9711327409510317, 0.024672112903367495, 0.03084014112920937, 0.024672112903367495, 0.9128681774245974, 0.9559404959068917, 0.013416708714482691, 0.02347924025034471, 0.006708354357241346, 0.02376959472800103, 0.02376959472800103, 0.9507837891200412, 0.011884797364000515, 0.005603044788029621, 0.005603044788029621, 0.9805328379051838, 0.005603044788029621, 0.35159889849471104, 0.21992441061222961, 0.14848399697386203, 0.2787576924320617, 0.015760283571450047, 0.9613772978584528, 0.015760283571450047, 0.015760283571450047, 0.9722155957200234, 0.017360992780714703, 0.017419919828380318, 0.034839839656760636, 0.034839839656760636, 0.9058358310757766, 0.005279628960116449, 0.005279628960116449, 0.005279628960116449, 0.9820109865816594, 0.1794771450473387, 0.055223736937642674, 0.020708901351616002, 0.745520448658176, 0.016549591967769256, 0.016549591967769256, 0.016549591967769256, 0.9433267421628476, 0.9535363923111606, 0.027355552238434933, 0.0117238081021864, 0.007815872068124266, 0.6945818100160074, 0.20019275226025277, 0.06266903549016609, 0.04177935699344405, 0.015108585538486133, 0.015108585538486133, 0.9669494744631125, 0.7727101546387879, 0.07696316281262827, 0.12006253398770012, 0.029246001868798745, 0.023118426779383118, 0.9594147113443994, 0.011559213389691559, 0.0057796066948457795, 0.0349237405440944, 0.03242918764808766, 0.8331806672662522, 0.09978211584026973, 0.026050918767213743, 0.03126110252065649, 0.4793369053167329, 0.46240380811804394, 0.2302880890020573, 0.053143405154320915, 0.6660640112674888, 0.04960051147736619, 0.9737960688056035, 0.012674135385756229, 0.006337067692878114, 0.004224711795252076, 0.019612407794881985, 0.9413955741543353, 0.019612407794881985, 0.019612407794881985, 0.036422831001498755, 0.036422831001498755, 0.9469936060389677, 0.2648997023543189, 0.17572554512613237, 0.1258929278515575, 0.43537970881996974, 0.16053675615661447, 0.17743536206783705, 0.5801854696186418, 0.08167659523757578, 0.04384575217209246, 0.06890046769900243, 0.8643876856783942, 0.018791036645182484, 0.03586606379967029, 0.968383722591098, 0.08404631961128829, 0.0588324237279018, 0.832058564151754, 0.025213895883386486, 0.00818599887780664, 0.00818599887780664, 0.00818599887780664, 0.9741338664589901, 0.005184058453184232, 0.006912077937578977, 0.0034560389687894886, 0.9849711061050043, 0.012242977458328863, 0.012242977458328863, 0.012242977458328863, 0.9671952192079802, 0.035539405613381564, 0.035539405613381564, 0.9595639515613021, 0.035805210215632044, 0.9667406758220652, 0.006441060440830454, 0.006441060440830454, 0.003220530220415227, 0.9854822474470595, 0.005754080912137576, 0.007672107882850102, 0.003836053941425051, 0.9839478359755256, 0.09674236059638226, 0.04626808550261761, 0.7234646096772934, 0.13459806691670576, 0.015760207835850987, 0.9403590675391089, 0.015760207835850987, 0.026267013059751647, 0.01939004136275426, 0.9598070474563359, 0.00969502068137713, 0.00969502068137713, 0.3814237122706125, 0.2711325183610378, 0.1348003481117024, 0.21139145499335152, 0.024317954915962333, 0.024317954915962333, 0.9727181966384933, 0.9835629255427455, 0.005973054203700884, 0.005973054203700884, 0.003982036135800589, 0.9847111310080076, 0.008637816938666732, 0.008637816938666732, 0.008637816938666732, 0.5076751786954545, 0.2052536206338612, 0.1200952035623656, 0.16704151040947215, 0.975802794471967, 0.007564362747844705, 0.007564362747844705, 0.007564362747844705, 0.020853028696377042, 0.9488128056851555, 0.020853028696377042, 0.010426514348188521, 0.0371383880727795, 0.3409979268500663, 0.5233136501164384, 0.09791029582823686, 0.1588253138741131, 0.3544644422223584, 0.3208060975602947, 0.16618807676893954, 0.07057894208096462, 0.811657833931093, 0.04033082404626549, 0.07562029508674781, 0.3848451838583316, 0.2664312811326911, 0.30425794450338184, 0.04440521352211518, 0.9590565895462374, 0.024356992750380634, 0.009133872281392737, 0.009133872281392737, 0.9641022167128731, 0.024102555417821827, 0.005164833303818963, 0.005164833303818963, 0.025326252172582844, 0.9370713303855653, 0.025326252172582844, 0.025326252172582844, 0.033221262642141376, 0.9468059853010291, 0.016610631321070688, 0.016610631321070688, 0.03421395796320891, 0.09020043463027803, 0.7433759957460845, 0.13374547203799847, 0.13002614747624044, 0.038242984551835425, 0.8031026755885439, 0.022945790731101257, 0.2232103774316936, 0.493638334704707, 0.18672406573612832, 0.0944351596826396, 0.2695736529374901, 0.6235290864343608, 0.05227189946156317, 0.053765382303322125, 0.13841133909847483, 0.30694917089600166, 0.29614910747558676, 0.2586330976994088, 0.2617857415725563, 0.6419983662374594, 0.040514460005276566, 0.05609694462269063, 0.022111811143232258, 0.022111811143232258, 0.950807879158987, 0.022111811143232258, 0.0591948136527824, 0.9471170184445185, 0.08926981026657854, 0.2584126086664116, 0.028190466399972174, 0.6248886718660498, 0.7967758050337869, 0.0601647036454084, 0.08455579971787126, 0.05853863057391088, 0.9729699126283373, 0.0131482420625451, 0.0131482420625451, 0.21389491138588368, 0.16944921551349226, 0.2361177593220794, 0.377788414915327, 0.11007324737556515, 0.4245682398771799, 0.1257979970006459, 0.3414517061446103, 0.03425371625785461, 0.9248503389620745, 0.02678090641741177, 0.9084907484675838, 0.0391413247639095, 0.024720836692995476, 0.39644861280964727, 0.4391258005908557, 0.1224161438987296, 0.04155410389222931, 0.12060856489940765, 0.8053539656186253, 0.05446838414811958, 0.019452994338614134, 0.11555454549994215, 0.825059454869587, 0.04391072728997802, 0.013866545459993058, 0.10963537476641326, 0.3923792360061106, 0.4587374891542028, 0.04039198017709962, 0.9823238741422661, 0.006256839962689592, 0.006256839962689592, 0.006256839962689592, 0.9780311851893421, 0.00865514323176409, 0.00865514323176409, 0.00865514323176409, 0.01872747178341467, 0.9457373250624408, 0.028091207675122003, 0.009363735891707334, 0.020626688776329262, 0.948827683711146, 0.020626688776329262, 0.020626688776329262, 0.9364925097387341, 0.035645043623273615, 0.009721375533620078, 0.016202292556033462, 0.055624666159130726, 0.9456193247052224, 0.7521067160577839, 0.12290524384358907, 0.06603863848312248, 0.06053541860952895, 0.03858242103428765, 0.06529332790417909, 0.6232544936308004, 0.27601270432221164, 0.017453881521201173, 0.9715994046801986, 0.005817960507067057, 0.005817960507067057, 0.024235313862414214, 0.01969119251321155, 0.8770154203961144, 0.0787647700528462, 0.12097628935692668, 0.05118227626639205, 0.6948381747679891, 0.1318331358376765, 0.01773081394927307, 0.01773081394927307, 0.9149099997824905, 0.0496462790579646, 0.23386057691774795, 0.2295298254933452, 0.17539543268831095, 0.36161774393762874, 0.08189108160390605, 0.03275643264156242, 0.01637821632078121, 0.8680454650014041, 0.03728224559915474, 0.9320561399788684, 0.07107954015681021, 0.7863174129847129, 0.08884942519601277, 0.05330965511760766, 0.09701793010619536, 0.5901924081460218, 0.08246524059026605, 0.23122606675309895, 0.983806776793235, 0.00501942233057773, 0.00501942233057773, 0.00501942233057773, 0.9873198091961283, 0.006716461287048492, 0.004477640858032327, 0.0022388204290161636, 0.9729461039256165, 0.009729461039256164, 0.009729461039256164, 0.009729461039256164, 0.017942786903169267, 0.9509677058679712, 0.017942786903169267, 0.017942786903169267, 0.04936726338852301, 0.04936726338852301, 0.9379780043819372, 0.9759996038525065, 0.012315452414542669, 0.006157726207271334, 0.003078863103635667, 0.9641381324472259, 0.017772131473681584, 0.008886065736840792, 0.008886065736840792, 0.030201124843583154, 0.16107266583244348, 0.030201124843583154, 0.785229245933162, 0.6470476890861658, 0.13063908211953468, 0.15984075929919536, 0.06301414549295202, 0.02823696945807447, 0.02823696945807447, 0.960056961574532, 0.019257500813877, 0.019257500813877, 0.96287504069385, 0.019257500813877, 0.9831712457841346, 0.0070226517556009616, 0.0070226517556009616, 0.0070226517556009616, 0.03209467312275176, 0.03209467312275176, 0.930745520559801, 0.9904385258952355, 0.0037659259539742796, 0.0037659259539742796, 0.0018829629769871398, 0.019778068753100713, 0.039556137506201426, 0.009889034376550357, 0.9295692313957336, 0.015624465342922366, 0.015624465342922366, 0.9687168512611867, 0.4178892340390087, 0.2744807515090168, 0.08635349485676933, 0.22050981722353596, 0.7852790302912855, 0.11633763411722749, 0.04265713250965008, 0.05622985648999329, 0.845404485181839, 0.07311049750050008, 0.06693214559904936, 0.014416154436718327, 0.11748873962437295, 0.7324298023391761, 0.06749353127357595, 0.08249209377881506, 0.024778715768312854, 0.04955743153662571, 0.016519143845541904, 0.9085529115048047, 0.024464940909940634, 0.024464940909940634, 0.9541326954876848, 0.9139226740603752, 0.05852706779696984, 0.013506246414685348, 0.013506246414685348, 0.03249473845012907, 0.9423474150537429, 0.03249473845012907, 0.0385724601772307, 0.02571497345148713, 0.681446796464409, 0.25286390560629013, 0.02177091175488872, 0.02177091175488872, 0.02177091175488872, 0.9143782937053263, 0.683280629923121, 0.23389221562752988, 0.05518805087840593, 0.027594025439202963, 0.29458937914521205, 0.15303344371179847, 0.08034255794869419, 0.4705778394137803, 0.8216246202739022, 0.09969503760645675, 0.046409758885764346, 0.032658719215908245, 0.2219937686433842, 0.40210192056160154, 0.2136166452983508, 0.1619577180039784, 0.08639719195960514, 0.22953283834044352, 0.49517196585803547, 0.1895580181800292, 0.051238619440387226, 0.19707161323225855, 0.6542777559310984, 0.0945943743514841, 0.028446951446646558, 0.028446951446646558, 0.9387493977393364, 0.009326903212462701, 0.9816565631116992, 0.004663451606231351, 0.004663451606231351, 0.04350269274679415, 0.9570592404294713, 0.018268968981226277, 0.018268968981226277, 0.9682553560049928, 0.04966523248307804, 0.9436394171784828, 0.021676779321454467, 0.043353558642908935, 0.9321015108225421, 0.021676779321454467, 0.9815844533667053, 0.007827627219830186, 0.006262101775864149, 0.0046965763318981115, 0.9865103433120529, 0.0037797331161381334, 0.0037797331161381334, 0.0037797331161381334], \"Term\": [\"\\u0430\\u0432\\u0438\\u0430\\u0446\\u0438\\u044f\", \"\\u0430\\u0432\\u0438\\u0430\\u0446\\u0438\\u044f\", \"\\u0430\\u0432\\u0438\\u0430\\u0446\\u0438\\u044f\", \"\\u0430\\u0432\\u0438\\u0430\\u0446\\u0438\\u044f\", \"\\u0430\\u0434\\u0440\\u0435\\u0441\", \"\\u0430\\u0434\\u0440\\u0435\\u0441\", \"\\u0430\\u0434\\u0440\\u0435\\u0441\", \"\\u0430\\u0434\\u0440\\u0435\\u0441\", \"\\u0430\\u0434\\u0440\\u0435\\u0441\\u0430\\u0442\", \"\\u0430\\u0434\\u0440\\u0435\\u0441\\u0430\\u0442\", \"\\u0430\\u043b\\u044c\", \"\\u0430\\u043b\\u044c\", \"\\u0430\\u043b\\u044c\", \"\\u0430\\u043b\\u044c\", \"\\u0430\\u0440\\u043c\\u0438\\u044f\", \"\\u0430\\u0440\\u043c\\u0438\\u044f\", \"\\u0430\\u0440\\u043c\\u0438\\u044f\", \"\\u0430\\u0440\\u043c\\u0438\\u044f\", \"\\u0430\\u0440\\u0442\\u0435\\u043a\", \"\\u0430\\u0440\\u0442\\u0435\\u043a\", \"\\u0430\\u0440\\u0442\\u0435\\u043a\", \"\\u0430\\u0440\\u0442\\u0435\\u043a\", \"\\u0430\\u0440\\u0442\\u0438\\u043b\\u043b\\u0435\\u0440\\u0438\\u0439\\u0441\\u043a\\u0438\\u0439\", \"\\u0430\\u0440\\u0442\\u0438\\u043b\\u043b\\u0435\\u0440\\u0438\\u0439\\u0441\\u043a\\u0438\\u0439\", \"\\u0430\\u0440\\u0442\\u0438\\u043b\\u043b\\u0435\\u0440\\u0438\\u0439\\u0441\\u043a\\u0438\\u0439\", \"\\u0430\\u0440\\u0442\\u0438\\u043b\\u043b\\u0435\\u0440\\u0438\\u0439\\u0441\\u043a\\u0438\\u0439\", \"\\u0430\\u0441\\u0435\\u0430\\u043d\", \"\\u0430\\u0441\\u0435\\u0430\\u043d\", \"\\u0430\\u044d\\u0440\\u043e\\u043c\\u043e\\u0431\\u0438\\u043b\\u044c\\u043d\\u044b\\u0439\", \"\\u0430\\u044d\\u0440\\u043e\\u043c\\u043e\\u0431\\u0438\\u043b\\u044c\\u043d\\u044b\\u0439\", \"\\u0430\\u044d\\u0440\\u043e\\u043c\\u043e\\u0431\\u0438\\u043b\\u044c\\u043d\\u044b\\u0439\", \"\\u0430\\u044d\\u0440\\u043e\\u043c\\u043e\\u0431\\u0438\\u043b\\u044c\\u043d\\u044b\\u0439\", \"\\u0431\\u0430\\u043d\\u043a\", \"\\u0431\\u0430\\u043d\\u043a\", \"\\u0431\\u0435\\u0437\\u043e\\u043f\\u0430\\u0441\\u043d\\u043e\\u0441\\u0442\\u044c\", \"\\u0431\\u0435\\u0437\\u043e\\u043f\\u0430\\u0441\\u043d\\u043e\\u0441\\u0442\\u044c\", \"\\u0431\\u0435\\u0437\\u043e\\u043f\\u0430\\u0441\\u043d\\u043e\\u0441\\u0442\\u044c\", \"\\u0431\\u0435\\u0437\\u043e\\u043f\\u0430\\u0441\\u043d\\u043e\\u0441\\u0442\\u044c\", \"\\u0431\\u0435\\u0437\\u043e\\u043f\\u0430\\u0441\\u043d\\u043e\\u0441\\u0442\\u044c\\u044d\\u0442\\u043e\", \"\\u0431\\u0435\\u0437\\u043e\\u043f\\u0430\\u0441\\u043d\\u043e\\u0441\\u0442\\u044c\\u044d\\u0442\\u043e\", \"\\u0431\\u0435\\u0437\\u043e\\u043f\\u0430\\u0441\\u043d\\u043e\\u0441\\u0442\\u044c\\u044d\\u0442\\u043e\", \"\\u0431\\u0435\\u0440\\u0435\\u0433\", \"\\u0431\\u0435\\u0440\\u0435\\u0433\", \"\\u0431\\u0435\\u0440\\u0435\\u0433\", \"\\u0431\\u0435\\u0440\\u0435\\u0433\", \"\\u0431\\u0435\\u0440\\u0435\\u0447\\u044c\", \"\\u0431\\u0435\\u0440\\u0435\\u0447\\u044c\", \"\\u0431\\u0435\\u0440\\u0435\\u0447\\u044c\", \"\\u0431\\u043e\\u0435\\u0432\\u0430\\u044f\\u043f\\u043e\\u0434\\u0433\\u043e\\u0442\\u043e\\u0432\\u043a\\u0430\", \"\\u0431\\u043e\\u0435\\u0432\\u0430\\u044f\\u043f\\u043e\\u0434\\u0433\\u043e\\u0442\\u043e\\u0432\\u043a\\u0430\", \"\\u0431\\u043e\\u0435\\u0432\\u0430\\u044f\\u043f\\u043e\\u0434\\u0433\\u043e\\u0442\\u043e\\u0432\\u043a\\u0430\", \"\\u0431\\u043e\\u0435\\u0432\\u0430\\u044f\\u043f\\u043e\\u0434\\u0433\\u043e\\u0442\\u043e\\u0432\\u043a\\u0430\", \"\\u0431\\u043e\\u0435\\u0432\\u043e\\u0439\", \"\\u0431\\u043e\\u0435\\u0432\\u043e\\u0439\", \"\\u0431\\u043e\\u0435\\u0432\\u043e\\u0439\", \"\\u0431\\u043e\\u0435\\u0432\\u043e\\u0439\", \"\\u0431\\u043e\\u043c\\u0431\\u0430\\u0440\\u0434\\u0438\\u0440\\u043e\\u0432\\u0449\\u0438\\u043a\", \"\\u0431\\u043e\\u043c\\u0431\\u0430\\u0440\\u0434\\u0438\\u0440\\u043e\\u0432\\u0449\\u0438\\u043a\", \"\\u0431\\u043e\\u043c\\u0431\\u0430\\u0440\\u0434\\u0438\\u0440\\u043e\\u0432\\u0449\\u0438\\u043a\", \"\\u0431\\u043e\\u043c\\u0431\\u0430\\u0440\\u0434\\u0438\\u0440\\u043e\\u0432\\u0449\\u0438\\u043a\", \"\\u0431\\u0440\\u0430\\u0442\", \"\\u0431\\u0440\\u0430\\u0442\", \"\\u0431\\u0440\\u0430\\u0442\", \"\\u0431\\u0440\\u0430\\u0442\", \"\\u0431\\u0440\\u043e\\u043d\\u0435\\u0442\\u0440\\u0430\\u043d\\u0441\\u043f\\u043e\\u0440\\u0442\\u0435\\u0440\", \"\\u0431\\u0440\\u043e\\u043d\\u0435\\u0442\\u0440\\u0430\\u043d\\u0441\\u043f\\u043e\\u0440\\u0442\\u0435\\u0440\", \"\\u0431\\u0440\\u043e\\u043d\\u0435\\u0442\\u0440\\u0430\\u043d\\u0441\\u043f\\u043e\\u0440\\u0442\\u0435\\u0440\", \"\\u0431\\u0440\\u043e\\u0441\\u0430\\u0442\\u044c\\u0441\\u044f\", \"\\u0431\\u0440\\u043e\\u0441\\u0430\\u0442\\u044c\\u0441\\u044f\", \"\\u0431\\u0440\\u043e\\u0441\\u0430\\u0442\\u044c\\u0441\\u044f\", \"\\u0431\\u0442\\u0440\", \"\\u0431\\u0442\\u0440\", \"\\u0431\\u0442\\u0440\", \"\\u0431\\u0442\\u0440\", \"\\u0431\\u0443\\u0434\\u043d\\u0438\\u043c\\u0447\\u0441\", \"\\u0431\\u0443\\u0434\\u043d\\u0438\\u043c\\u0447\\u0441\", \"\\u0431\\u0443\\u0434\\u043d\\u0438\\u043c\\u0447\\u0441\", \"\\u0431\\u0443\\u0434\\u043d\\u0438\\u043c\\u0447\\u0441\", \"\\u0432\\u0430\\u0448\", \"\\u0432\\u0430\\u0448\", \"\\u0432\\u0430\\u0448\", \"\\u0432\\u0430\\u0448\", \"\\u0432\\u0432\\u043e\", \"\\u0432\\u0432\\u043e\", \"\\u0432\\u0432\\u043e\", \"\\u0432\\u0432\\u043e\", \"\\u0432\\u0434\\u0432\", \"\\u0432\\u0434\\u0432\", \"\\u0432\\u0434\\u0432\", \"\\u0432\\u0434\\u0432\", \"\\u0432\\u0435\\u0434\\u043e\\u043c\\u0441\\u0442\\u0432\\u043e\", \"\\u0432\\u0435\\u0434\\u043e\\u043c\\u0441\\u0442\\u0432\\u043e\", \"\\u0432\\u0435\\u0434\\u043e\\u043c\\u0441\\u0442\\u0432\\u043e\", \"\\u0432\\u0435\\u0434\\u043e\\u043c\\u0441\\u0442\\u0432\\u043e\", \"\\u0432\\u0435\\u0440\\u0442\\u043e\\u043b\\u0435\\u0442\", \"\\u0432\\u0435\\u0440\\u0442\\u043e\\u043b\\u0435\\u0442\", \"\\u0432\\u0435\\u0440\\u0442\\u043e\\u043b\\u0435\\u0442\", \"\\u0432\\u0435\\u0440\\u0442\\u043e\\u043b\\u0435\\u0442\", \"\\u0432\\u043b\\u0430\\u0434\\u0438\\u043c\\u0438\\u0440\", \"\\u0432\\u043b\\u0430\\u0434\\u0438\\u043c\\u0438\\u0440\", \"\\u0432\\u043b\\u0430\\u0434\\u0438\\u043c\\u0438\\u0440\", \"\\u0432\\u043b\\u0430\\u0434\\u0438\\u043c\\u0438\\u0440\", \"\\u0432\\u043c\\u0444\", \"\\u0432\\u043c\\u0444\", \"\\u0432\\u043c\\u0444\", \"\\u0432\\u043c\\u0444\", \"\\u0432\\u043e\\u0434\\u0430\", \"\\u0432\\u043e\\u0434\\u0430\", \"\\u0432\\u043e\\u0434\\u0430\", \"\\u0432\\u043e\\u0434\\u0430\", \"\\u0432\\u043e\\u0435\\u043d\\u043d\\u044b\\u0439\", \"\\u0432\\u043e\\u0435\\u043d\\u043d\\u044b\\u0439\", \"\\u0432\\u043e\\u0435\\u043d\\u043d\\u044b\\u0439\", \"\\u0432\\u043e\\u0435\\u043d\\u043d\\u044b\\u0439\", \"\\u0432\\u043e\\u0437\\u0434\\u0443\\u0448\\u043d\\u044b\\u0439\", \"\\u0432\\u043e\\u0437\\u0434\\u0443\\u0448\\u043d\\u044b\\u0439\", \"\\u0432\\u043e\\u0437\\u0434\\u0443\\u0448\\u043d\\u044b\\u0439\", \"\\u0432\\u043e\\u0437\\u0434\\u0443\\u0448\\u043d\\u044b\\u0439\", \"\\u0432\\u043e\\u043e\\u0440\\u0443\\u0436\\u0435\\u043d\\u043d\\u044b\\u0439\", \"\\u0432\\u043e\\u043e\\u0440\\u0443\\u0436\\u0435\\u043d\\u043d\\u044b\\u0439\", \"\\u0432\\u043e\\u043e\\u0440\\u0443\\u0436\\u0435\\u043d\\u043d\\u044b\\u0439\", \"\\u0432\\u043e\\u043e\\u0440\\u0443\\u0436\\u0435\\u043d\\u043d\\u044b\\u0439\", \"\\u0432\\u043e\\u043f\\u0440\\u043e\\u0441\", \"\\u0432\\u043e\\u043f\\u0440\\u043e\\u0441\", \"\\u0432\\u043e\\u043f\\u0440\\u043e\\u0441\", \"\\u0432\\u043e\\u043f\\u0440\\u043e\\u0441\", \"\\u0432\\u043e\\u0441\\u0442\\u043e\\u0447\\u043d\\u044b\\u0439\", \"\\u0432\\u043e\\u0441\\u0442\\u043e\\u0447\\u043d\\u044b\\u0439\", \"\\u0432\\u043e\\u0441\\u0442\\u043e\\u0447\\u043d\\u044b\\u0439\", \"\\u0432\\u043e\\u0441\\u0442\\u043e\\u0447\\u043d\\u044b\\u0439\", \"\\u0432\\u0440\\u0430\\u0436\\u0434\\u043e\\u0432\\u0430\\u0442\\u044c\", \"\\u0432\\u0440\\u0430\\u0436\\u0434\\u043e\\u0432\\u0430\\u0442\\u044c\", \"\\u0432\\u0440\\u0430\\u0436\\u0434\\u043e\\u0432\\u0430\\u0442\\u044c\", \"\\u0432\\u0440\\u0430\\u0436\\u0434\\u043e\\u0432\\u0430\\u0442\\u044c\", \"\\u0432\\u0441\\u0442\\u0440\\u0435\\u0447\\u0430\", \"\\u0432\\u0441\\u0442\\u0440\\u0435\\u0447\\u0430\", \"\\u0432\\u0441\\u0442\\u0440\\u0435\\u0447\\u0430\", \"\\u0432\\u0441\\u0442\\u0440\\u0435\\u0447\\u0430\", \"\\u0432\\u0444\\u043c\\u0441\", \"\\u0432\\u0444\\u043c\\u0441\", \"\\u0432\\u044b\\u0431\\u0438\\u0440\\u0430\\u0442\\u044c\\u0441\\u044f\", \"\\u0432\\u044b\\u0431\\u0438\\u0440\\u0430\\u0442\\u044c\\u0441\\u044f\", \"\\u0432\\u044b\\u0431\\u0438\\u0440\\u0430\\u0442\\u044c\\u0441\\u044f\", \"\\u0432\\u044b\\u0431\\u0438\\u0440\\u0430\\u0442\\u044c\\u0441\\u044f\", \"\\u0432\\u044b\\u043f\\u043e\\u043b\\u043d\\u044f\\u0442\\u044c\", \"\\u0432\\u044b\\u043f\\u043e\\u043b\\u043d\\u044f\\u0442\\u044c\", \"\\u0432\\u044b\\u043f\\u043e\\u043b\\u043d\\u044f\\u0442\\u044c\", \"\\u0432\\u044b\\u043f\\u043e\\u043b\\u043d\\u044f\\u0442\\u044c\", \"\\u0432\\u044b\\u0440\\u0430\\u0436\\u0430\\u0442\\u044c\", \"\\u0432\\u044b\\u0440\\u0430\\u0436\\u0430\\u0442\\u044c\", \"\\u0432\\u044b\\u0440\\u0430\\u0436\\u0430\\u0442\\u044c\", \"\\u0432\\u044b\\u0440\\u0430\\u0436\\u0430\\u0442\\u044c\", \"\\u0432\\u044b\\u0442\\u0430\\u0441\\u043a\\u0438\\u0432\\u0430\\u0442\\u044c\", \"\\u0432\\u044b\\u0442\\u0430\\u0441\\u043a\\u0438\\u0432\\u0430\\u0442\\u044c\", \"\\u0432\\u044b\\u0442\\u0430\\u0441\\u043a\\u0438\\u0432\\u0430\\u0442\\u044c\", \"\\u0432\\u044c\\u0435\\u0442\\u043d\\u0430\\u043c\", \"\\u0432\\u044c\\u0435\\u0442\\u043d\\u0430\\u043c\", \"\\u0432\\u044c\\u0435\\u0442\\u043d\\u0430\\u043c\", \"\\u0433\\u0430\\u0448\\u0435\\u043d\\u0438\\u0435\", \"\\u0433\\u0430\\u0448\\u0435\\u043d\\u0438\\u0435\", \"\\u0433\\u0430\\u0448\\u0435\\u043d\\u0438\\u0435\", \"\\u0433\\u0435\\u043d\\u0435\\u0440\\u0430\\u043b\", \"\\u0433\\u0435\\u043d\\u0435\\u0440\\u0430\\u043b\", \"\\u0433\\u0435\\u043d\\u0435\\u0440\\u0430\\u043b\", \"\\u0433\\u0435\\u043d\\u0435\\u0440\\u0430\\u043b\", \"\\u0433\\u0435\\u0440\\u0430\\u0441\\u0438\\u043c\\u043e\\u0432\", \"\\u0433\\u0435\\u0440\\u0430\\u0441\\u0438\\u043c\\u043e\\u0432\", \"\\u0433\\u0435\\u0440\\u0430\\u0441\\u0438\\u043c\\u043e\\u0432\", \"\\u0433\\u0435\\u0440\\u043e\\u0438\\u043c\\u0447\\u0441\", \"\\u0433\\u0435\\u0440\\u043e\\u0438\\u043c\\u0447\\u0441\", \"\\u0433\\u0435\\u0440\\u043e\\u0438\\u043c\\u0447\\u0441\", \"\\u0433\\u043b\\u0430\\u0432\\u0430\", \"\\u0433\\u043b\\u0430\\u0432\\u0430\", \"\\u0433\\u043b\\u0430\\u0432\\u0430\", \"\\u0433\\u043b\\u0430\\u0432\\u0430\", \"\\u0433\\u043b\\u043e\\u0431\\u0430\\u043b\\u044c\\u043d\\u044b\\u0439\", \"\\u0433\\u043b\\u043e\\u0431\\u0430\\u043b\\u044c\\u043d\\u044b\\u0439\", \"\\u0433\\u043e\\u0440\\u0435\\u0442\\u044c\", \"\\u0433\\u043e\\u0440\\u0435\\u0442\\u044c\", \"\\u0433\\u043e\\u0440\\u0435\\u0442\\u044c\", \"\\u0433\\u043e\\u0440\\u0435\\u0442\\u044c\", \"\\u0433\\u043e\\u0440\\u043e\\u0434\", \"\\u0433\\u043e\\u0440\\u043e\\u0434\", \"\\u0433\\u043e\\u0440\\u043e\\u0434\", \"\\u0433\\u043e\\u0440\\u043e\\u0434\", \"\\u0433\\u043e\\u0441\\u0443\\u0434\\u0430\\u0440\\u0441\\u0442\\u0432\\u043e\", \"\\u0433\\u043e\\u0441\\u0443\\u0434\\u0430\\u0440\\u0441\\u0442\\u0432\\u043e\", \"\\u0433\\u043e\\u0441\\u0443\\u0434\\u0430\\u0440\\u0441\\u0442\\u0432\\u043e\", \"\\u0433\\u043e\\u0441\\u0443\\u0434\\u0430\\u0440\\u0441\\u0442\\u0432\\u043e\", \"\\u0433\\u0443\\u043c\\u0430\\u043d\\u0438\\u0442\\u0430\\u0440\\u043d\\u044b\\u0439\", \"\\u0433\\u0443\\u043c\\u0430\\u043d\\u0438\\u0442\\u0430\\u0440\\u043d\\u044b\\u0439\", \"\\u0433\\u0443\\u043c\\u0430\\u043d\\u0438\\u0442\\u0430\\u0440\\u043d\\u044b\\u0439\", \"\\u0433\\u0443\\u043c\\u0430\\u043d\\u0438\\u0442\\u0430\\u0440\\u043d\\u044b\\u0439\", \"\\u0433\\u0443\\u0442\\u0430\", \"\\u0433\\u0443\\u0442\\u0430\", \"\\u0433\\u0443\\u0442\\u0430\", \"\\u0433\\u0443\\u0442\\u0430\", \"\\u0434\\u0435\\u0432\\u043e\\u0447\\u043a\\u0430\", \"\\u0434\\u0435\\u0432\\u043e\\u0447\\u043a\\u0430\", \"\\u0434\\u0435\\u0432\\u043e\\u0447\\u043a\\u0430\", \"\\u0434\\u0435\\u0432\\u043e\\u0447\\u043a\\u0430\", \"\\u0434\\u0435\\u043b\\u0435\\u0433\\u0430\\u0446\\u0438\\u044f\", \"\\u0434\\u0435\\u043b\\u0435\\u0433\\u0430\\u0446\\u0438\\u044f\", \"\\u0434\\u0435\\u043b\\u0435\\u0433\\u0430\\u0446\\u0438\\u044f\", \"\\u0434\\u0435\\u043b\\u0435\\u0433\\u0430\\u0446\\u0438\\u044f\", \"\\u0434\\u0435\\u0442\\u0438\\u0433\\u0435\\u0440\\u043e\\u0439\", \"\\u0434\\u0435\\u0442\\u0438\\u0433\\u0435\\u0440\\u043e\\u0439\", \"\\u0434\\u0435\\u0442\\u0438\\u0433\\u0435\\u0440\\u043e\\u0439\", \"\\u0434\\u0438\\u0430\\u043b\\u043e\\u0433\", \"\\u0434\\u0438\\u0430\\u043b\\u043e\\u0433\", \"\\u0434\\u043e\\u0433\\u043e\\u0432\\u043e\\u0440\\u0435\\u043d\\u043d\\u043e\\u0441\\u0442\\u044c\", \"\\u0434\\u043e\\u0433\\u043e\\u0432\\u043e\\u0440\\u0435\\u043d\\u043d\\u043e\\u0441\\u0442\\u044c\", \"\\u0434\\u043e\\u0433\\u043e\\u0432\\u043e\\u0440\\u0435\\u043d\\u043d\\u043e\\u0441\\u0442\\u044c\", \"\\u0434\\u043e\\u0437\\u0430\\u043f\\u0440\\u0430\\u0432\\u043a\\u0430\", \"\\u0434\\u043e\\u0437\\u0430\\u043f\\u0440\\u0430\\u0432\\u043a\\u0430\", \"\\u0434\\u043e\\u043c\", \"\\u0434\\u043e\\u043c\", \"\\u0434\\u043e\\u043c\", \"\\u0434\\u043e\\u043c\", \"\\u0434\\u043e\\u0441\\u0442\\u0430\\u0432\\u0430\\u0442\\u044c\", \"\\u0434\\u043e\\u0441\\u0442\\u0430\\u0432\\u0430\\u0442\\u044c\", \"\\u0434\\u043e\\u0441\\u0442\\u0430\\u0432\\u0430\\u0442\\u044c\", \"\\u0434\\u0440\\u0443\\u0433\", \"\\u0434\\u0440\\u0443\\u0433\", \"\\u0434\\u0440\\u0443\\u0433\", \"\\u0434\\u0440\\u0443\\u0433\", \"\\u0434\\u044b\\u043c\", \"\\u0434\\u044b\\u043c\", \"\\u0434\\u044b\\u043c\", \"\\u0434\\u044b\\u043c\", \"\\u0435\\u0436\\u0435\\u043d\\u0435\\u0434\\u0435\\u043b\\u044c\\u043d\\u044b\\u0439\", \"\\u0435\\u0436\\u0435\\u043d\\u0435\\u0434\\u0435\\u043b\\u044c\\u043d\\u044b\\u0439\", \"\\u0436\\u0438\\u0432\\u043e\\u0442\\u043d\\u043e\\u0435\", \"\\u0436\\u0438\\u0432\\u043e\\u0442\\u043d\\u043e\\u0435\", \"\\u0436\\u0438\\u0432\\u043e\\u0442\\u043d\\u043e\\u0435\", \"\\u0436\\u0438\\u0432\\u043e\\u0442\\u043d\\u043e\\u0435\", \"\\u0436\\u0443\\u0440\\u043d\\u0430\\u043b\", \"\\u0436\\u0443\\u0440\\u043d\\u0430\\u043b\", \"\\u0436\\u0443\\u0440\\u043d\\u0430\\u043b\", \"\\u0436\\u0443\\u0440\\u043d\\u0430\\u043b\", \"\\u0437\\u0430\\u0434\\u0430\\u0447\\u0430\", \"\\u0437\\u0430\\u0434\\u0430\\u0447\\u0430\", \"\\u0437\\u0430\\u0434\\u0430\\u0447\\u0430\", \"\\u0437\\u0430\\u0434\\u0430\\u0447\\u0430\", \"\\u0437\\u0430\\u0441\\u0435\\u0434\\u0430\\u043d\\u0438\\u0435\", \"\\u0437\\u0430\\u0441\\u0435\\u0434\\u0430\\u043d\\u0438\\u0435\", \"\\u0437\\u0430\\u0441\\u0435\\u0434\\u0430\\u043d\\u0438\\u0435\", \"\\u0437\\u0430\\u0441\\u0435\\u0434\\u0430\\u043d\\u0438\\u0435\", \"\\u0437\\u0430\\u0441\\u0442\\u0440\\u0435\\u0432\\u0430\\u0442\\u044c\", \"\\u0437\\u0430\\u0441\\u0442\\u0440\\u0435\\u0432\\u0430\\u0442\\u044c\", \"\\u0437\\u0430\\u044f\\u0432\\u043b\\u044f\\u0442\\u044c\", \"\\u0437\\u0430\\u044f\\u0432\\u043b\\u044f\\u0442\\u044c\", \"\\u0437\\u0430\\u044f\\u0432\\u043b\\u044f\\u0442\\u044c\", \"\\u0437\\u0430\\u044f\\u0432\\u043b\\u044f\\u0442\\u044c\", \"\\u0437\\u0432\\u043e\", \"\\u0437\\u0432\\u043e\", \"\\u0437\\u0432\\u043e\", \"\\u0437\\u0432\\u043e\", \"\\u0437\\u0435\\u043d\\u0438\\u0442\\u043d\\u044b\\u0439\", \"\\u0437\\u0435\\u043d\\u0438\\u0442\\u043d\\u044b\\u0439\", \"\\u0437\\u0435\\u043d\\u0438\\u0442\\u043d\\u044b\\u0439\", \"\\u0437\\u0435\\u043d\\u0438\\u0442\\u043d\\u044b\\u0439\", \"\\u0438\\u043d\\u0434\\u0435\\u043a\\u0441\", \"\\u0438\\u043d\\u0434\\u0435\\u043a\\u0441\", \"\\u0438\\u0441\\u0442\\u0440\\u0435\\u0431\\u0438\\u0442\\u0435\\u043b\\u044c\", \"\\u0438\\u0441\\u0442\\u0440\\u0435\\u0431\\u0438\\u0442\\u0435\\u043b\\u044c\", \"\\u0438\\u0441\\u0442\\u0440\\u0435\\u0431\\u0438\\u0442\\u0435\\u043b\\u044c\", \"\\u0438\\u0441\\u0442\\u0440\\u0435\\u0431\\u0438\\u0442\\u0435\\u043b\\u044c\", \"\\u043a\\u0430\\u0436\\u0434\\u044b\\u0439\", \"\\u043a\\u0430\\u0436\\u0434\\u044b\\u0439\", \"\\u043a\\u0430\\u0436\\u0434\\u044b\\u0439\", \"\\u043a\\u0430\\u0436\\u0434\\u044b\\u0439\", \"\\u043a\\u0430\\u0440\\u0442\\u043e\\u0447\\u043a\\u0430\", \"\\u043a\\u0430\\u0440\\u0442\\u043e\\u0447\\u043a\\u0430\", \"\\u043a\\u0430\\u0440\\u0442\\u043e\\u0447\\u043a\\u0430\", \"\\u043a\\u043b\\u0438\\u0435\\u043d\\u0442\", \"\\u043a\\u043b\\u0438\\u0435\\u043d\\u0442\", \"\\u043a\\u043b\\u0438\\u0435\\u043d\\u0442\", \"\\u043a\\u043b\\u0438\\u0435\\u043d\\u0442\", \"\\u043a\\u043e\\u043b\\u043e\\u0434\\u0435\\u0446\", \"\\u043a\\u043e\\u043b\\u043e\\u0434\\u0435\\u0446\", \"\\u043a\\u043e\\u043b\\u043e\\u0434\\u0435\\u0446\", \"\\u043a\\u043e\\u043c\\u043f\\u043b\\u0435\\u043a\\u0441\", \"\\u043a\\u043e\\u043c\\u043f\\u043b\\u0435\\u043a\\u0441\", \"\\u043a\\u043e\\u043c\\u043f\\u043b\\u0435\\u043a\\u0441\", \"\\u043a\\u043e\\u043c\\u043f\\u043b\\u0435\\u043a\\u0441\", \"\\u043a\\u043e\\u043d\\u0432\\u0435\\u0440\\u0442\", \"\\u043a\\u043e\\u043d\\u0432\\u0435\\u0440\\u0442\", \"\\u043a\\u043e\\u043d\\u0432\\u0435\\u0440\\u0442\", \"\\u043a\\u043e\\u043d\\u043a\\u0443\\u0440\\u0441\", \"\\u043a\\u043e\\u043d\\u043a\\u0443\\u0440\\u0441\", \"\\u043a\\u043e\\u043d\\u043a\\u0443\\u0440\\u0441\", \"\\u043a\\u043e\\u043d\\u043a\\u0443\\u0440\\u0441\", \"\\u043a\\u043e\\u043d\\u0444\\u0435\\u0440\\u0435\\u043d\\u0446\\u0438\\u044f\", \"\\u043a\\u043e\\u043d\\u0444\\u0435\\u0440\\u0435\\u043d\\u0446\\u0438\\u044f\", \"\\u043a\\u043e\\u043d\\u0444\\u0435\\u0440\\u0435\\u043d\\u0446\\u0438\\u044f\", \"\\u043a\\u043e\\u043d\\u0444\\u0435\\u0440\\u0435\\u043d\\u0446\\u0438\\u044f\", \"\\u043a\\u043e\\u0440\\u0430\\u0431\\u0435\\u043b\\u044c\\u043d\\u044b\\u0439\", \"\\u043a\\u043e\\u0440\\u0430\\u0431\\u0435\\u043b\\u044c\\u043d\\u044b\\u0439\", \"\\u043a\\u043e\\u0440\\u0430\\u0431\\u043b\\u044c\", \"\\u043a\\u043e\\u0440\\u0430\\u0431\\u043b\\u044c\", \"\\u043a\\u043e\\u0440\\u0430\\u0431\\u043b\\u044c\", \"\\u043a\\u043e\\u0440\\u0430\\u0431\\u043b\\u044c\", \"\\u043a\\u0440\\u0438\\u043a\", \"\\u043a\\u0440\\u0438\\u043a\", \"\\u043a\\u0440\\u0438\\u043a\", \"\\u043b\\u0435\\u0434\", \"\\u043b\\u0435\\u0434\", \"\\u043b\\u0435\\u0434\", \"\\u043b\\u0435\\u0434\", \"\\u043b\\u0435\\u0442\\u043d\\u044b\\u0439\", \"\\u043b\\u0435\\u0442\\u043d\\u044b\\u0439\", \"\\u043b\\u0435\\u0442\\u043d\\u044b\\u0439\", \"\\u043b\\u0435\\u0442\\u043d\\u044b\\u0439\", \"\\u043b\\u0435\\u0442\\u0447\\u0438\\u043a\", \"\\u043b\\u0435\\u0442\\u0447\\u0438\\u043a\", \"\\u043b\\u0435\\u0442\\u0447\\u0438\\u043a\", \"\\u043b\\u0435\\u0442\\u0447\\u0438\\u043a\", \"\\u043b\\u0438\\u043a\\u0432\\u0438\\u0434\\u0430\\u0446\\u0438\\u044f\", \"\\u043b\\u0438\\u043a\\u0432\\u0438\\u0434\\u0430\\u0446\\u0438\\u044f\", \"\\u043b\\u0438\\u043a\\u0432\\u0438\\u0434\\u0430\\u0446\\u0438\\u044f\", \"\\u043b\\u0438\\u043a\\u0432\\u0438\\u0434\\u0430\\u0446\\u0438\\u044f\", \"\\u043b\\u044c\\u0434\\u0438\\u043d\\u0430\", \"\\u043b\\u044c\\u0434\\u0438\\u043d\\u0430\", \"\\u043c\", \"\\u043c\", \"\\u043c\", \"\\u043c\", \"\\u043c\\u0430\\u043b\\u0435\\u043d\\u044c\\u043a\\u0430\\u044f\\u0441\\u043f\\u0430\\u0441\\u0435\\u043d\\u043d\\u0430\\u044f\\u0436\\u0438\\u0437\\u043d\\u044c\", \"\\u043c\\u0430\\u043b\\u0435\\u043d\\u044c\\u043a\\u0430\\u044f\\u0441\\u043f\\u0430\\u0441\\u0435\\u043d\\u043d\\u0430\\u044f\\u0436\\u0438\\u0437\\u043d\\u044c\", \"\\u043c\\u0430\\u043b\\u0435\\u043d\\u044c\\u043a\\u0430\\u044f\\u0441\\u043f\\u0430\\u0441\\u0435\\u043d\\u043d\\u0430\\u044f\\u0436\\u0438\\u0437\\u043d\\u044c\", \"\\u043c\\u0430\\u043b\\u0435\\u043d\\u044c\\u043a\\u0430\\u044f\\u0441\\u043f\\u0430\\u0441\\u0435\\u043d\\u043d\\u0430\\u044f\\u0436\\u0438\\u0437\\u043d\\u044c\", \"\\u043c\\u0430\\u0440\\u043a\\u0430\", \"\\u043c\\u0430\\u0440\\u043a\\u0430\", \"\\u043c\\u0430\\u0440\\u043a\\u0430\", \"\\u043c\\u0430\\u0440\\u043a\\u0430\", \"\\u043c\\u0435\\u0436\\u0434\\u0443\\u043d\\u0430\\u0440\\u043e\\u0434\\u043d\\u044b\\u0439\", \"\\u043c\\u0435\\u0436\\u0434\\u0443\\u043d\\u0430\\u0440\\u043e\\u0434\\u043d\\u044b\\u0439\", \"\\u043c\\u0435\\u0436\\u0434\\u0443\\u043d\\u0430\\u0440\\u043e\\u0434\\u043d\\u044b\\u0439\", \"\\u043c\\u0435\\u0436\\u0434\\u0443\\u043d\\u0430\\u0440\\u043e\\u0434\\u043d\\u044b\\u0439\", \"\\u043c\\u0435\\u0441\\u0442\\u043e\", \"\\u043c\\u0435\\u0441\\u0442\\u043e\", \"\\u043c\\u0435\\u0441\\u0442\\u043e\", \"\\u043c\\u0435\\u0441\\u0442\\u043e\", \"\\u043c\\u0438\", \"\\u043c\\u0438\", \"\\u043c\\u0438\", \"\\u043c\\u0438\", \"\\u043c\\u0438\\u0433\", \"\\u043c\\u0438\\u0433\", \"\\u043c\\u0438\\u0433\", \"\\u043c\\u0438\\u0433\", \"\\u043c\\u0438\\u043d\\u0438\\u0441\\u0442\\u0440\", \"\\u043c\\u0438\\u043d\\u0438\\u0441\\u0442\\u0440\", \"\\u043c\\u0438\\u043d\\u0438\\u0441\\u0442\\u0440\", \"\\u043c\\u0438\\u043d\\u0438\\u0441\\u0442\\u0440\", \"\\u043c\\u0438\\u043d\\u043e\\u0431\\u043e\\u0440\\u043e\\u043d\\u044b\", \"\\u043c\\u0438\\u043d\\u043e\\u0431\\u043e\\u0440\\u043e\\u043d\\u044b\", \"\\u043c\\u0438\\u043d\\u043e\\u0431\\u043e\\u0440\\u043e\\u043d\\u044b\", \"\\u043c\\u0438\\u043d\\u043e\\u0431\\u043e\\u0440\\u043e\\u043d\\u044b\", \"\\u043c\\u0438\\u0440\\u043d\\u044b\\u0439\", \"\\u043c\\u0438\\u0440\\u043d\\u044b\\u0439\", \"\\u043c\\u0438\\u0440\\u043d\\u044b\\u0439\", \"\\u043c\\u0438\\u0440\\u043d\\u044b\\u0439\", \"\\u043c\\u0438\\u0448\\u0435\\u043d\\u044c\", \"\\u043c\\u0438\\u0448\\u0435\\u043d\\u044c\", \"\\u043c\\u0438\\u0448\\u0435\\u043d\\u044c\", \"\\u043c\\u0438\\u0448\\u0435\\u043d\\u044c\", \"\\u043c\\u043c\", \"\\u043c\\u043c\", \"\\u043c\\u043c\", \"\\u043c\\u043c\", \"\\u043c\\u043e\\u0440\\u0441\\u043a\\u043e\\u0439\", \"\\u043c\\u043e\\u0440\\u0441\\u043a\\u043e\\u0439\", \"\\u043c\\u043e\\u0440\\u0441\\u043a\\u043e\\u0439\", \"\\u043c\\u043e\\u0440\\u0441\\u043a\\u043e\\u0439\", \"\\u043c\\u043e\\u0441\\u043a\\u0432\\u0430\", \"\\u043c\\u043e\\u0441\\u043a\\u0432\\u0430\", \"\\u043c\\u043e\\u0441\\u043a\\u0432\\u0430\", \"\\u043c\\u043e\\u0441\\u043a\\u0432\\u0430\", \"\\u043c\\u0443\\u0436\\u0447\\u0438\\u043d\\u0430\", \"\\u043c\\u0443\\u0436\\u0447\\u0438\\u043d\\u0430\", \"\\u043c\\u0443\\u0436\\u0447\\u0438\\u043d\\u0430\", \"\\u043c\\u0443\\u0436\\u0447\\u0438\\u043d\\u0430\", \"\\u043c\\u0443\\u0445\\u0430\\u0439\\u044f\\u043c\", \"\\u043c\\u0443\\u0445\\u0430\\u0439\\u044f\\u043c\", \"\\u043c\\u0447\\u0441\", \"\\u043c\\u0447\\u0441\", \"\\u043c\\u0447\\u0441\", \"\\u043c\\u0447\\u0441\", \"\\u043c\\u0447\\u0441\\u0440\\u043e\\u0441\\u0441\\u0438\\u044f\", \"\\u043c\\u0447\\u0441\\u0440\\u043e\\u0441\\u0441\\u0438\\u044f\", \"\\u043c\\u0447\\u0441\\u0440\\u043e\\u0441\\u0441\\u0438\\u044f\", \"\\u043c\\u0447\\u0441\\u0440\\u043e\\u0441\\u0441\\u0438\\u044f\", \"\\u043d\\u0430\\u043f\\u0438\\u0441\\u0430\\u0442\\u044c\", \"\\u043d\\u0430\\u043f\\u0438\\u0441\\u0430\\u0442\\u044c\", \"\\u043d\\u0430\\u043f\\u0438\\u0441\\u0430\\u0442\\u044c\", \"\\u043d\\u0430\\u043f\\u0438\\u0441\\u0430\\u0442\\u044c\", \"\\u043d\\u043e\\u0432\\u043e\\u0441\\u0442\\u044c\", \"\\u043d\\u043e\\u0432\\u043e\\u0441\\u0442\\u044c\", \"\\u043d\\u043e\\u0432\\u043e\\u0441\\u0442\\u044c\", \"\\u043d\\u043e\\u0432\\u043e\\u0441\\u0442\\u044c\", \"\\u043d\\u043e\\u0432\\u044b\\u0439\", \"\\u043d\\u043e\\u0432\\u044b\\u0439\", \"\\u043d\\u043e\\u0432\\u044b\\u0439\", \"\\u043d\\u043e\\u0432\\u044b\\u0439\", \"\\u043e\\u0431\\u043b\\u0430\\u0441\\u0442\\u044c\", \"\\u043e\\u0431\\u043b\\u0430\\u0441\\u0442\\u044c\", \"\\u043e\\u0431\\u043b\\u0430\\u0441\\u0442\\u044c\", \"\\u043e\\u0431\\u043b\\u0430\\u0441\\u0442\\u044c\", \"\\u043e\\u0431\\u043e\\u0440\\u043e\\u043d\\u0430\", \"\\u043e\\u0431\\u043e\\u0440\\u043e\\u043d\\u0430\", \"\\u043e\\u0431\\u043e\\u0440\\u043e\\u043d\\u0430\", \"\\u043e\\u0431\\u043e\\u0440\\u043e\\u043d\\u0430\", \"\\u043e\\u0431\\u043e\\u0440\\u043e\\u043d\\u043d\\u044b\\u0439\", \"\\u043e\\u0431\\u043e\\u0440\\u043e\\u043d\\u043d\\u044b\\u0439\", \"\\u043e\\u0431\\u043e\\u0440\\u043e\\u043d\\u043d\\u044b\\u0439\", \"\\u043e\\u0431\\u043e\\u0440\\u043e\\u043d\\u043d\\u044b\\u0439\", \"\\u043e\\u0431\\u0441\\u0443\\u0436\\u0434\\u0430\\u0442\\u044c\", \"\\u043e\\u0431\\u0441\\u0443\\u0436\\u0434\\u0430\\u0442\\u044c\", \"\\u043e\\u0431\\u0441\\u0443\\u0436\\u0434\\u0430\\u0442\\u044c\", \"\\u043e\\u0431\\u0441\\u0443\\u0436\\u0434\\u0430\\u0442\\u044c\", \"\\u043e\\u043a\\u0440\\u0443\\u0433\", \"\\u043e\\u043a\\u0440\\u0443\\u0433\", \"\\u043e\\u043a\\u0440\\u0443\\u0433\", \"\\u043e\\u043a\\u0440\\u0443\\u0433\", \"\\u043e\\u043e\\u043d\", \"\\u043e\\u043e\\u043d\", \"\\u043e\\u043e\\u043d\", \"\\u043e\\u043e\\u043d\", \"\\u043e\\u043f\\u0435\\u0440\\u0430\\u0446\\u0438\\u044f\", \"\\u043e\\u043f\\u0435\\u0440\\u0430\\u0446\\u0438\\u044f\", \"\\u043e\\u043f\\u0435\\u0440\\u0430\\u0446\\u0438\\u044f\", \"\\u043e\\u043f\\u0435\\u0440\\u0430\\u0446\\u0438\\u044f\", \"\\u043e\\u043f\\u043b\\u0430\\u0442\\u0430\", \"\\u043e\\u043f\\u043b\\u0430\\u0442\\u0430\", \"\\u043e\\u043f\\u043b\\u0430\\u0442\\u0430\", \"\\u043e\\u043f\\u043b\\u0430\\u0447\\u0438\\u0432\\u0430\\u0442\\u044c\", \"\\u043e\\u043f\\u043b\\u0430\\u0447\\u0438\\u0432\\u0430\\u0442\\u044c\", \"\\u043e\\u043f\\u043b\\u0430\\u0447\\u0438\\u0432\\u0430\\u0442\\u044c\", \"\\u043e\\u0440\\u0433\\u0430\\u043d\\u0438\\u0437\\u0430\\u0446\\u0438\\u044f\", \"\\u043e\\u0440\\u0433\\u0430\\u043d\\u0438\\u0437\\u0430\\u0446\\u0438\\u044f\", \"\\u043e\\u0440\\u0433\\u0430\\u043d\\u0438\\u0437\\u0430\\u0446\\u0438\\u044f\", \"\\u043e\\u0440\\u0433\\u0430\\u043d\\u0438\\u0437\\u0430\\u0446\\u0438\\u044f\", \"\\u043e\\u0442\\u0434\\u0435\\u043b\\u0435\\u043d\\u0438\\u0435\", \"\\u043e\\u0442\\u0434\\u0435\\u043b\\u0435\\u043d\\u0438\\u0435\", \"\\u043e\\u0442\\u0434\\u0435\\u043b\\u0435\\u043d\\u0438\\u0435\", \"\\u043e\\u0442\\u0434\\u0435\\u043b\\u0435\\u043d\\u0438\\u0435\", \"\\u043e\\u0442\\u043a\\u0440\\u044b\\u0442\\u043a\\u0430\", \"\\u043e\\u0442\\u043a\\u0440\\u044b\\u0442\\u043a\\u0430\", \"\\u043e\\u0442\\u043a\\u0440\\u044b\\u0442\\u043a\\u0430\", \"\\u043e\\u0442\\u043a\\u0440\\u044b\\u0442\\u043a\\u0430\", \"\\u043e\\u0442\\u043c\\u0435\\u0447\\u0430\\u0442\\u044c\", \"\\u043e\\u0442\\u043c\\u0435\\u0447\\u0430\\u0442\\u044c\", \"\\u043e\\u0442\\u043c\\u0435\\u0447\\u0430\\u0442\\u044c\", \"\\u043e\\u0442\\u043c\\u0435\\u0447\\u0430\\u0442\\u044c\", \"\\u043e\\u0442\\u043f\\u0440\\u0430\\u0432\\u043b\\u0435\\u043d\\u0438\\u0435\", \"\\u043e\\u0442\\u043f\\u0440\\u0430\\u0432\\u043b\\u0435\\u043d\\u0438\\u0435\", \"\\u043e\\u0442\\u043f\\u0440\\u0430\\u0432\\u043b\\u0435\\u043d\\u0438\\u0435\", \"\\u043e\\u0442\\u043f\\u0440\\u0430\\u0432\\u043b\\u0435\\u043d\\u0438\\u0435\", \"\\u043e\\u0442\\u043f\\u0440\\u0430\\u0432\\u043b\\u044f\\u0442\\u044c\", \"\\u043e\\u0442\\u043f\\u0440\\u0430\\u0432\\u043b\\u044f\\u0442\\u044c\", \"\\u043e\\u0442\\u043f\\u0440\\u0430\\u0432\\u043b\\u044f\\u0442\\u044c\", \"\\u043e\\u0442\\u043f\\u0440\\u0430\\u0432\\u043b\\u044f\\u0442\\u044c\", \"\\u043e\\u0442\\u0440\\u0430\\u0431\\u0430\\u0442\\u044b\\u0432\\u0430\\u0442\\u044c\", \"\\u043e\\u0442\\u0440\\u0430\\u0431\\u0430\\u0442\\u044b\\u0432\\u0430\\u0442\\u044c\", \"\\u043e\\u0442\\u0440\\u0430\\u0431\\u0430\\u0442\\u044b\\u0432\\u0430\\u0442\\u044c\", \"\\u043e\\u0442\\u0440\\u0430\\u0431\\u0430\\u0442\\u044b\\u0432\\u0430\\u0442\\u044c\", \"\\u043f\\u0430\\u0432\\u043e\\u0434\\u043e\\u043a\", \"\\u043f\\u0430\\u0432\\u043e\\u0434\\u043e\\u043a\", \"\\u043f\\u0430\\u0432\\u043e\\u0434\\u043e\\u043a\", \"\\u043f\\u0430\\u0432\\u043e\\u0434\\u043e\\u043a\", \"\\u043f\\u0430\\u043c\\u044f\\u0442\\u043a\\u0430\\u043c\\u0447\\u0441\", \"\\u043f\\u0430\\u043c\\u044f\\u0442\\u043a\\u0430\\u043c\\u0447\\u0441\", \"\\u043f\\u0430\\u043c\\u044f\\u0442\\u043a\\u0430\\u043c\\u0447\\u0441\", \"\\u043f\\u0430\\u043c\\u044f\\u0442\\u043a\\u0430\\u043c\\u0447\\u0441\", \"\\u043f\\u0435\\u0440\\u0432\\u044b\\u0439\", \"\\u043f\\u0435\\u0440\\u0432\\u044b\\u0439\", \"\\u043f\\u0435\\u0440\\u0432\\u044b\\u0439\", \"\\u043f\\u0435\\u0440\\u0432\\u044b\\u0439\", \"\\u043f\\u0435\\u0440\\u0435\\u0433\\u043e\\u0432\\u043e\\u0440\\u044b\", \"\\u043f\\u0435\\u0440\\u0435\\u0433\\u043e\\u0432\\u043e\\u0440\\u044b\", \"\\u043f\\u0435\\u0440\\u0435\\u0433\\u043e\\u0432\\u043e\\u0440\\u044b\", \"\\u043f\\u0435\\u0440\\u0435\\u0433\\u043e\\u0432\\u043e\\u0440\\u044b\", \"\\u043f\\u0435\\u0440\\u0435\\u0445\\u0432\\u0430\\u0442\\u0447\\u0438\\u043a\", \"\\u043f\\u0435\\u0440\\u0435\\u0445\\u0432\\u0430\\u0442\\u0447\\u0438\\u043a\", \"\\u043f\\u0438\\u0441\\u0430\\u0442\\u044c\", \"\\u043f\\u0438\\u0441\\u0430\\u0442\\u044c\", \"\\u043f\\u0438\\u0441\\u0430\\u0442\\u044c\", \"\\u043f\\u0438\\u0441\\u0430\\u0442\\u044c\", \"\\u043f\\u0438\\u0441\\u044c\\u043c\\u043e\", \"\\u043f\\u0438\\u0441\\u044c\\u043c\\u043e\", \"\\u043f\\u0438\\u0441\\u044c\\u043c\\u043e\", \"\\u043f\\u0438\\u0441\\u044c\\u043c\\u043e\", \"\\u043f\\u043e\\u0431\\u0435\\u0434\\u0438\\u0442\\u0435\\u043b\\u044c\", \"\\u043f\\u043e\\u0431\\u0435\\u0434\\u0438\\u0442\\u0435\\u043b\\u044c\", \"\\u043f\\u043e\\u0431\\u0435\\u0434\\u0438\\u0442\\u0435\\u043b\\u044c\", \"\\u043f\\u043e\\u0431\\u0435\\u0434\\u0438\\u0442\\u0435\\u043b\\u044c\", \"\\u043f\\u043e\\u0434\\u0430\\u0440\\u043e\\u043a\", \"\\u043f\\u043e\\u0434\\u0430\\u0440\\u043e\\u043a\", \"\\u043f\\u043e\\u0434\\u0430\\u0440\\u043e\\u043a\", \"\\u043f\\u043e\\u0434\\u0430\\u0440\\u043e\\u043a\", \"\\u043f\\u043e\\u0434\\u0432\\u043e\\u0434\\u043d\\u044b\\u0439\", \"\\u043f\\u043e\\u0434\\u0432\\u043e\\u0434\\u043d\\u044b\\u0439\", \"\\u043f\\u043e\\u0434\\u0432\\u043e\\u0434\\u043d\\u044b\\u0439\", \"\\u043f\\u043e\\u0434\\u0432\\u043e\\u0434\\u043d\\u044b\\u0439\", \"\\u043f\\u043e\\u0434\\u0433\\u043e\\u0442\\u043e\\u0432\\u043a\\u0430\", \"\\u043f\\u043e\\u0434\\u0433\\u043e\\u0442\\u043e\\u0432\\u043a\\u0430\", \"\\u043f\\u043e\\u0434\\u0433\\u043e\\u0442\\u043e\\u0432\\u043a\\u0430\", \"\\u043f\\u043e\\u0434\\u0433\\u043e\\u0442\\u043e\\u0432\\u043a\\u0430\", \"\\u043f\\u043e\\u0434\\u043f\\u0438\\u0441\\u043a\\u0430\", \"\\u043f\\u043e\\u0434\\u043f\\u0438\\u0441\\u043a\\u0430\", \"\\u043f\\u043e\\u0434\\u043f\\u0438\\u0441\\u043a\\u0430\", \"\\u043f\\u043e\\u0434\\u0440\\u0430\\u0437\\u0434\\u0435\\u043b\\u0435\\u043d\\u0438\\u0435\", \"\\u043f\\u043e\\u0434\\u0440\\u0430\\u0437\\u0434\\u0435\\u043b\\u0435\\u043d\\u0438\\u0435\", \"\\u043f\\u043e\\u0434\\u0440\\u0430\\u0437\\u0434\\u0435\\u043b\\u0435\\u043d\\u0438\\u0435\", \"\\u043f\\u043e\\u0434\\u0440\\u0430\\u0437\\u0434\\u0435\\u043b\\u0435\\u043d\\u0438\\u0435\", \"\\u043f\\u043e\\u0434\\u0447\\u0435\\u0440\\u043a\\u0438\\u0432\\u0430\\u0442\\u044c\", \"\\u043f\\u043e\\u0434\\u0447\\u0435\\u0440\\u043a\\u0438\\u0432\\u0430\\u0442\\u044c\", \"\\u043f\\u043e\\u0434\\u0447\\u0435\\u0440\\u043a\\u0438\\u0432\\u0430\\u0442\\u044c\", \"\\u043f\\u043e\\u0434\\u0447\\u0435\\u0440\\u043a\\u0438\\u0432\\u0430\\u0442\\u044c\", \"\\u043f\\u043e\\u0436\\u0430\\u0440\", \"\\u043f\\u043e\\u0436\\u0430\\u0440\", \"\\u043f\\u043e\\u0436\\u0430\\u0440\", \"\\u043f\\u043e\\u0436\\u0430\\u0440\", \"\\u043f\\u043e\\u0436\\u0430\\u0440\\u043d\\u044b\\u0439\", \"\\u043f\\u043e\\u0436\\u0430\\u0440\\u043d\\u044b\\u0439\", \"\\u043f\\u043e\\u0436\\u0430\\u0440\\u043d\\u044b\\u0439\", \"\\u043f\\u043e\\u0436\\u0430\\u0440\\u043d\\u044b\\u0439\", \"\\u043f\\u043e\\u0438\\u0441\\u043a\\u043e\\u0432\\u044b\\u0439\", \"\\u043f\\u043e\\u0438\\u0441\\u043a\\u043e\\u0432\\u044b\\u0439\", \"\\u043f\\u043e\\u0438\\u0441\\u043a\\u043e\\u0432\\u044b\\u0439\", \"\\u043f\\u043e\\u0438\\u0441\\u043a\\u043e\\u0432\\u044b\\u0439\", \"\\u043f\\u043e\\u043b\\u0438\\u0433\\u043e\\u043d\", \"\\u043f\\u043e\\u043b\\u0438\\u0433\\u043e\\u043d\", \"\\u043f\\u043e\\u043b\\u0438\\u0433\\u043e\\u043d\", \"\\u043f\\u043e\\u043b\\u0438\\u0433\\u043e\\u043d\", \"\\u043f\\u043e\\u043b\\u0438\\u0442\\u0438\\u0447\\u0435\\u0441\\u043a\\u0438\\u0439\", \"\\u043f\\u043e\\u043b\\u0438\\u0442\\u0438\\u0447\\u0435\\u0441\\u043a\\u0438\\u0439\", \"\\u043f\\u043e\\u043b\\u0438\\u0442\\u0438\\u0447\\u0435\\u0441\\u043a\\u0438\\u0439\", \"\\u043f\\u043e\\u043b\\u0438\\u0442\\u0438\\u0447\\u0435\\u0441\\u043a\\u0438\\u0439\", \"\\u043f\\u043e\\u043b\\u0443\\u0447\\u0430\\u0442\\u0435\\u043b\\u044c\", \"\\u043f\\u043e\\u043b\\u0443\\u0447\\u0430\\u0442\\u0435\\u043b\\u044c\", \"\\u043f\\u043e\\u043b\\u0443\\u0447\\u0430\\u0442\\u0435\\u043b\\u044c\", \"\\u043f\\u043e\\u043b\\u0443\\u0447\\u0430\\u0442\\u044c\", \"\\u043f\\u043e\\u043b\\u0443\\u0447\\u0430\\u0442\\u044c\", \"\\u043f\\u043e\\u043b\\u0443\\u0447\\u0430\\u0442\\u044c\", \"\\u043f\\u043e\\u043b\\u0443\\u0447\\u0430\\u0442\\u044c\", \"\\u043f\\u043e\\u043c\\u043e\\u0449\\u044c\", \"\\u043f\\u043e\\u043c\\u043e\\u0449\\u044c\", \"\\u043f\\u043e\\u043c\\u043e\\u0449\\u044c\", \"\\u043f\\u043e\\u043c\\u043e\\u0449\\u044c\", \"\\u043f\\u043e\\u0441\\u043b\\u0435\\u0434\\u0441\\u0442\\u0432\\u0438\\u0435\", \"\\u043f\\u043e\\u0441\\u043b\\u0435\\u0434\\u0441\\u0442\\u0432\\u0438\\u0435\", \"\\u043f\\u043e\\u0441\\u043b\\u0435\\u0434\\u0441\\u0442\\u0432\\u0438\\u0435\", \"\\u043f\\u043e\\u0441\\u043b\\u0435\\u0434\\u0441\\u0442\\u0432\\u0438\\u0435\", \"\\u043f\\u043e\\u0441\\u0442\\u043a\\u0440\\u043e\\u0441\\u0441\\u0438\\u043d\\u0433\", \"\\u043f\\u043e\\u0441\\u0442\\u043a\\u0440\\u043e\\u0441\\u0441\\u0438\\u043d\\u0433\", \"\\u043f\\u043e\\u0441\\u0442\\u0440\\u0430\\u0434\\u0430\\u0432\\u0448\\u0438\\u0439\", \"\\u043f\\u043e\\u0441\\u0442\\u0440\\u0430\\u0434\\u0430\\u0432\\u0448\\u0438\\u0439\", \"\\u043f\\u043e\\u0441\\u0442\\u0440\\u0430\\u0434\\u0430\\u0432\\u0448\\u0438\\u0439\", \"\\u043f\\u043e\\u0441\\u0442\\u0440\\u0430\\u0434\\u0430\\u0432\\u0448\\u0438\\u0439\", \"\\u043f\\u043e\\u0441\\u044b\\u043b\\u043a\\u0430\", \"\\u043f\\u043e\\u0441\\u044b\\u043b\\u043a\\u0430\", \"\\u043f\\u043e\\u0441\\u044b\\u043b\\u043a\\u0430\", \"\\u043f\\u043e\\u0441\\u044b\\u043b\\u043a\\u0430\", \"\\u043f\\u043e\\u0447\\u0442\\u0430\", \"\\u043f\\u043e\\u0447\\u0442\\u0430\", \"\\u043f\\u043e\\u0447\\u0442\\u0430\", \"\\u043f\\u043e\\u0447\\u0442\\u0430\", \"\\u043f\\u043e\\u0447\\u0442\\u0430\\u043b\\u044c\\u043e\\u043d\", \"\\u043f\\u043e\\u0447\\u0442\\u0430\\u043b\\u044c\\u043e\\u043d\", \"\\u043f\\u043e\\u0447\\u0442\\u0430\\u043b\\u044c\\u043e\\u043d\", \"\\u043f\\u043e\\u0447\\u0442\\u0430\\u043b\\u044c\\u043e\\u043d\", \"\\u043f\\u043e\\u0447\\u0442\\u0430\\u043c\\u0442\", \"\\u043f\\u043e\\u0447\\u0442\\u0430\\u043c\\u0442\", \"\\u043f\\u043e\\u0447\\u0442\\u0430\\u043c\\u0442\", \"\\u043f\\u043e\\u0447\\u0442\\u0430\\u0440\\u043e\\u0441\\u0441\\u0438\\u0438\\u0444\\u0435\\u0441\\u0442\", \"\\u043f\\u043e\\u0447\\u0442\\u0430\\u0440\\u043e\\u0441\\u0441\\u0438\\u0438\\u0444\\u0435\\u0441\\u0442\", \"\\u043f\\u043e\\u0447\\u0442\\u0430\\u0440\\u043e\\u0441\\u0441\\u0438\\u044f\", \"\\u043f\\u043e\\u0447\\u0442\\u0430\\u0440\\u043e\\u0441\\u0441\\u0438\\u044f\", \"\\u043f\\u043e\\u0447\\u0442\\u0430\\u0440\\u043e\\u0441\\u0441\\u0438\\u044f\", \"\\u043f\\u043e\\u0447\\u0442\\u0430\\u0440\\u043e\\u0441\\u0441\\u0438\\u044f\", \"\\u043f\\u043e\\u0447\\u0442\\u043e\\u0432\\u044b\\u0439\", \"\\u043f\\u043e\\u0447\\u0442\\u043e\\u0432\\u044b\\u0439\", \"\\u043f\\u043e\\u0447\\u0442\\u043e\\u0432\\u044b\\u0439\", \"\\u043f\\u043e\\u0447\\u0442\\u043e\\u0432\\u044b\\u0439\", \"\\u043f\\u0440\\u0430\\u0432\\u0438\\u043b\\u043e\", \"\\u043f\\u0440\\u0430\\u0432\\u0438\\u043b\\u043e\", \"\\u043f\\u0440\\u0430\\u0432\\u0438\\u043b\\u043e\", \"\\u043f\\u0440\\u0430\\u0432\\u0438\\u043b\\u043e\", \"\\u043f\\u0440\\u0435\\u0437\\u0438\\u0434\\u0435\\u043d\\u0442\", \"\\u043f\\u0440\\u0435\\u0437\\u0438\\u0434\\u0435\\u043d\\u0442\", \"\\u043f\\u0440\\u0435\\u0437\\u0438\\u0434\\u0435\\u043d\\u0442\", \"\\u043f\\u0440\\u0435\\u0437\\u0438\\u0434\\u0435\\u043d\\u0442\", \"\\u043f\\u0440\\u0438\\u043c\\u0438\\u0440\\u0435\\u043d\\u0438\\u0435\", \"\\u043f\\u0440\\u0438\\u043c\\u0438\\u0440\\u0435\\u043d\\u0438\\u0435\", \"\\u043f\\u0440\\u0438\\u043c\\u0438\\u0440\\u0435\\u043d\\u0438\\u0435\", \"\\u043f\\u0440\\u0438\\u043c\\u0438\\u0440\\u0435\\u043d\\u0438\\u0435\", \"\\u043f\\u0440\\u0438\\u043d\\u0438\\u043c\\u0430\\u0442\\u044c\", \"\\u043f\\u0440\\u0438\\u043d\\u0438\\u043c\\u0430\\u0442\\u044c\", \"\\u043f\\u0440\\u0438\\u043d\\u0438\\u043c\\u0430\\u0442\\u044c\", \"\\u043f\\u0440\\u0438\\u043d\\u0438\\u043c\\u0430\\u0442\\u044c\", \"\\u043f\\u0440\\u043e\\u0432\\u0430\\u043b\\u0438\\u0432\\u0430\\u0442\\u044c\\u0441\\u044f\", \"\\u043f\\u0440\\u043e\\u0432\\u0430\\u043b\\u0438\\u0432\\u0430\\u0442\\u044c\\u0441\\u044f\", \"\\u043f\\u0440\\u043e\\u0432\\u0430\\u043b\\u0438\\u0432\\u0430\\u0442\\u044c\\u0441\\u044f\", \"\\u043f\\u0440\\u043e\\u0442\\u0438\\u0432\\u043d\\u0438\\u043a\", \"\\u043f\\u0440\\u043e\\u0442\\u0438\\u0432\\u043d\\u0438\\u043a\", \"\\u043f\\u0440\\u043e\\u0442\\u0438\\u0432\\u043d\\u0438\\u043a\", \"\\u043f\\u0440\\u043e\\u0442\\u0438\\u0432\\u043d\\u0438\\u043a\", \"\\u043f\\u0440\\u043e\\u0442\\u0438\\u0432\\u043e\\u043b\\u043e\\u0434\\u043e\\u0447\\u043d\\u044b\\u0439\", \"\\u043f\\u0440\\u043e\\u0442\\u0438\\u0432\\u043e\\u043b\\u043e\\u0434\\u043e\\u0447\\u043d\\u044b\\u0439\", \"\\u043f\\u0440\\u043e\\u0442\\u0438\\u0432\\u043e\\u043b\\u043e\\u0434\\u043e\\u0447\\u043d\\u044b\\u0439\", \"\\u043f\\u0440\\u043e\\u0442\\u0438\\u0432\\u043e\\u043b\\u043e\\u0434\\u043e\\u0447\\u043d\\u044b\\u0439\", \"\\u043f\\u0440\\u043e\\u0445\\u043e\\u0434\\u0438\\u0442\\u044c\", \"\\u043f\\u0440\\u043e\\u0445\\u043e\\u0434\\u0438\\u0442\\u044c\", \"\\u043f\\u0440\\u043e\\u0445\\u043e\\u0434\\u0438\\u0442\\u044c\", \"\\u043f\\u0440\\u043e\\u0445\\u043e\\u0434\\u0438\\u0442\\u044c\", \"\\u043f\\u0443\\u0441\\u043a\", \"\\u043f\\u0443\\u0441\\u043a\", \"\\u043f\\u0443\\u0441\\u043a\", \"\\u043f\\u0443\\u0441\\u043a\", \"\\u043f\\u0443\\u0442\\u0438\\u043d\", \"\\u043f\\u0443\\u0442\\u0438\\u043d\", \"\\u043f\\u0443\\u0442\\u0438\\u043d\", \"\\u043f\\u0443\\u0442\\u0438\\u043d\", \"\\u043f\\u0443\\u0447\\u043e\\u043a\", \"\\u043f\\u0443\\u0447\\u043e\\u043a\", \"\\u043f\\u0443\\u0447\\u043e\\u043a\", \"\\u043f\\u0443\\u0447\\u043e\\u043a\", \"\\u0440\\u0430\\u0431\\u043e\\u0442\\u0430\", \"\\u0440\\u0430\\u0431\\u043e\\u0442\\u0430\", \"\\u0440\\u0430\\u0431\\u043e\\u0442\\u0430\", \"\\u0440\\u0430\\u0431\\u043e\\u0442\\u0430\", \"\\u0440\\u0430\\u0437\\u0432\\u0438\\u0442\\u0438\\u0435\", \"\\u0440\\u0430\\u0437\\u0432\\u0438\\u0442\\u0438\\u0435\", \"\\u0440\\u0430\\u0437\\u0432\\u0438\\u0442\\u0438\\u0435\", \"\\u0440\\u0430\\u0437\\u0432\\u0438\\u0442\\u0438\\u0435\", \"\\u0440\\u0430\\u0439\\u043e\\u043d\", \"\\u0440\\u0430\\u0439\\u043e\\u043d\", \"\\u0440\\u0430\\u0439\\u043e\\u043d\", \"\\u0440\\u0430\\u0439\\u043e\\u043d\", \"\\u0440\\u0430\\u043a\\u0435\\u0442\\u0430\", \"\\u0440\\u0430\\u043a\\u0435\\u0442\\u0430\", \"\\u0440\\u0430\\u043a\\u0435\\u0442\\u0430\", \"\\u0440\\u0430\\u043a\\u0435\\u0442\\u0430\", \"\\u0440\\u0430\\u043a\\u0435\\u0442\\u043d\\u044b\\u0439\", \"\\u0440\\u0430\\u043a\\u0435\\u0442\\u043d\\u044b\\u0439\", \"\\u0440\\u0430\\u043a\\u0435\\u0442\\u043d\\u044b\\u0439\", \"\\u0440\\u0430\\u043a\\u0435\\u0442\\u043d\\u044b\\u0439\", \"\\u0440\\u0430\\u0441\\u0441\\u043c\\u0430\\u0442\\u0440\\u0438\\u0432\\u0430\\u0442\\u044c\", \"\\u0440\\u0430\\u0441\\u0441\\u043c\\u0430\\u0442\\u0440\\u0438\\u0432\\u0430\\u0442\\u044c\", \"\\u0440\\u0430\\u0441\\u0441\\u043c\\u0430\\u0442\\u0440\\u0438\\u0432\\u0430\\u0442\\u044c\", \"\\u0440\\u0430\\u0441\\u0441\\u043c\\u0430\\u0442\\u0440\\u0438\\u0432\\u0430\\u0442\\u044c\", \"\\u0440\\u0435\\u0430\\u043b\\u0438\\u0437\\u0430\\u0446\\u0438\\u044f\", \"\\u0440\\u0435\\u0430\\u043b\\u0438\\u0437\\u0430\\u0446\\u0438\\u044f\", \"\\u0440\\u0435\\u0430\\u043b\\u0438\\u0437\\u0430\\u0446\\u0438\\u044f\", \"\\u0440\\u0435\\u0430\\u043b\\u0438\\u0437\\u0430\\u0446\\u0438\\u044f\", \"\\u0440\\u0435\\u0431\\u0435\\u043d\\u043e\\u043a\", \"\\u0440\\u0435\\u0431\\u0435\\u043d\\u043e\\u043a\", \"\\u0440\\u0435\\u0431\\u0435\\u043d\\u043e\\u043a\", \"\\u0440\\u0435\\u0431\\u0435\\u043d\\u043e\\u043a\", \"\\u0440\\u0435\\u043a\\u0430\", \"\\u0440\\u0435\\u043a\\u0430\", \"\\u0440\\u0435\\u043a\\u0430\", \"\\u0440\\u0435\\u043a\\u0430\", \"\\u0440\\u0435\\u0441\\u043f\\u0443\\u0431\\u043b\\u0438\\u043a\\u0430\", \"\\u0440\\u0435\\u0441\\u043f\\u0443\\u0431\\u043b\\u0438\\u043a\\u0430\", \"\\u0440\\u0435\\u0441\\u043f\\u0443\\u0431\\u043b\\u0438\\u043a\\u0430\", \"\\u0440\\u0435\\u0441\\u043f\\u0443\\u0431\\u043b\\u0438\\u043a\\u0430\", \"\\u0440\\u043e\\u0441\\u0441\\u0438\\u0439\\u0441\\u043a\\u0438\\u0439\", \"\\u0440\\u043e\\u0441\\u0441\\u0438\\u0439\\u0441\\u043a\\u0438\\u0439\", \"\\u0440\\u043e\\u0441\\u0441\\u0438\\u0439\\u0441\\u043a\\u0438\\u0439\", \"\\u0440\\u043e\\u0441\\u0441\\u0438\\u0439\\u0441\\u043a\\u0438\\u0439\", \"\\u0440\\u043e\\u0441\\u0441\\u0438\\u044f\", \"\\u0440\\u043e\\u0441\\u0441\\u0438\\u044f\", \"\\u0440\\u043e\\u0441\\u0441\\u0438\\u044f\", \"\\u0440\\u043e\\u0441\\u0441\\u0438\\u044f\", \"\\u0440\\u0444\", \"\\u0440\\u0444\", \"\\u0440\\u0444\", \"\\u0440\\u0444\", \"\\u0440\\u044b\\u0431\\u0430\\u043a\", \"\\u0440\\u044b\\u0431\\u0430\\u043a\", \"\\u0440\\u044b\\u0431\\u0430\\u043a\", \"\\u0440\\u044b\\u0431\\u0430\\u043a\", \"\\u0440\\u044b\\u0431\\u0430\\u043b\\u043a\\u0430\", \"\\u0440\\u044b\\u0431\\u0430\\u043b\\u043a\\u0430\", \"\\u0441\\u0430\\u0439\\u0442\", \"\\u0441\\u0430\\u0439\\u0442\", \"\\u0441\\u0430\\u0439\\u0442\", \"\\u0441\\u0430\\u0439\\u0442\", \"\\u0441\\u0430\\u043c\\u043e\\u043b\\u0435\\u0442\", \"\\u0441\\u0430\\u043c\\u043e\\u043b\\u0435\\u0442\", \"\\u0441\\u0430\\u043c\\u043e\\u043b\\u0435\\u0442\", \"\\u0441\\u0430\\u043c\\u043e\\u043b\\u0435\\u0442\", \"\\u0441\\u0430\\u043c\\u043e\\u0445\\u043e\\u0434\\u043d\\u044b\\u0439\", \"\\u0441\\u0430\\u043c\\u043e\\u0445\\u043e\\u0434\\u043d\\u044b\\u0439\", \"\\u0441\\u0430\\u043c\\u043e\\u0445\\u043e\\u0434\\u043d\\u044b\\u0439\", \"\\u0441\\u0430\\u043c\\u044b\\u0439\", \"\\u0441\\u0430\\u043c\\u044b\\u0439\", \"\\u0441\\u0430\\u043c\\u044b\\u0439\", \"\\u0441\\u0430\\u043c\\u044b\\u0439\", \"\\u0441\\u0435\\u0433\\u043e\\u0434\\u043d\\u044f\", \"\\u0441\\u0435\\u0433\\u043e\\u0434\\u043d\\u044f\", \"\\u0441\\u0435\\u0433\\u043e\\u0434\\u043d\\u044f\", \"\\u0441\\u0435\\u0433\\u043e\\u0434\\u043d\\u044f\", \"\\u0441\\u0435\\u043a\\u0440\\u0435\\u0442\\u0430\\u0440\\u044c\", \"\\u0441\\u0435\\u043a\\u0440\\u0435\\u0442\\u0430\\u0440\\u044c\", \"\\u0441\\u0435\\u0440\\u0433\\u0435\\u0439\", \"\\u0441\\u0435\\u0440\\u0433\\u0435\\u0439\", \"\\u0441\\u0435\\u0440\\u0433\\u0435\\u0439\", \"\\u0441\\u0435\\u0440\\u0433\\u0435\\u0439\", \"\\u0441\\u0438\\u043b\\u0430\", \"\\u0441\\u0438\\u043b\\u0430\", \"\\u0441\\u0438\\u043b\\u0430\", \"\\u0441\\u0438\\u043b\\u0430\", \"\\u0441\\u0438\\u0440\\u0438\\u0439\\u0441\\u043a\\u0438\\u0439\", \"\\u0441\\u0438\\u0440\\u0438\\u0439\\u0441\\u043a\\u0438\\u0439\", \"\\u0441\\u0438\\u0440\\u0438\\u0439\\u0441\\u043a\\u0438\\u0439\", \"\\u0441\\u0438\\u0440\\u0438\\u0439\\u0441\\u043a\\u0438\\u0439\", \"\\u0441\\u0438\\u0440\\u0438\\u044f\", \"\\u0441\\u0438\\u0440\\u0438\\u044f\", \"\\u0441\\u0438\\u0440\\u0438\\u044f\", \"\\u0441\\u0438\\u0440\\u0438\\u044f\", \"\\u0441\\u0438\\u0442\\u0443\\u0430\\u0446\\u0438\\u044f\", \"\\u0441\\u0438\\u0442\\u0443\\u0430\\u0446\\u0438\\u044f\", \"\\u0441\\u0438\\u0442\\u0443\\u0430\\u0446\\u0438\\u044f\", \"\\u0441\\u0438\\u0442\\u0443\\u0430\\u0446\\u0438\\u044f\", \"\\u0441\\u043c\", \"\\u0441\\u043c\", \"\\u0441\\u043c\", \"\\u0441\\u043c\", \"\\u0441\\u043d\\u0430\\u0439\\u043f\\u0435\\u0440\", \"\\u0441\\u043d\\u0430\\u0439\\u043f\\u0435\\u0440\", \"\\u0441\\u043d\\u0430\\u0439\\u043f\\u0435\\u0440\", \"\\u0441\\u043d\\u0430\\u0439\\u043f\\u0435\\u0440\", \"\\u0441\\u043e\\u0432\\u0435\\u0449\\u0430\\u043d\\u0438\\u0435\", \"\\u0441\\u043e\\u0432\\u0435\\u0449\\u0430\\u043d\\u0438\\u0435\", \"\\u0441\\u043e\\u0432\\u0435\\u0449\\u0430\\u043d\\u0438\\u0435\", \"\\u0441\\u043e\\u0432\\u0435\\u0449\\u0430\\u043d\\u0438\\u0435\", \"\\u0441\\u043e\\u0433\\u043b\\u0430\\u0448\\u0435\\u043d\\u0438\\u0435\", \"\\u0441\\u043e\\u0433\\u043b\\u0430\\u0448\\u0435\\u043d\\u0438\\u0435\", \"\\u0441\\u043e\\u0433\\u043b\\u0430\\u0448\\u0435\\u043d\\u0438\\u0435\", \"\\u0441\\u043e\\u0433\\u043b\\u0430\\u0448\\u0435\\u043d\\u0438\\u0435\", \"\\u0441\\u043e\\u0435\\u0434\\u0438\\u043d\\u0435\\u043d\\u0438\\u0435\", \"\\u0441\\u043e\\u0435\\u0434\\u0438\\u043d\\u0435\\u043d\\u0438\\u0435\", \"\\u0441\\u043e\\u0435\\u0434\\u0438\\u043d\\u0435\\u043d\\u0438\\u0435\", \"\\u0441\\u043e\\u0435\\u0434\\u0438\\u043d\\u0435\\u043d\\u0438\\u0435\", \"\\u0441\\u043e\\u0437\\u043d\\u0430\\u043d\\u0438\\u0435\", \"\\u0441\\u043e\\u0437\\u043d\\u0430\\u043d\\u0438\\u0435\", \"\\u0441\\u043e\\u0441\\u0442\\u0430\\u0432\", \"\\u0441\\u043e\\u0441\\u0442\\u0430\\u0432\", \"\\u0441\\u043e\\u0441\\u0442\\u0430\\u0432\", \"\\u0441\\u043e\\u0441\\u0442\\u0430\\u0432\", \"\\u0441\\u043e\\u0442\\u0440\\u0443\\u0434\\u043d\\u0438\\u043a\", \"\\u0441\\u043e\\u0442\\u0440\\u0443\\u0434\\u043d\\u0438\\u043a\", \"\\u0441\\u043e\\u0442\\u0440\\u0443\\u0434\\u043d\\u0438\\u043a\", \"\\u0441\\u043e\\u0442\\u0440\\u0443\\u0434\\u043d\\u0438\\u043a\", \"\\u0441\\u043e\\u0442\\u0440\\u0443\\u0434\\u043d\\u0438\\u0447\\u0435\\u0441\\u0442\\u0432\\u043e\", \"\\u0441\\u043e\\u0442\\u0440\\u0443\\u0434\\u043d\\u0438\\u0447\\u0435\\u0441\\u0442\\u0432\\u043e\", \"\\u0441\\u043e\\u0442\\u0440\\u0443\\u0434\\u043d\\u0438\\u0447\\u0435\\u0441\\u0442\\u0432\\u043e\", \"\\u0441\\u043e\\u0442\\u0440\\u0443\\u0434\\u043d\\u0438\\u0447\\u0435\\u0441\\u0442\\u0432\\u043e\", \"\\u0441\\u043f\\u0430\\u0441\\u0430\\u0442\\u0435\\u043b\\u044c\", \"\\u0441\\u043f\\u0430\\u0441\\u0430\\u0442\\u0435\\u043b\\u044c\", \"\\u0441\\u043f\\u0430\\u0441\\u0430\\u0442\\u0435\\u043b\\u044c\", \"\\u0441\\u043f\\u0430\\u0441\\u0430\\u0442\\u0435\\u043b\\u044c\", \"\\u0441\\u043f\\u0430\\u0441\\u0430\\u0442\\u0435\\u043b\\u044c\\u043d\\u044b\\u0439\", \"\\u0441\\u043f\\u0430\\u0441\\u0430\\u0442\\u0435\\u043b\\u044c\\u043d\\u044b\\u0439\", \"\\u0441\\u043f\\u0430\\u0441\\u0430\\u0442\\u0435\\u043b\\u044c\\u043d\\u044b\\u0439\", \"\\u0441\\u043f\\u0430\\u0441\\u0430\\u0442\\u0435\\u043b\\u044c\\u043d\\u044b\\u0439\", \"\\u0441\\u043f\\u0430\\u0441\\u0430\\u0442\\u044c\", \"\\u0441\\u043f\\u0430\\u0441\\u0430\\u0442\\u044c\", \"\\u0441\\u043f\\u0430\\u0441\\u0430\\u0442\\u044c\", \"\\u0441\\u043f\\u0430\\u0441\\u0430\\u0442\\u044c\", \"\\u0441\\u0442\\u0430\\u043d\\u043e\\u0432\\u0438\\u0442\\u044c\\u0441\\u044f\", \"\\u0441\\u0442\\u0430\\u043d\\u043e\\u0432\\u0438\\u0442\\u044c\\u0441\\u044f\", \"\\u0441\\u0442\\u0430\\u043d\\u043e\\u0432\\u0438\\u0442\\u044c\\u0441\\u044f\", \"\\u0441\\u0442\\u0430\\u043d\\u043e\\u0432\\u0438\\u0442\\u044c\\u0441\\u044f\", \"\\u0441\\u0442\\u0435\\u043d\\u0434\", \"\\u0441\\u0442\\u0435\\u043d\\u0434\", \"\\u0441\\u0442\\u0435\\u043d\\u0434\", \"\\u0441\\u0442\\u0435\\u043d\\u0434\", \"\\u0441\\u0442\\u043e\\u0438\\u043c\\u043e\\u0441\\u0442\\u044c\", \"\\u0441\\u0442\\u043e\\u0438\\u043c\\u043e\\u0441\\u0442\\u044c\", \"\\u0441\\u0442\\u043e\\u0440\\u043e\\u043d\\u0430\", \"\\u0441\\u0442\\u043e\\u0440\\u043e\\u043d\\u0430\", \"\\u0441\\u0442\\u043e\\u0440\\u043e\\u043d\\u0430\", \"\\u0441\\u0442\\u043e\\u0440\\u043e\\u043d\\u0430\", \"\\u0441\\u0442\\u0440\\u0430\\u043d\\u0430\", \"\\u0441\\u0442\\u0440\\u0430\\u043d\\u0430\", \"\\u0441\\u0442\\u0440\\u0430\\u043d\\u0430\", \"\\u0441\\u0442\\u0440\\u0430\\u043d\\u0430\", \"\\u0441\\u0442\\u0440\\u0435\\u043b\\u044c\\u0431\\u0430\", \"\\u0441\\u0442\\u0440\\u0435\\u043b\\u044c\\u0431\\u0430\", \"\\u0441\\u0442\\u0440\\u0435\\u043b\\u044c\\u0431\\u0430\", \"\\u0441\\u0442\\u0440\\u0435\\u043b\\u044c\\u0431\\u0430\", \"\\u0441\\u0443\", \"\\u0441\\u0443\", \"\\u0441\\u0443\", \"\\u0441\\u0443\", \"\\u0441\\u0444\", \"\\u0441\\u0444\", \"\\u0441\\u0444\", \"\\u0441\\u0444\", \"\\u0441\\u0444\\u0435\\u0440\\u0430\", \"\\u0441\\u0444\\u0435\\u0440\\u0430\", \"\\u0441\\u0444\\u0435\\u0440\\u0430\", \"\\u0441\\u0444\\u0435\\u0440\\u0430\", \"\\u0441\\u0445\\u0432\\u0430\\u0442\\u044b\\u0432\\u0430\\u0442\\u044c\", \"\\u0441\\u0445\\u0432\\u0430\\u0442\\u044b\\u0432\\u0430\\u0442\\u044c\", \"\\u0441\\u0445\\u0432\\u0430\\u0442\\u044b\\u0432\\u0430\\u0442\\u044c\", \"\\u0442\\u0430\\u043a\\u0442\\u0438\\u0447\\u0435\\u0441\\u043a\\u0438\\u0439\", \"\\u0442\\u0430\\u043a\\u0442\\u0438\\u0447\\u0435\\u0441\\u043a\\u0438\\u0439\", \"\\u0442\\u0430\\u043a\\u0442\\u0438\\u0447\\u0435\\u0441\\u043a\\u0438\\u0439\", \"\\u0442\\u0430\\u043a\\u0442\\u0438\\u0447\\u0435\\u0441\\u043a\\u0438\\u0439\", \"\\u0442\\u0430\\u043d\\u043a\", \"\\u0442\\u0430\\u043d\\u043a\", \"\\u0442\\u0430\\u043d\\u043a\", \"\\u0442\\u0430\\u043d\\u043a\", \"\\u0442\\u0435\\u043a\\u0441\\u0442\", \"\\u0442\\u0435\\u043a\\u0441\\u0442\", \"\\u0442\\u0435\\u043a\\u0441\\u0442\", \"\\u0442\\u0435\\u043a\\u0441\\u0442\", \"\\u0442\\u0435\\u0445\\u043d\\u0438\\u043a\\u0430\", \"\\u0442\\u0435\\u0445\\u043d\\u0438\\u043a\\u0430\", \"\\u0442\\u0435\\u0445\\u043d\\u0438\\u043a\\u0430\", \"\\u0442\\u0435\\u0445\\u043d\\u0438\\u043a\\u0430\", \"\\u0442\\u0438\\u0440\\u0430\\u0436\", \"\\u0442\\u0438\\u0440\\u0430\\u0436\", \"\\u0442\\u0438\\u0440\\u0430\\u0436\", \"\\u0442\\u043e\\u043d\\u0443\\u0442\\u044c\", \"\\u0442\\u043e\\u043d\\u0443\\u0442\\u044c\", \"\\u0442\\u043e\\u043d\\u0443\\u0442\\u044c\", \"\\u0442\\u043e\\u043d\\u0443\\u0442\\u044c\", \"\\u0442\\u043e\\u0444\", \"\\u0442\\u043e\\u0444\", \"\\u0442\\u043e\\u0444\", \"\\u0442\\u043e\\u0444\", \"\\u0443\\u043f\\u0430\\u0441\\u0442\\u044c\", \"\\u0443\\u043f\\u0430\\u0441\\u0442\\u044c\", \"\\u0443\\u043f\\u0430\\u0441\\u0442\\u044c\", \"\\u0443\\u0441\\u043b\\u043e\\u0432\\u043d\\u044b\\u0439\", \"\\u0443\\u0441\\u043b\\u043e\\u0432\\u043d\\u044b\\u0439\", \"\\u0443\\u0441\\u043b\\u043e\\u0432\\u043d\\u044b\\u0439\", \"\\u0443\\u0441\\u043b\\u043e\\u0432\\u043d\\u044b\\u0439\", \"\\u0443\\u0441\\u043b\\u0443\\u0433\\u0430\", \"\\u0443\\u0441\\u043b\\u0443\\u0433\\u0430\", \"\\u0443\\u0441\\u043b\\u0443\\u0433\\u0430\", \"\\u0443\\u0441\\u043b\\u0443\\u0433\\u0430\", \"\\u0443\\u0441\\u043b\\u0443\\u0433\\u0438\\u043f\\u043e\\u0447\\u0442\\u0430\", \"\\u0443\\u0441\\u043b\\u0443\\u0433\\u0438\\u043f\\u043e\\u0447\\u0442\\u0430\", \"\\u0443\\u0441\\u043b\\u0443\\u0433\\u0438\\u043f\\u043e\\u0447\\u0442\\u0430\", \"\\u0443\\u0447\\u0430\\u0441\\u0442\\u0438\\u0435\", \"\\u0443\\u0447\\u0430\\u0441\\u0442\\u0438\\u0435\", \"\\u0443\\u0447\\u0430\\u0441\\u0442\\u0438\\u0435\", \"\\u0443\\u0447\\u0430\\u0441\\u0442\\u0438\\u0435\", \"\\u0443\\u0447\\u0435\\u0431\\u043d\\u044b\\u0439\", \"\\u0443\\u0447\\u0435\\u0431\\u043d\\u044b\\u0439\", \"\\u0443\\u0447\\u0435\\u0431\\u043d\\u044b\\u0439\", \"\\u0443\\u0447\\u0435\\u0431\\u043d\\u044b\\u0439\", \"\\u0443\\u0447\\u0435\\u043d\\u0438\\u0435\", \"\\u0443\\u0447\\u0435\\u043d\\u0438\\u0435\", \"\\u0443\\u0447\\u0435\\u043d\\u0438\\u0435\", \"\\u0443\\u0447\\u0435\\u043d\\u0438\\u0435\", \"\\u0444\\u0435\\u0434\\u0435\\u0440\\u0430\\u0446\\u0438\\u044f\", \"\\u0444\\u0435\\u0434\\u0435\\u0440\\u0430\\u0446\\u0438\\u044f\", \"\\u0444\\u0435\\u0434\\u0435\\u0440\\u0430\\u0446\\u0438\\u044f\", \"\\u0444\\u0435\\u0434\\u0435\\u0440\\u0430\\u0446\\u0438\\u044f\", \"\\u0444\\u0435\\u0441\\u0442\\u0438\\u0432\\u0430\\u043b\\u044c\", \"\\u0444\\u0435\\u0441\\u0442\\u0438\\u0432\\u0430\\u043b\\u044c\", \"\\u0444\\u0435\\u0441\\u0442\\u0438\\u0432\\u0430\\u043b\\u044c\", \"\\u0444\\u0435\\u0441\\u0442\\u0438\\u0432\\u0430\\u043b\\u044c\", \"\\u0444\\u0438\\u043b\\u0430\\u0442\\u0435\\u043b\\u0438\\u044f\", \"\\u0444\\u0438\\u043b\\u0430\\u0442\\u0435\\u043b\\u0438\\u044f\", \"\\u0444\\u0438\\u043b\\u0430\\u0442\\u0435\\u043b\\u0438\\u044f\", \"\\u0444\\u043b\\u043e\\u0442\", \"\\u0444\\u043b\\u043e\\u0442\", \"\\u0444\\u043b\\u043e\\u0442\", \"\\u0444\\u043b\\u043e\\u0442\", \"\\u0444\\u043e\\u043c\\u0438\\u043d\", \"\\u0444\\u043e\\u043c\\u0438\\u043d\", \"\\u0444\\u043e\\u043c\\u0438\\u043d\", \"\\u0444\\u043e\\u0442\\u043e\", \"\\u0444\\u043e\\u0442\\u043e\", \"\\u0444\\u043e\\u0442\\u043e\", \"\\u0444\\u043e\\u0442\\u043e\", \"\\u0444\\u043e\\u0442\\u043e\\u0433\\u0440\\u0430\\u0444\\u0438\\u044f\", \"\\u0444\\u043e\\u0442\\u043e\\u0433\\u0440\\u0430\\u0444\\u0438\\u044f\", \"\\u0444\\u043e\\u0442\\u043e\\u0433\\u0440\\u0430\\u0444\\u0438\\u044f\", \"\\u0444\\u043e\\u0442\\u043e\\u0433\\u0440\\u0430\\u0444\\u0438\\u044f\", \"\\u0445\\u043e\\u0434\", \"\\u0445\\u043e\\u0434\", \"\\u0445\\u043e\\u0434\", \"\\u0445\\u043e\\u0434\", \"\\u0445\\u043e\\u0440\\u043e\\u0448\\u0438\\u0439\", \"\\u0445\\u043e\\u0440\\u043e\\u0448\\u0438\\u0439\", \"\\u0445\\u043e\\u0440\\u043e\\u0448\\u0438\\u0439\", \"\\u0445\\u043e\\u0440\\u043e\\u0448\\u0438\\u0439\", \"\\u0446\\u0435\\u043b\\u044c\", \"\\u0446\\u0435\\u043b\\u044c\", \"\\u0446\\u0435\\u043b\\u044c\", \"\\u0446\\u0435\\u043b\\u044c\", \"\\u0446\\u0435\\u043d\\u0442\\u0440\", \"\\u0446\\u0435\\u043d\\u0442\\u0440\", \"\\u0446\\u0435\\u043d\\u0442\\u0440\", \"\\u0446\\u0435\\u043d\\u0442\\u0440\", \"\\u0447\\u0435\\u043b\\u043e\\u0432\\u0435\\u043a\", \"\\u0447\\u0435\\u043b\\u043e\\u0432\\u0435\\u043a\", \"\\u0447\\u0435\\u043b\\u043e\\u0432\\u0435\\u043a\", \"\\u0447\\u0435\\u043b\\u043e\\u0432\\u0435\\u043a\", \"\\u0447\\u0440\\u0435\\u0437\\u0432\\u044b\\u0447\\u0430\\u0439\\u043d\\u044b\\u0439\", \"\\u0447\\u0440\\u0435\\u0437\\u0432\\u044b\\u0447\\u0430\\u0439\\u043d\\u044b\\u0439\", \"\\u0447\\u0440\\u0435\\u0437\\u0432\\u044b\\u0447\\u0430\\u0439\\u043d\\u044b\\u0439\", \"\\u0447\\u0440\\u0435\\u0437\\u0432\\u044b\\u0447\\u0430\\u0439\\u043d\\u044b\\u0439\", \"\\u0448\\u0430\\u0445\\u0442\\u0430\", \"\\u0448\\u0430\\u0445\\u0442\\u0430\", \"\\u0448\\u0430\\u0445\\u0442\\u0430\", \"\\u0448\\u043e\\u0439\\u0433\\u0443\", \"\\u0448\\u043e\\u0439\\u0433\\u0443\", \"\\u0448\\u043e\\u0439\\u0433\\u0443\", \"\\u0448\\u043e\\u0439\\u0433\\u0443\", \"\\u0448\\u043e\\u0441\", \"\\u0448\\u043e\\u0441\", \"\\u0448\\u0442\\u0435\\u043c\\u043f\\u0435\\u043b\\u044c\", \"\\u0448\\u0442\\u0435\\u043c\\u043f\\u0435\\u043b\\u044c\", \"\\u0448\\u0442\\u0435\\u043c\\u043f\\u0435\\u043b\\u044c\", \"\\u0449\\u0435\\u043d\\u043e\\u043a\", \"\\u0449\\u0435\\u043d\\u043e\\u043a\", \"\\u044d\\u0432\\u0430\\u043a\\u0443\\u0438\\u0440\\u043e\\u0432\\u0430\\u0442\\u044c\", \"\\u044d\\u0432\\u0430\\u043a\\u0443\\u0438\\u0440\\u043e\\u0432\\u0430\\u0442\\u044c\", \"\\u044d\\u0432\\u0430\\u043a\\u0443\\u0438\\u0440\\u043e\\u0432\\u0430\\u0442\\u044c\", \"\\u044d\\u0432\\u0430\\u043a\\u0443\\u0438\\u0440\\u043e\\u0432\\u0430\\u0442\\u044c\", \"\\u044d\\u043a\\u0438\\u043f\\u0430\\u0436\", \"\\u044d\\u043a\\u0438\\u043f\\u0430\\u0436\", \"\\u044d\\u043a\\u0438\\u043f\\u0430\\u0436\", \"\\u044d\\u043a\\u0438\\u043f\\u0430\\u0436\", \"\\u044e\\u0432\\u043e\", \"\\u044e\\u0432\\u043e\", \"\\u044e\\u0432\\u043e\", \"\\u044e\\u0432\\u043e\"]}, \"R\": 30, \"lambda.step\": 0.01, \"plot.opts\": {\"xlab\": \"PC1\", \"ylab\": \"PC2\"}, \"topic.order\": [2, 4, 3, 1]};\n",
       "\n",
       "function LDAvis_load_lib(url, callback){\n",
       "  var s = document.createElement('script');\n",
       "  s.src = url;\n",
       "  s.async = true;\n",
       "  s.onreadystatechange = s.onload = callback;\n",
       "  s.onerror = function(){console.warn(\"failed to load library \" + url);};\n",
       "  document.getElementsByTagName(\"head\")[0].appendChild(s);\n",
       "}\n",
       "\n",
       "if(typeof(LDAvis) !== \"undefined\"){\n",
       "   // already loaded: just create the visualization\n",
       "   !function(LDAvis){\n",
       "       new LDAvis(\"#\" + \"ldavis_el822112620233616134049212\", ldavis_el822112620233616134049212_data);\n",
       "   }(LDAvis);\n",
       "}else if(typeof define === \"function\" && define.amd){\n",
       "   // require.js is available: use it to load d3/LDAvis\n",
       "   require.config({paths: {d3: \"https://cdnjs.cloudflare.com/ajax/libs/d3/3.5.5/d3.min\"}});\n",
       "   require([\"d3\"], function(d3){\n",
       "      window.d3 = d3;\n",
       "      LDAvis_load_lib(\"https://cdn.rawgit.com/bmabey/pyLDAvis/files/ldavis.v1.0.0.js\", function(){\n",
       "        new LDAvis(\"#\" + \"ldavis_el822112620233616134049212\", ldavis_el822112620233616134049212_data);\n",
       "      });\n",
       "    });\n",
       "}else{\n",
       "    // require.js not available: dynamically load d3 & LDAvis\n",
       "    LDAvis_load_lib(\"https://cdnjs.cloudflare.com/ajax/libs/d3/3.5.5/d3.min.js\", function(){\n",
       "         LDAvis_load_lib(\"https://cdn.rawgit.com/bmabey/pyLDAvis/files/ldavis.v1.0.0.js\", function(){\n",
       "                 new LDAvis(\"#\" + \"ldavis_el822112620233616134049212\", ldavis_el822112620233616134049212_data);\n",
       "            })\n",
       "         });\n",
       "}\n",
       "</script>"
      ],
      "text/plain": [
       "<IPython.core.display.HTML object>"
      ]
     },
     "execution_count": 16,
     "metadata": {},
     "output_type": "execute_result"
    }
   ],
   "source": [
    "import pyLDAvis.gensim as gensimvis\n",
    "import pyLDAvis\n",
    "vis_data = gensimvis.prepare(lda, corpus, dictionary)\n",
    "pyLDAvis.display(vis_data)"
   ]
  },
  {
   "cell_type": "markdown",
   "metadata": {
    "collapsed": true
   },
   "source": [
    "## Задание 8\n",
    "Используйте ```fastText``` в режиме классификации. Оцените результаты классификации по стандартным мерам качества и проведите анализ ошибок. Для этого рекомендуем визуализировать матрицу ошибок (confusion matrix). "
   ]
  },
  {
   "cell_type": "code",
   "execution_count": 28,
   "metadata": {
    "collapsed": false
   },
   "outputs": [],
   "source": [
    "import fasttext"
   ]
  },
  {
   "cell_type": "code",
   "execution_count": 8,
   "metadata": {
    "collapsed": false
   },
   "outputs": [],
   "source": [
    "with open('data_for_fasttext.txt', 'w', encoding = 'UTF-8') as f:\n",
    "    for i in train.index:\n",
    "        text = str(df.text[i])\n",
    "        label = str(df.source[i])\n",
    "        f.write(text + ' ' + '__label__' + label + '\\n')"
   ]
  },
  {
   "cell_type": "code",
   "execution_count": 11,
   "metadata": {
    "collapsed": true
   },
   "outputs": [],
   "source": [
    "classifier = fasttext.supervised('data_for_fasttext.txt', 'model', label_prefix='__label__')"
   ]
  },
  {
   "cell_type": "code",
   "execution_count": 27,
   "metadata": {
    "collapsed": false
   },
   "outputs": [],
   "source": [
    "result = classifier.predict([text for text in test.text])"
   ]
  },
  {
   "cell_type": "code",
   "execution_count": 20,
   "metadata": {
    "collapsed": false
   },
   "outputs": [
    {
     "name": "stdout",
     "output_type": "stream",
     "text": [
      "Precision:   0.96\n",
      "Recall:   0.96\n",
      "F1-measure:   0.96\n",
      "...\n",
      "Precision:   0.96\n",
      "Recall:   0.96\n",
      "F1-measure:   0.96\n",
      "...\n",
      "Accuracy:   0.96\n"
     ]
    }
   ],
   "source": [
    "evaluate(result, test.source)"
   ]
  },
  {
   "cell_type": "code",
   "execution_count": 25,
   "metadata": {
    "collapsed": false
   },
   "outputs": [
    {
     "data": {
      "image/png": "[encoded data removed]",
      "text/plain": [
       "<Figure size 1080x1080 with 1 Axes>"
      ]
     },
     "metadata": {},
     "output_type": "display_data"
    }
   ],
   "source": [
    "m = confusion_matrix(test.source, result)\n",
    "\n",
    "labels = ['mchsgov', 'russianpost', 'mil', 'mospolice']\n",
    "plt.figure(figsize = (15,15))\n",
    "sns.heatmap(data=m, annot=True, fmt=\"d\", cbar=False, xticklabels=labels, yticklabels=labels, cmap=\"PuBu\")\n",
    "plt.title(\"Confusion matrix\")\n",
    "plt.show()"
   ]
  },
  {
   "cell_type": "markdown",
   "metadata": {},
   "source": [
    "FastText показал не самую лучшую F-меру. Мы видим, что классификатор присвоил многим текстам МЧС класс московской полиции (возможно, между этими двумя классами больше всего пересечений слов). "
   ]
  },
  {
   "cell_type": "code",
   "execution_count": null,
   "metadata": {
    "collapsed": true
   },
   "outputs": [],
   "source": []
  }
 ],
 "metadata": {
  "kernelspec": {
   "display_name": "Python 3",
   "language": "python",
   "name": "python3"
  },
  "language_info": {
   "codemirror_mode": {
    "name": "ipython",
    "version": 3
   },
   "file_extension": ".py",
   "mimetype": "text/x-python",
   "name": "python",
   "nbconvert_exporter": "python",
   "pygments_lexer": "ipython3",
   "version": "3.6.8"
  }
 },
 "nbformat": 4,
 "nbformat_minor": 2
}
